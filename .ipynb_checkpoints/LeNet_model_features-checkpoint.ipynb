{
 "cells": [
  {
   "cell_type": "markdown",
   "metadata": {},
   "source": [
    "# LeNet Implementation!\n",
    "\n",
    "1. Create a LeNet Model\n",
    "2. Feed in the Augmented data\n",
    "3. Finalize!"
   ]
  },
  {
   "cell_type": "markdown",
   "metadata": {},
   "source": [
    "### Import the necessary packages"
   ]
  },
  {
   "cell_type": "code",
   "execution_count": 1,
   "metadata": {},
   "outputs": [],
   "source": [
    "import torch\n",
    "import torch.nn as nn\n",
    "import torch.nn.functional as F\n",
    "import torch.optim as optim\n",
    "\n",
    "import torchvision\n",
    "import torchvision.transforms as transforms\n",
    "\n",
    "import numpy as np\n",
    "import matplotlib.pyplot as plt\n",
    "from sklearn.model_selection import train_test_split\n",
    "import string\n",
    "\n",
    "import imghdr\n",
    "from PIL import Image\n",
    "from os import listdir\n"
   ]
  },
  {
   "cell_type": "markdown",
   "metadata": {},
   "source": [
    "### Generate the LeNet Model!\n",
    "**Requirements**\n",
    "1. Input 32x32 image\n",
    "2. Must adjust sizes if input is not 32x32"
   ]
  },
  {
   "cell_type": "code",
   "execution_count": 2,
   "metadata": {},
   "outputs": [],
   "source": [
    "class LeNet(nn.Module):\n",
    "    def __init__(self, num_classes, num_features):\n",
    "        super().__init__()\n",
    "\n",
    "        self.conv_layer = nn.Sequential(\n",
    "            nn.Conv2d(3, 6, 5),\n",
    "            nn.ReLU(),\n",
    "            nn.MaxPool2d(2, 2),\n",
    "            nn.Conv2d(6, 16, 5),\n",
    "            nn.ReLU(),\n",
    "            nn.MaxPool2d(2, 2),\n",
    "        )\n",
    "\n",
    "        self.linear = nn.Sequential(\n",
    "            nn.Linear(16 * 5 * 5 + num_features, 120),\n",
    "            nn.ReLU(),\n",
    "            nn.Linear(120, 84),\n",
    "            nn.ReLU(),\n",
    "            nn.Linear(84, num_classes)\n",
    "        )\n",
    "\n",
    "    def forward(self, x, feature):\n",
    "        x = self.conv_layer(x)\n",
    "        x = torch.reshape(x, (x.shape[0], x.shape[1] * x.shape[2] * x.shape[3]))\n",
    "        x = torch.cat((x, feature), 1)\n",
    "        x = self.linear(x)\n",
    "        return x\n"
   ]
  },
  {
   "cell_type": "markdown",
   "metadata": {},
   "source": [
    "### Data handling"
   ]
  },
  {
   "cell_type": "code",
   "execution_count": 3,
   "metadata": {},
   "outputs": [],
   "source": [
    "# Input: Path to a folder of .png files. Let #=dataset num, l = letter represented, v=variation, a=augmentation\n",
    "#     Must be structured s.t. hand#_l_v_a.png\n",
    "# Output: List of .png images and their respective labels\n",
    "def loadImages(path):\n",
    "    imagesList = listdir(path)\n",
    "    imgs = []\n",
    "    labels = []\n",
    "\n",
    "    for image in imagesList:  # iterate over all images in the folder\n",
    "        if imghdr.what(path + image) == 'png':\n",
    "            if (image[6].isalpha()):  # 6th position is the letter\n",
    "                img = Image.open(path + image)\n",
    "                imgs.append(img)\n",
    "                # assumes that filename structure is 'handx_[label]_....'\n",
    "                labels.append(ord(image[6]) - ord('a'))\n",
    "    return imgs, labels\n",
    "\n",
    "\n",
    "# Process the data given input and output images.\n",
    "# Input: all required arguments\n",
    "# Note: LeNet assumes input of 32. Resize is hyperparameter based on dataset.\n",
    "\n",
    "# def process_data(imgs, labels, batch_size=4, channels=3, resize=15, crop_size=32, test_split=0.2):\n",
    "#   transforms_array = applyTransforms(imgs, channels, crop_size, resize=resize)\n",
    "#   train_data, test_data, train_labels, test_labels = train_test_split(transforms_array, labels, test_size=test_split, random_state=42)\n",
    "#   [trainloader, testloader] = train_test_loaders(train_data, train_labels, test_data, test_labels, batch_size)\n",
    "#   return [trainloader, testloader]\n",
    "\n",
    "\n",
    "# Input: the images list (3 channels), crop size, and resize hyperparameters\n",
    "# Output: a tensor array of all the reshaped + resized images\n",
    "def applyTransforms(imgs, crop_size, resize):\n",
    "    # Define the necessary preprocessing transforms\n",
    "    num_imgs = len(imgs)\n",
    "    preprocess = transforms.Compose([\n",
    "        transforms.Resize(resize),  # Hyperparameter\n",
    "        transforms.CenterCrop(crop_size),\n",
    "        transforms.ToTensor(),\n",
    "        transforms.Normalize(mean=[0.485, 0.456, 0.406], std=[\n",
    "                             0.229, 0.224, 0.225]),\n",
    "    ])\n",
    "\n",
    "    # Create tensor array\n",
    "    transforms_array = np.zeros((num_imgs, 3, crop_size, crop_size))\n",
    "    for i in range(num_imgs):\n",
    "        temp = preprocess(imgs[i])\n",
    "        transforms_array[i, :, :, :] = temp\n",
    "\n",
    "    return transforms_array\n",
    "\n",
    "# Input: an image tensor [num_imgs, channels, x_dim, y_dim], test split, and a batch size\n",
    "# Output: a tensor array of all the reshaped + resized images\n",
    "\n",
    "\n",
    "# def train_dev_loaders(transforms_array, test_split=0.2, batch_size=4):\n",
    "#     # Create the training dataand trainloader\n",
    "#     train_data, dev_data, train_labels, dev_labels = train_test_split(\n",
    "#         transforms_array, labels, test_size=test_split, random_state=42)\n",
    "#     train_data_and_labels = []\n",
    "#     for i in range(len(train_data)):\n",
    "#         sample = (torch.Tensor(train_data[i, :, :, :]), train_labels[i])\n",
    "#         train_data_and_labels.append(sample)\n",
    "\n",
    "#     trainloader = torch.utils.data.DataLoader(train_data_and_labels, batch_size=batch_size,\n",
    "#                                               shuffle=True, num_workers=2)\n",
    "\n",
    "#     # Create the developmental data and devloader\n",
    "#     dev_data_and_labels = []\n",
    "#     for i in range(len(dev_data)):\n",
    "#         sample = (torch.Tensor(dev_data[i, :, :, :]), dev_labels[i])\n",
    "#         dev_data_and_labels.append(sample)\n",
    "\n",
    "#     devloader = torch.utils.data.DataLoader(dev_data_and_labels, batch_size=batch_size,\n",
    "#                                             shuffle=False, num_workers=2)\n",
    "#     return [train_data, train_labels, trainloader, dev_data, dev_labels, devloader]\n",
    "\n",
    "# Input: One normalized image\n",
    "# Output: None\n",
    "# Plots the image, assumed to be [3, x_dim, y_dim]\n",
    "\n",
    "\n",
    "def imshow(img):\n",
    "    # Unnormalize the image before showing!\n",
    "    invTrans = transforms.Compose([transforms.Normalize(mean=[0., 0., 0.],\n",
    "                                                        std=[1/0.229, 1/0.224, 1/0.225]),\n",
    "                                   transforms.Normalize(mean=[-0.485, -0.456, -0.406],\n",
    "                                                        std=[1., 1., 1.]),\n",
    "                                   ])\n",
    "    img = invTrans(img)\n",
    "    plt.figure(figsize=(10, 10))\n",
    "    plt.imshow(np.transpose(img, (1, 2, 0)))\n",
    "    plt.show()\n",
    "\n",
    "# Input: list of .png images, their labels, and other default parameters\n",
    "# Output: None\n",
    "# Plots the image, assumed to be [3, x_dim, y_dim]\n",
    "def test_loader(test_data, test_labels, batch_size=4):\n",
    "    # Create the testing data and testloader    \n",
    "    test_data_and_labels = []\n",
    "    for i in range(len(test_data)):\n",
    "        sample = (torch.Tensor(test_data[i][0][:, :, :]), torch.Tensor(test_data[i][1]), test_labels[i])\n",
    "        test_data_and_labels.append(sample)\n",
    "\n",
    "    testloader = torch.utils.data.DataLoader(test_data_and_labels, batch_size=batch_size,\n",
    "                                             shuffle=False, num_workers=2)\n",
    "\n",
    "    test_labels = np.asarray(test_labels)\n",
    "    return test_data, test_labels, testloader\n",
    "\n",
    "# Input: features tuple [num_imgs, channels, x_dim, y_dim, features_length], test split, and a batch size\n",
    "# Output: a tensor array of all the reshaped + resized images\n",
    "def train_dev_test_loaders(transforms_array, labels, test_split=0.2, batch_size=4):\n",
    "  ## Create the training data and trainloader\n",
    "  train_data, dev_data, train_labels, dev_labels = train_test_split(transforms_array, labels, test_size=test_split, random_state=42)\n",
    "\n",
    "  dev_data, test_data, dev_labels, test_labels = train_test_split(dev_data, dev_labels, test_size=0.5, random_state=42)\n",
    "\n",
    "  train_data_and_labels = []\n",
    "  for i in range(len(train_data)):\n",
    "    sample = (torch.Tensor(train_data[i][0][:, :, :]), torch.Tensor(train_data[i][1]), train_labels[i])\n",
    "    train_data_and_labels.append(sample)\n",
    "\n",
    "  trainloader = torch.utils.data.DataLoader(train_data_and_labels, batch_size=batch_size,\n",
    "                                            shuffle=True, num_workers=2)\n",
    "\n",
    "  ## Create the developmental data and devloader\n",
    "  dev_data_and_labels = []\n",
    "  for i in range(len(dev_data)):\n",
    "    sample = (torch.Tensor(dev_data[i][0][:, :, :]), torch.Tensor(dev_data[i][1]), dev_labels[i])\n",
    "    dev_data_and_labels.append(sample)\n",
    "\n",
    "  devloader = torch.utils.data.DataLoader(dev_data_and_labels, batch_size=batch_size,\n",
    "                                            shuffle=False, num_workers=2)\n",
    "  \n",
    "  ## Create the Test data and testloader\n",
    "  test_data_and_labels = []\n",
    "  for i in range(len(test_data)):\n",
    "    sample = (torch.Tensor(test_data[i][0][:, :, :]), torch.Tensor(test_data[i][1]), test_labels[i])\n",
    "    test_data_and_labels.append(sample)\n",
    "\n",
    "  testloader = torch.utils.data.DataLoader(test_data_and_labels, batch_size=batch_size,\n",
    "                                            shuffle=False, num_workers=2)\n",
    "  train_labels = np.asarray(train_labels)\n",
    "  dev_labels = np.asarray(dev_labels)\n",
    "  test_labels = np.asarray(test_labels)\n",
    "  return [train_data, train_labels, trainloader, dev_data, dev_labels, devloader, test_data, test_labels, testloader]\n"
   ]
  },
  {
   "cell_type": "code",
   "execution_count": 4,
   "metadata": {},
   "outputs": [],
   "source": [
    "import torch\n",
    "import numpy as np\n",
    "import torch.nn.functional as F\n",
    "\n",
    "\n",
    "def accuracy(y : np.ndarray, y_hat : np.ndarray) -> np.float64:\n",
    "    \"\"\"Calculate the simple accuracy given two numpy vectors, each with int values\n",
    "    corresponding to each class.\n",
    "\n",
    "    Args:\n",
    "        y (np.ndarray): actual value\n",
    "        y_hat (np.ndarray): predicted value\n",
    "\n",
    "    Returns:\n",
    "        np.float64: accuracy\n",
    "    \"\"\"\n",
    "    ### TODO Implement accuracy function\n",
    "    N = len(y)   \n",
    "    number_correct = N - np.count_nonzero(y - y_hat)\n",
    "    accuracy = number_correct / N\n",
    "    return accuracy\n",
    "\n",
    "\n",
    "def approx_train_acc_and_loss(model, train_data : np.ndarray, train_labels : np.ndarray) -> np.float64:\n",
    "    \"\"\"Given a model, training data and its associated labels, calculate the simple accuracy when the \n",
    "    model is applied to the training dataset.\n",
    "    This function is meant to be run during training to evaluate model training accuracy during training.\n",
    "\n",
    "    Args:\n",
    "        model (pytorch model): model class object.\n",
    "        train_data (np.ndarray): training data\n",
    "        train_labels (np.ndarray): training labels\n",
    "\n",
    "    Returns:\n",
    "        np.float64: simple accuracy\n",
    "    \"\"\"\n",
    "    idxs = np.random.choice(len(train_data), 1, replace=False)\n",
    "    x = torch.from_numpy(np.asarray([train_data[idxs[0]][0]]).astype(np.float32))\n",
    "    features = torch.from_numpy(np.asarray([train_data[idxs[0]][1]]).astype(np.float32))\n",
    "    y = torch.from_numpy(train_labels[idxs])\n",
    "    y = y.long()\n",
    "    logits = model(x, features)\n",
    "    loss = F.cross_entropy(logits, y)\n",
    "    y_pred = torch.max(logits, 1)[1]\n",
    "    return accuracy(train_labels[idxs], y_pred.numpy()), loss.item()\n",
    "\n",
    "\n",
    "def dev_acc_and_loss(model, dev_data : np.ndarray, dev_labels : np.ndarray) -> np.float64:\n",
    "    \"\"\"Given a model, a validation dataset and its associated labels, calcualte the simple accuracy when the\n",
    "    model is applied to the validation dataset.\n",
    "    This function is meant to be run during training to evaluate model validation accuracy.\n",
    "\n",
    "    Args:\n",
    "        model (pytorch model): model class obj\n",
    "        dev_data (np.ndarray): validation data\n",
    "        dev_labels (np.ndarray): validation labels\n",
    "\n",
    "    Returns:\n",
    "        np.float64: simple validation accuracy\n",
    "    \"\"\"\n",
    "    dev_labels = np.asarray(dev_labels)\n",
    "    x = torch.from_numpy(np.asarray([c[0] for c in dev_data]).astype(np.float32))\n",
    "    features = torch.from_numpy(np.asarray([c[1] for c in dev_data]).astype(np.float32))\n",
    "    y = torch.from_numpy(dev_labels.astype(int))\n",
    "    y = y.long()\n",
    "    logits = model(x, features)\n",
    "    loss = F.cross_entropy(logits, y)\n",
    "    y_pred = torch.max(logits, 1)[1]\n",
    "    return accuracy(dev_labels, y_pred.numpy()), loss.item()"
   ]
  },
  {
   "cell_type": "code",
   "execution_count": 5,
   "metadata": {},
   "outputs": [],
   "source": [
    "# Train the model parameters\n",
    "def train_model(trainloader, train_data, train_labels, dev_data, dev_labels, criterion, optimizer, model, num_images, n=20):\n",
    "\n",
    "  for epoch in range(n):  # loop over the dataset multiple times\n",
    "\n",
    "    for i, data in enumerate(trainloader, 0):\n",
    "        # get the inputs; data is a list of [inputs, labels]\n",
    "        inputs, features, labels = data\n",
    "\n",
    "        # zero the parameter gradients\n",
    "        optimizer.zero_grad()\n",
    "\n",
    "        # forward + backward + optimize\n",
    "        outputs = model(inputs, features)\n",
    "        loss = criterion(outputs, labels)\n",
    "        loss.backward()\n",
    "        optimizer.step()\n",
    "\n",
    "        # print statistics\n",
    "        #   running_loss += loss.item()\n",
    "        #   if i % print_schedule == (print_schedule-1):    # print every 200 mini-batches\n",
    "        #       print(f'[{epoch + 1}, {i + 1:5d}] loss: {running_loss / 20:.3f}')\n",
    "        #       running_loss = 0.0\n",
    "    \n",
    "    if epoch % 4 == 0:\n",
    "        train_acc, train_loss = approx_train_acc_and_loss(model, train_data, train_labels)\n",
    "        dev_acc, dev_loss = dev_acc_and_loss(model, dev_data, dev_labels)\n",
    "        step_metrics = {\n",
    "                'step': epoch, \n",
    "                'train_loss': loss.item(), \n",
    "                'train_acc': train_acc,\n",
    "                'dev_loss': dev_loss,\n",
    "                'dev_acc': dev_acc\n",
    "            }\n",
    "\n",
    "        print(f\"On step {epoch}:\\tTrain loss {train_loss}\\t|\\tDev acc is {dev_acc}\")\n",
    "\n",
    "  print('Finished Training')\n",
    "\n",
    "# Test the model on help out dev set\n",
    "def test_model(testloader, model):\n",
    "    correct = 0\n",
    "    total = 0\n",
    "    misclass_ind = []\n",
    "    # since we're not training, we don't need to calculate the gradients for our outputs\n",
    "    with torch.no_grad():\n",
    "        for data in testloader:\n",
    "            images, features, labels = data\n",
    "            # calculate outputs by running images through the network\n",
    "            outputs = model(images, features)\n",
    "            # the class with the highest energy is what we choose as prediction\n",
    "            _, predicted = torch.max(outputs.data, 1)\n",
    "            correct += (predicted == labels).sum().item() # Calculate number correct\n",
    "            if ((predicted != labels).sum().item()) > 0:\n",
    "                incorrect = predicted - labels\n",
    "                for i in range(len(incorrect)):\n",
    "                    if incorrect[i] != 0:\n",
    "                        \n",
    "                        misclass_ind.append(total + i)           \n",
    "                    \n",
    "            total += labels.size(0) # for each batch (size=4), predict the labels\n",
    "\n",
    "\n",
    "    print(f'Accuracy of the network on the {total} test images: {100 * correct // total} %')\n",
    "\n",
    "    return correct, total, misclass_ind\n",
    "\n",
    "# Show number_batches * display_num images\n",
    "def show_true_vs_predicted(testloader, classes, model, num_batches, batch_size):\n",
    "    # print images\n",
    "    dataiter = iter(testloader)\n",
    "    images, features, labels = dataiter.next()\n",
    "\n",
    "    imshow(torchvision.utils.make_grid(images))\n",
    "    print('GroundTruth: ', ' '.join(f'{classes[labels[j]]:5s}' for j in range(num_batches * batch_size)))\n",
    "\n",
    "    outputs = model(images, features)\n",
    "    _, predicted = torch.max(outputs, 1)\n",
    "\n",
    "    print('Predicted: ', ' '.join(f'{classes[predicted[j]]:5s}'\n",
    "                                for j in range(num_batches * batch_size)))\n",
    "\n"
   ]
  },
  {
   "cell_type": "markdown",
   "metadata": {},
   "source": [
    "# Model Training: Data without Augmentation"
   ]
  },
  {
   "cell_type": "code",
   "execution_count": 6,
   "metadata": {
    "scrolled": true
   },
   "outputs": [
    {
     "name": "stdout",
     "output_type": "stream",
     "text": [
      "Total number of images in Dataset is: 650\n",
      "(650, 300)\n",
      "(650, 100)\n",
      "(650,)\n",
      "(650, 401)\n",
      "(650, 3, 32, 32)\n"
     ]
    }
   ],
   "source": [
    "path = \"./handgesturedataset_part1/\"\n",
    "imgs, labels = loadImages(path)\n",
    "print(f\"Total number of images in Dataset is: {len(imgs)}\")\n",
    "batch_size = 4\n",
    "channels = 3\n",
    "xdim = 32\n",
    "ydim = 32\n",
    "\n",
    "transforms_array = applyTransforms(imgs, crop_size=32, resize=15)\n",
    "\n",
    "a = np.load(\"./features/a.npy\")\n",
    "c = np.load(\"./features/c.npy\")\n",
    "cvx = np.load(\"./features/cvx.npy\")\n",
    "features = np.append(a, c, axis=1)\n",
    "features = np.append(features, cvx.reshape(c.shape[0], 1), axis=1)\n",
    "print(a.shape)\n",
    "print(c.shape)\n",
    "print(cvx.shape)\n",
    "print(features.shape)\n",
    "\n",
    "print(transforms_array.shape)"
   ]
  },
  {
   "cell_type": "code",
   "execution_count": 7,
   "metadata": {},
   "outputs": [],
   "source": [
    "# Step 1: Declare the model and associated classes\n",
    "\n",
    "data_list = []\n",
    "for i in range(transforms_array.shape[0]):\n",
    "    data_list.append((transforms_array[i], features[i]))\n",
    "# print(data_list[0])\n",
    "[train_data, train_labels, trainloader, dev_data, dev_labels, devloader, test_data, test_labels, testloader] = train_dev_test_loaders(data_list, labels, test_split=0.2, batch_size=batch_size)\n",
    "classes = list(string.ascii_uppercase)"
   ]
  },
  {
   "cell_type": "code",
   "execution_count": 8,
   "metadata": {},
   "outputs": [
    {
     "data": {
      "image/png": "[encoded data removed]",
      "text/plain": [
       "<Figure size 720x720 with 1 Axes>"
      ]
     },
     "metadata": {
      "needs_background": "light"
     },
     "output_type": "display_data"
    },
    {
     "name": "stdout",
     "output_type": "stream",
     "text": [
      "labels: Y     X     S     B     V     O     A     E    \n"
     ]
    }
   ],
   "source": [
    "# Step 3: Visualize how some of the images look after processing the data\n",
    "def visualize_images(trainloader, num_display, batch_size, xdim, ydim):\n",
    "    dataiter = iter(trainloader)\n",
    "    images = torch.empty((num_display * batch_size, channels, xdim, ydim))\n",
    "    labels = torch.empty((num_display * batch_size), dtype=torch.uint8)\n",
    "    #images, labels = dataiter.next()\n",
    "\n",
    "    start_index = 0\n",
    "    stop_index = batch_size\n",
    "    for i in range(num_display):\n",
    "        image, feature, label = dataiter.next()\n",
    "        images[start_index:stop_index, :, :, :] = image\n",
    "        labels[start_index:stop_index] = label\n",
    "        start_index = stop_index\n",
    "        stop_index += batch_size\n",
    "\n",
    "    imshow(torchvision.utils.make_grid(images))\n",
    "    # print labels\n",
    "    print(\"labels: \" +\n",
    "          ' '.join(f'{classes[labels[j]]:5s}' for j in range(num_display * batch_size)))\n",
    "\n",
    "\n",
    "visualize_images(trainloader, num_display=2,\n",
    "                 batch_size=batch_size, xdim=xdim, ydim=ydim)\n"
   ]
  },
  {
   "cell_type": "code",
   "execution_count": 9,
   "metadata": {},
   "outputs": [],
   "source": [
    "# Step 4: Declare the loss function and optimizer for training\n",
    "lr = 0.001  # Too large suboptimal convergence. Too small is process gets stuck. Find a balance\n",
    "\n",
    "lenet_no_aug = LeNet(len(classes), features.shape[1])\n",
    "criterion = nn.CrossEntropyLoss()\n",
    "optimizer = optim.Adam(lenet_no_aug.parameters(), lr=lr)\n"
   ]
  },
  {
   "cell_type": "code",
   "execution_count": 10,
   "metadata": {},
   "outputs": [
    {
     "name": "stdout",
     "output_type": "stream",
     "text": [
      "On step 0:\tTrain loss 3.626944065093994\t|\tDev acc is 0.06153846153846154\n",
      "On step 4:\tTrain loss 0.033611997961997986\t|\tDev acc is 0.7230769230769231\n",
      "On step 8:\tTrain loss 0.0027864461299031973\t|\tDev acc is 0.9076923076923077\n",
      "On step 12:\tTrain loss 4.768370445162873e-07\t|\tDev acc is 0.9076923076923077\n",
      "On step 16:\tTrain loss 0.0001928620331455022\t|\tDev acc is 0.9384615384615385\n",
      "On step 20:\tTrain loss 0.006492947693914175\t|\tDev acc is 0.9846153846153847\n",
      "On step 24:\tTrain loss 9.7508447652217e-05\t|\tDev acc is 1.0\n",
      "On step 28:\tTrain loss 0.00017331528943032026\t|\tDev acc is 1.0\n",
      "Finished Training\n"
     ]
    }
   ],
   "source": [
    "\n",
    "train_model(trainloader, train_data, train_labels, dev_data, dev_labels, criterion, optimizer,\n",
    "            lenet_no_aug, num_images=len(train_data), n=30)\n"
   ]
  },
  {
   "cell_type": "code",
   "execution_count": 11,
   "metadata": {},
   "outputs": [
    {
     "name": "stdout",
     "output_type": "stream",
     "text": [
      "Evalating on the held-out test set...\n",
      "Accuracy of the network on the 65 test images: 93 %\n",
      "Correct: 61 \n",
      "Total: 65\n"
     ]
    }
   ],
   "source": [
    "print(\"Evalating on the held-out test set...\")\n",
    "correct, total, misclass_ind = test_model(testloader, lenet_no_aug)\n",
    "\n",
    "print(f\"Correct: {correct} \\nTotal: {total}\")\n"
   ]
  },
  {
   "cell_type": "code",
   "execution_count": 12,
   "metadata": {},
   "outputs": [
    {
     "data": {
      "image/png": "[encoded data removed]",
      "text/plain": [
       "<Figure size 720x720 with 1 Axes>"
      ]
     },
     "metadata": {
      "needs_background": "light"
     },
     "output_type": "display_data"
    },
    {
     "name": "stdout",
     "output_type": "stream",
     "text": [
      "GroundTruth:  F     D     I     F    \n",
      "Predicted:  F     D     I     F    \n"
     ]
    }
   ],
   "source": [
    "classes = list(string.ascii_uppercase)\n",
    "show_true_vs_predicted(devloader, classes, lenet_no_aug,\n",
    "                       num_batches=1, batch_size=batch_size)\n"
   ]
  },
  {
   "cell_type": "code",
   "execution_count": 13,
   "metadata": {},
   "outputs": [
    {
     "data": {
      "image/png": "[encoded data removed]",
      "text/plain": [
       "<Figure size 720x720 with 1 Axes>"
      ]
     },
     "metadata": {
      "needs_background": "light"
     },
     "output_type": "display_data"
    },
    {
     "name": "stdout",
     "output_type": "stream",
     "text": [
      "Actual labels: R    \n",
      "predicted labels: R    \n"
     ]
    }
   ],
   "source": [
    "# Visualize some incorrect values:\n",
    "def show_incorrect(misclass_ind, data, labels, model, num_display=1):\n",
    "    if len(misclass_ind) != 0:\n",
    "        images = np.asarray([x[0] for x in data])\n",
    "        features = np.asarray([x[1] for x in data])\n",
    "        incorrect_imgs = torch.Tensor(np.asarray([images[i] for i in misclass_ind]))\n",
    "        incorrect_feat = torch.Tensor(np.asarray([features[i] for i in misclass_ind]))\n",
    "        true_labels = [labels[i] for i in misclass_ind]\n",
    "\n",
    "        outputs = model(incorrect_imgs, incorrect_feat)\n",
    "        _, predicted = torch.max(outputs, 1)\n",
    "\n",
    "        incorrect_imgs = incorrect_imgs[:num_display, :, :, :]\n",
    "        true_labels = true_labels[:num_display]\n",
    "        predicted = predicted[:num_display]\n",
    "        \n",
    "        imshow(torchvision.utils.make_grid(incorrect_imgs))\n",
    "        print(\"Actual labels: \" +\n",
    "              ' '.join(f'{classes[true_labels[j]]:5s}' for j in range(num_display)))\n",
    "        print(\"predicted labels: \" +\n",
    "              ' '.join(f'{classes[predicted[j]]:5s}' for j in range(num_display)))\n",
    "\n",
    "\n",
    "show_incorrect(misclass_ind, dev_data, dev_labels, lenet_no_aug)\n"
   ]
  },
  {
   "cell_type": "code",
   "execution_count": 14,
   "metadata": {},
   "outputs": [],
   "source": [
    "# Save the model!\n",
    "torch.save(lenet_no_aug.state_dict(), \"./models/lenet_no_aug_feat_650\")\n"
   ]
  },
  {
   "cell_type": "markdown",
   "metadata": {},
   "source": [
    "## Part 2: Apply on Data Augmentation Set"
   ]
  },
  {
   "cell_type": "code",
   "execution_count": 15,
   "metadata": {},
   "outputs": [
    {
     "name": "stdout",
     "output_type": "stream",
     "text": [
      "Total number of images in Dataset is: 3900\n",
      "(3900, 300)\n",
      "(3900, 100)\n",
      "(3900, 401)\n",
      "(3900, 3, 32, 32)\n"
     ]
    }
   ],
   "source": [
    "# Step 2: Create the trainloader and testloader instances\n",
    "path = \"./FinalImages/\"\n",
    "imgs, labels = loadImages(path)\n",
    "print(f\"Total number of images in Dataset is: {len(imgs)}\")\n",
    "batch_size = 4\n",
    "channels = 3\n",
    "xdim = 32\n",
    "ydim = 32\n",
    "\n",
    "transforms_array = applyTransforms(imgs, crop_size=32, resize=35)\n",
    "\n",
    "a = np.load(\"./features/aFinal.npy\")\n",
    "c = np.load(\"./features/cFinal.npy\")\n",
    "cvx = np.load(\"./features/cvxFinal.npy\")\n",
    "features = np.append(a, c, axis=1)\n",
    "features = np.append(features, cvx.reshape(c.shape[0], 1), axis=1)\n",
    "print(a.shape)\n",
    "print(c.shape)\n",
    "print(features.shape)\n",
    "\n",
    "print(transforms_array.shape)\n"
   ]
  },
  {
   "cell_type": "code",
   "execution_count": 16,
   "metadata": {},
   "outputs": [],
   "source": [
    "# Step 1: Declare the model and associated classes\n",
    "data_list = []\n",
    "for i in range(transforms_array.shape[0]):\n",
    "    data_list.append((transforms_array[i], features[i]))\n",
    "# print(data_list[0])\n",
    "[train_data, train_labels, trainloader, dev_data, dev_labels, devloader, test_data, test_labels, testloader] = train_dev_test_loaders(data_list, labels, test_split=0.2, batch_size=batch_size)\n",
    "classes = list(string.ascii_uppercase)"
   ]
  },
  {
   "cell_type": "code",
   "execution_count": 17,
   "metadata": {},
   "outputs": [
    {
     "data": {
      "image/png": "[encoded data removed]",
      "text/plain": [
       "<Figure size 720x720 with 1 Axes>"
      ]
     },
     "metadata": {
      "needs_background": "light"
     },
     "output_type": "display_data"
    },
    {
     "name": "stdout",
     "output_type": "stream",
     "text": [
      "labels: W     T     S     P     A     E     A     T    \n"
     ]
    }
   ],
   "source": [
    "# Step 3: Visualize how some of the images look after processing the data\n",
    "visualize_images(trainloader, num_display=2,\n",
    "                 batch_size=batch_size, xdim=xdim, ydim=ydim)\n"
   ]
  },
  {
   "cell_type": "code",
   "execution_count": 18,
   "metadata": {},
   "outputs": [],
   "source": [
    "# Step 4: Declare the loss function and optimizer for training\n",
    "\n",
    "lr = 0.001  # Too large suboptimal convergence. Too small is process gets stuck. Find a balance\n",
    "\n",
    "lenet_with_aug = LeNet(len(classes), features.shape[1])\n",
    "criterion = nn.CrossEntropyLoss()\n",
    "optimizer = optim.Adam(lenet_with_aug.parameters(), lr=lr)\n"
   ]
  },
  {
   "cell_type": "code",
   "execution_count": 19,
   "metadata": {},
   "outputs": [
    {
     "name": "stdout",
     "output_type": "stream",
     "text": [
      "On step 0:\tTrain loss 1.6089352369308472\t|\tDev acc is 0.3564102564102564\n",
      "On step 4:\tTrain loss 0.006902303081005812\t|\tDev acc is 0.6743589743589744\n",
      "On step 8:\tTrain loss 0.0654497742652893\t|\tDev acc is 0.7256410256410256\n",
      "On step 12:\tTrain loss 0.030622411519289017\t|\tDev acc is 0.8076923076923077\n",
      "On step 16:\tTrain loss 0.006740570068359375\t|\tDev acc is 0.7897435897435897\n",
      "On step 20:\tTrain loss 1.823885577323381e-05\t|\tDev acc is 0.8205128205128205\n",
      "On step 24:\tTrain loss 0.2424047589302063\t|\tDev acc is 0.7948717948717948\n",
      "On step 28:\tTrain loss 0.00020549570035655051\t|\tDev acc is 0.8076923076923077\n",
      "Finished Training\n"
     ]
    }
   ],
   "source": [
    "train_model(trainloader, train_data, train_labels, dev_data, dev_labels, criterion, optimizer,\n",
    "            lenet_with_aug, num_images=len(train_data), n=30)\n"
   ]
  },
  {
   "cell_type": "code",
   "execution_count": 20,
   "metadata": {},
   "outputs": [
    {
     "name": "stdout",
     "output_type": "stream",
     "text": [
      "Evalating on the held-out test set...\n",
      "Accuracy of the network on the 390 test images: 85 %\n",
      "[0, 6, 8, 14, 27, 55, 62, 83, 95, 118, 127, 128, 130, 135, 136, 137, 138, 141, 173, 174, 180, 184, 197, 198, 206, 211, 226, 238, 247, 252, 258, 267, 272, 278, 286, 292, 296, 299, 301, 316, 323, 333, 340, 341, 343, 344, 349, 352, 356, 360, 365, 368, 377, 380, 383, 387]\n",
      "Correct: 334 \n",
      "Total: 390\n"
     ]
    }
   ],
   "source": [
    "print(\"Evalating on the held-out test set...\")\n",
    "correct, total, misclass_ind = test_model(testloader, lenet_with_aug)\n",
    "\n",
    "print(misclass_ind)\n",
    "\n",
    "print(f\"Correct: {correct} \\nTotal: {total}\")\n"
   ]
  },
  {
   "cell_type": "code",
   "execution_count": 21,
   "metadata": {
    "scrolled": true
   },
   "outputs": [
    {
     "data": {
      "image/png": "[encoded data removed]",
      "text/plain": [
       "<Figure size 720x720 with 1 Axes>"
      ]
     },
     "metadata": {
      "needs_background": "light"
     },
     "output_type": "display_data"
    },
    {
     "name": "stdout",
     "output_type": "stream",
     "text": [
      "GroundTruth:  N     L     Y     B    \n",
      "Predicted:  N     L     Y     B    \n"
     ]
    }
   ],
   "source": [
    "classes = list(string.ascii_uppercase)\n",
    "show_true_vs_predicted(devloader, classes, lenet_with_aug,\n",
    "                       num_batches=1, batch_size=batch_size)\n"
   ]
  },
  {
   "cell_type": "code",
   "execution_count": 22,
   "metadata": {},
   "outputs": [
    {
     "name": "stderr",
     "output_type": "stream",
     "text": [
      "C:\\Users\\alanz\\AppData\\Local\\Temp\\ipykernel_10512\\112094175.py:6: UserWarning: Creating a tensor from a list of numpy.ndarrays is extremely slow. Please consider converting the list to a single numpy.ndarray with numpy.array() before converting to a tensor. (Triggered internally at  ..\\torch\\csrc\\utils\\tensor_new.cpp:201.)\n",
      "  incorrect_imgs = torch.Tensor([images[i] for i in misclass_ind])\n"
     ]
    },
    {
     "data": {
      "image/png": "[encoded data removed]",
      "text/plain": [
       "<Figure size 720x720 with 1 Axes>"
      ]
     },
     "metadata": {
      "needs_background": "light"
     },
     "output_type": "display_data"
    },
    {
     "name": "stdout",
     "output_type": "stream",
     "text": [
      "Actual labels: R     X     Y     J     W    \n",
      "predicted labels: V     W     P     M     R    \n"
     ]
    }
   ],
   "source": [
    "# Visualize some incorrect values:\n",
    "def show_incorrect(misclass_ind, data, labels, model, num_display=1):\n",
    "    if len(misclass_ind) != 0:\n",
    "        images = np.asarray([x[0] for x in data])\n",
    "        features = np.asarray([x[1] for x in data])\n",
    "        incorrect_imgs = torch.Tensor([images[i] for i in misclass_ind])\n",
    "        incorrect_feat = torch.Tensor([features[i] for i in misclass_ind])\n",
    "        true_labels = [labels[i] for i in misclass_ind]\n",
    "\n",
    "        outputs = model(incorrect_imgs, incorrect_feat)\n",
    "        _, predicted = torch.max(outputs, 1)\n",
    "\n",
    "        incorrect_imgs = incorrect_imgs[:num_display, :, :, :]\n",
    "        true_labels = true_labels[:num_display]\n",
    "        predicted = predicted[:num_display]\n",
    "        \n",
    "        imshow(torchvision.utils.make_grid(incorrect_imgs))\n",
    "        print(\"Actual labels: \" +\n",
    "              ' '.join(f'{classes[true_labels[j]]:5s}' for j in range(num_display)))\n",
    "        print(\"predicted labels: \" +\n",
    "              ' '.join(f'{classes[predicted[j]]:5s}' for j in range(num_display)))\n",
    "\n",
    "\n",
    "show_incorrect(misclass_ind, test_data, test_labels,\n",
    "               lenet_with_aug, num_display=5)\n"
   ]
  },
  {
   "cell_type": "code",
   "execution_count": 23,
   "metadata": {},
   "outputs": [],
   "source": [
    "# Save the model!\n",
    "torch.save(lenet_with_aug.state_dict(), f\"./models/lenet_with_aug_features_3900\")\n"
   ]
  },
  {
   "cell_type": "markdown",
   "metadata": {},
   "source": [
    "### Part 3: Compare each model (trained with vs without augmented data) on newly augmented data"
   ]
  },
  {
   "cell_type": "code",
   "execution_count": 56,
   "metadata": {},
   "outputs": [
    {
     "ename": "TypeError",
     "evalue": "Invalid shape (3, 32, 32) for image data",
     "output_type": "error",
     "traceback": [
      "\u001b[1;31m---------------------------------------------------------------------------\u001b[0m",
      "\u001b[1;31mTypeError\u001b[0m                                 Traceback (most recent call last)",
      "Input \u001b[1;32mIn [56]\u001b[0m, in \u001b[0;36m<cell line: 11>\u001b[1;34m()\u001b[0m\n\u001b[0;32m      8\u001b[0m test_imgs, test_labels \u001b[38;5;241m=\u001b[39m loadImages(path)\n\u001b[0;32m      9\u001b[0m transforms_array_test_data \u001b[38;5;241m=\u001b[39m applyTransforms(test_imgs, crop_size\u001b[38;5;241m=\u001b[39m\u001b[38;5;241m32\u001b[39m, resize\u001b[38;5;241m=\u001b[39m\u001b[38;5;241m35\u001b[39m)\n\u001b[1;32m---> 11\u001b[0m \u001b[43mplt\u001b[49m\u001b[38;5;241;43m.\u001b[39;49m\u001b[43mimshow\u001b[49m\u001b[43m(\u001b[49m\u001b[43mtransforms_array_test_data\u001b[49m\u001b[43m[\u001b[49m\u001b[38;5;241;43m0\u001b[39;49m\u001b[43m]\u001b[49m\u001b[43m)\u001b[49m\n\u001b[0;32m     12\u001b[0m plt\u001b[38;5;241m.\u001b[39mshow\n\u001b[0;32m     14\u001b[0m data_list \u001b[38;5;241m=\u001b[39m []\n",
      "File \u001b[1;32m~\\anaconda3\\lib\\site-packages\\matplotlib\\pyplot.py:2903\u001b[0m, in \u001b[0;36mimshow\u001b[1;34m(X, cmap, norm, aspect, interpolation, alpha, vmin, vmax, origin, extent, filternorm, filterrad, resample, url, data, **kwargs)\u001b[0m\n\u001b[0;32m   2897\u001b[0m \u001b[38;5;129m@_copy_docstring_and_deprecators\u001b[39m(Axes\u001b[38;5;241m.\u001b[39mimshow)\n\u001b[0;32m   2898\u001b[0m \u001b[38;5;28;01mdef\u001b[39;00m \u001b[38;5;21mimshow\u001b[39m(\n\u001b[0;32m   2899\u001b[0m         X, cmap\u001b[38;5;241m=\u001b[39m\u001b[38;5;28;01mNone\u001b[39;00m, norm\u001b[38;5;241m=\u001b[39m\u001b[38;5;28;01mNone\u001b[39;00m, aspect\u001b[38;5;241m=\u001b[39m\u001b[38;5;28;01mNone\u001b[39;00m, interpolation\u001b[38;5;241m=\u001b[39m\u001b[38;5;28;01mNone\u001b[39;00m,\n\u001b[0;32m   2900\u001b[0m         alpha\u001b[38;5;241m=\u001b[39m\u001b[38;5;28;01mNone\u001b[39;00m, vmin\u001b[38;5;241m=\u001b[39m\u001b[38;5;28;01mNone\u001b[39;00m, vmax\u001b[38;5;241m=\u001b[39m\u001b[38;5;28;01mNone\u001b[39;00m, origin\u001b[38;5;241m=\u001b[39m\u001b[38;5;28;01mNone\u001b[39;00m, extent\u001b[38;5;241m=\u001b[39m\u001b[38;5;28;01mNone\u001b[39;00m, \u001b[38;5;241m*\u001b[39m,\n\u001b[0;32m   2901\u001b[0m         filternorm\u001b[38;5;241m=\u001b[39m\u001b[38;5;28;01mTrue\u001b[39;00m, filterrad\u001b[38;5;241m=\u001b[39m\u001b[38;5;241m4.0\u001b[39m, resample\u001b[38;5;241m=\u001b[39m\u001b[38;5;28;01mNone\u001b[39;00m, url\u001b[38;5;241m=\u001b[39m\u001b[38;5;28;01mNone\u001b[39;00m,\n\u001b[0;32m   2902\u001b[0m         data\u001b[38;5;241m=\u001b[39m\u001b[38;5;28;01mNone\u001b[39;00m, \u001b[38;5;241m*\u001b[39m\u001b[38;5;241m*\u001b[39mkwargs):\n\u001b[1;32m-> 2903\u001b[0m     __ret \u001b[38;5;241m=\u001b[39m gca()\u001b[38;5;241m.\u001b[39mimshow(\n\u001b[0;32m   2904\u001b[0m         X, cmap\u001b[38;5;241m=\u001b[39mcmap, norm\u001b[38;5;241m=\u001b[39mnorm, aspect\u001b[38;5;241m=\u001b[39maspect,\n\u001b[0;32m   2905\u001b[0m         interpolation\u001b[38;5;241m=\u001b[39minterpolation, alpha\u001b[38;5;241m=\u001b[39malpha, vmin\u001b[38;5;241m=\u001b[39mvmin,\n\u001b[0;32m   2906\u001b[0m         vmax\u001b[38;5;241m=\u001b[39mvmax, origin\u001b[38;5;241m=\u001b[39morigin, extent\u001b[38;5;241m=\u001b[39mextent,\n\u001b[0;32m   2907\u001b[0m         filternorm\u001b[38;5;241m=\u001b[39mfilternorm, filterrad\u001b[38;5;241m=\u001b[39mfilterrad, resample\u001b[38;5;241m=\u001b[39mresample,\n\u001b[0;32m   2908\u001b[0m         url\u001b[38;5;241m=\u001b[39murl, \u001b[38;5;241m*\u001b[39m\u001b[38;5;241m*\u001b[39m({\u001b[38;5;124m\"\u001b[39m\u001b[38;5;124mdata\u001b[39m\u001b[38;5;124m\"\u001b[39m: data} \u001b[38;5;28;01mif\u001b[39;00m data \u001b[38;5;129;01mis\u001b[39;00m \u001b[38;5;129;01mnot\u001b[39;00m \u001b[38;5;28;01mNone\u001b[39;00m \u001b[38;5;28;01melse\u001b[39;00m {}),\n\u001b[0;32m   2909\u001b[0m         \u001b[38;5;241m*\u001b[39m\u001b[38;5;241m*\u001b[39mkwargs)\n\u001b[0;32m   2910\u001b[0m     sci(__ret)\n\u001b[0;32m   2911\u001b[0m     \u001b[38;5;28;01mreturn\u001b[39;00m __ret\n",
      "File \u001b[1;32m~\\anaconda3\\lib\\site-packages\\matplotlib\\__init__.py:1361\u001b[0m, in \u001b[0;36m_preprocess_data.<locals>.inner\u001b[1;34m(ax, data, *args, **kwargs)\u001b[0m\n\u001b[0;32m   1358\u001b[0m \u001b[38;5;129m@functools\u001b[39m\u001b[38;5;241m.\u001b[39mwraps(func)\n\u001b[0;32m   1359\u001b[0m \u001b[38;5;28;01mdef\u001b[39;00m \u001b[38;5;21minner\u001b[39m(ax, \u001b[38;5;241m*\u001b[39margs, data\u001b[38;5;241m=\u001b[39m\u001b[38;5;28;01mNone\u001b[39;00m, \u001b[38;5;241m*\u001b[39m\u001b[38;5;241m*\u001b[39mkwargs):\n\u001b[0;32m   1360\u001b[0m     \u001b[38;5;28;01mif\u001b[39;00m data \u001b[38;5;129;01mis\u001b[39;00m \u001b[38;5;28;01mNone\u001b[39;00m:\n\u001b[1;32m-> 1361\u001b[0m         \u001b[38;5;28;01mreturn\u001b[39;00m func(ax, \u001b[38;5;241m*\u001b[39m\u001b[38;5;28mmap\u001b[39m(sanitize_sequence, args), \u001b[38;5;241m*\u001b[39m\u001b[38;5;241m*\u001b[39mkwargs)\n\u001b[0;32m   1363\u001b[0m     bound \u001b[38;5;241m=\u001b[39m new_sig\u001b[38;5;241m.\u001b[39mbind(ax, \u001b[38;5;241m*\u001b[39margs, \u001b[38;5;241m*\u001b[39m\u001b[38;5;241m*\u001b[39mkwargs)\n\u001b[0;32m   1364\u001b[0m     auto_label \u001b[38;5;241m=\u001b[39m (bound\u001b[38;5;241m.\u001b[39marguments\u001b[38;5;241m.\u001b[39mget(label_namer)\n\u001b[0;32m   1365\u001b[0m                   \u001b[38;5;129;01mor\u001b[39;00m bound\u001b[38;5;241m.\u001b[39mkwargs\u001b[38;5;241m.\u001b[39mget(label_namer))\n",
      "File \u001b[1;32m~\\anaconda3\\lib\\site-packages\\matplotlib\\axes\\_axes.py:5609\u001b[0m, in \u001b[0;36mAxes.imshow\u001b[1;34m(self, X, cmap, norm, aspect, interpolation, alpha, vmin, vmax, origin, extent, filternorm, filterrad, resample, url, **kwargs)\u001b[0m\n\u001b[0;32m   5604\u001b[0m \u001b[38;5;28mself\u001b[39m\u001b[38;5;241m.\u001b[39mset_aspect(aspect)\n\u001b[0;32m   5605\u001b[0m im \u001b[38;5;241m=\u001b[39m mimage\u001b[38;5;241m.\u001b[39mAxesImage(\u001b[38;5;28mself\u001b[39m, cmap, norm, interpolation, origin, extent,\n\u001b[0;32m   5606\u001b[0m                       filternorm\u001b[38;5;241m=\u001b[39mfilternorm, filterrad\u001b[38;5;241m=\u001b[39mfilterrad,\n\u001b[0;32m   5607\u001b[0m                       resample\u001b[38;5;241m=\u001b[39mresample, \u001b[38;5;241m*\u001b[39m\u001b[38;5;241m*\u001b[39mkwargs)\n\u001b[1;32m-> 5609\u001b[0m \u001b[43mim\u001b[49m\u001b[38;5;241;43m.\u001b[39;49m\u001b[43mset_data\u001b[49m\u001b[43m(\u001b[49m\u001b[43mX\u001b[49m\u001b[43m)\u001b[49m\n\u001b[0;32m   5610\u001b[0m im\u001b[38;5;241m.\u001b[39mset_alpha(alpha)\n\u001b[0;32m   5611\u001b[0m \u001b[38;5;28;01mif\u001b[39;00m im\u001b[38;5;241m.\u001b[39mget_clip_path() \u001b[38;5;129;01mis\u001b[39;00m \u001b[38;5;28;01mNone\u001b[39;00m:\n\u001b[0;32m   5612\u001b[0m     \u001b[38;5;66;03m# image does not already have clipping set, clip to axes patch\u001b[39;00m\n",
      "File \u001b[1;32m~\\anaconda3\\lib\\site-packages\\matplotlib\\image.py:709\u001b[0m, in \u001b[0;36m_ImageBase.set_data\u001b[1;34m(self, A)\u001b[0m\n\u001b[0;32m    705\u001b[0m     \u001b[38;5;28mself\u001b[39m\u001b[38;5;241m.\u001b[39m_A \u001b[38;5;241m=\u001b[39m \u001b[38;5;28mself\u001b[39m\u001b[38;5;241m.\u001b[39m_A[:, :, \u001b[38;5;241m0\u001b[39m]\n\u001b[0;32m    707\u001b[0m \u001b[38;5;28;01mif\u001b[39;00m \u001b[38;5;129;01mnot\u001b[39;00m (\u001b[38;5;28mself\u001b[39m\u001b[38;5;241m.\u001b[39m_A\u001b[38;5;241m.\u001b[39mndim \u001b[38;5;241m==\u001b[39m \u001b[38;5;241m2\u001b[39m\n\u001b[0;32m    708\u001b[0m         \u001b[38;5;129;01mor\u001b[39;00m \u001b[38;5;28mself\u001b[39m\u001b[38;5;241m.\u001b[39m_A\u001b[38;5;241m.\u001b[39mndim \u001b[38;5;241m==\u001b[39m \u001b[38;5;241m3\u001b[39m \u001b[38;5;129;01mand\u001b[39;00m \u001b[38;5;28mself\u001b[39m\u001b[38;5;241m.\u001b[39m_A\u001b[38;5;241m.\u001b[39mshape[\u001b[38;5;241m-\u001b[39m\u001b[38;5;241m1\u001b[39m] \u001b[38;5;129;01min\u001b[39;00m [\u001b[38;5;241m3\u001b[39m, \u001b[38;5;241m4\u001b[39m]):\n\u001b[1;32m--> 709\u001b[0m     \u001b[38;5;28;01mraise\u001b[39;00m \u001b[38;5;167;01mTypeError\u001b[39;00m(\u001b[38;5;124m\"\u001b[39m\u001b[38;5;124mInvalid shape \u001b[39m\u001b[38;5;132;01m{}\u001b[39;00m\u001b[38;5;124m for image data\u001b[39m\u001b[38;5;124m\"\u001b[39m\n\u001b[0;32m    710\u001b[0m                     \u001b[38;5;241m.\u001b[39mformat(\u001b[38;5;28mself\u001b[39m\u001b[38;5;241m.\u001b[39m_A\u001b[38;5;241m.\u001b[39mshape))\n\u001b[0;32m    712\u001b[0m \u001b[38;5;28;01mif\u001b[39;00m \u001b[38;5;28mself\u001b[39m\u001b[38;5;241m.\u001b[39m_A\u001b[38;5;241m.\u001b[39mndim \u001b[38;5;241m==\u001b[39m \u001b[38;5;241m3\u001b[39m:\n\u001b[0;32m    713\u001b[0m     \u001b[38;5;66;03m# If the input data has values outside the valid range (after\u001b[39;00m\n\u001b[0;32m    714\u001b[0m     \u001b[38;5;66;03m# normalisation), we issue a warning and then clip X to the bounds\u001b[39;00m\n\u001b[0;32m    715\u001b[0m     \u001b[38;5;66;03m# - otherwise casting wraps extreme values, hiding outliers and\u001b[39;00m\n\u001b[0;32m    716\u001b[0m     \u001b[38;5;66;03m# making reliable interpretation impossible.\u001b[39;00m\n\u001b[0;32m    717\u001b[0m     high \u001b[38;5;241m=\u001b[39m \u001b[38;5;241m255\u001b[39m \u001b[38;5;28;01mif\u001b[39;00m np\u001b[38;5;241m.\u001b[39missubdtype(\u001b[38;5;28mself\u001b[39m\u001b[38;5;241m.\u001b[39m_A\u001b[38;5;241m.\u001b[39mdtype, np\u001b[38;5;241m.\u001b[39minteger) \u001b[38;5;28;01melse\u001b[39;00m \u001b[38;5;241m1\u001b[39m\n",
      "\u001b[1;31mTypeError\u001b[0m: Invalid shape (3, 32, 32) for image data"
     ]
    },
    {
     "data": {
      "image/png": "[encoded data removed]",
      "text/plain": [
       "<Figure size 432x288 with 1 Axes>"
      ]
     },
     "metadata": {
      "needs_background": "light"
     },
     "output_type": "display_data"
    }
   ],
   "source": [
    "path = './handgesturedataset_part1/'\n",
    "a = np.load(\"./features/aMult.npy\")\n",
    "c = np.load(\"./features/cMult.npy\")\n",
    "cvx = np.load(\"./features/cvxMult.npy\")\n",
    "features = np.append(a, c, axis=1)\n",
    "features = np.append(features, cvx.reshape(c.shape[0], 1), axis=1)\n",
    "\n",
    "test_imgs, test_labels = loadImages(path)\n",
    "transforms_array_test_data = applyTransforms(test_imgs, crop_size=32, resize=35)\n",
    "\n",
    "data_list = []\n",
    "for i in range(transforms_array_test_data.shape[0]):\n",
    "    data_list.append((transforms_array[i], features[i]))\n",
    "test_data, test_labels, testloader = test_loader(data_list, test_labels)\n",
    "\n",
    "visualize_images(testloader, num_display=2,\n",
    "                 batch_size=batch_size, xdim=xdim, ydim=ydim)"
   ]
  },
  {
   "cell_type": "code",
   "execution_count": 48,
   "metadata": {},
   "outputs": [
    {
     "name": "stdout",
     "output_type": "stream",
     "text": [
      "<torch.utils.data.dataloader.DataLoader object at 0x000002313409AA00>\n"
     ]
    },
    {
     "data": {
      "image/png": "[encoded data removed]",
      "text/plain": [
       "<Figure size 720x720 with 1 Axes>"
      ]
     },
     "metadata": {
      "needs_background": "light"
     },
     "output_type": "display_data"
    },
    {
     "name": "stdout",
     "output_type": "stream",
     "text": [
      "labels: A     A     A     A    \n"
     ]
    }
   ],
   "source": [
    "# Step 1: Visualize how some of the images look after processing the data\n",
    "dataiter = iter(testloader)\n",
    "images, features, labels = dataiter.next()\n",
    "\n",
    "imshow(torchvision.utils.make_grid(images))\n",
    "# print labels\n",
    "print(\"labels: \" + ' '.join(f'{classes[labels[j]]:5s}' for j in range(4)))\n"
   ]
  },
  {
   "cell_type": "code",
   "execution_count": 36,
   "metadata": {},
   "outputs": [
    {
     "name": "stdout",
     "output_type": "stream",
     "text": [
      "Accuracy of the network on the 650 test images: 4 %\n"
     ]
    }
   ],
   "source": [
    "lenet_no_aug = LeNet(len(classes), features.shape[1])\n",
    "lenet_no_aug.load_state_dict(torch.load(\"./models/lenet_no_aug_feat_650\"))\n",
    "lenet_no_aug.eval()\n",
    "\n",
    "\n",
    "correct, total, misclass_ind = test_model(testloader, lenet_no_aug)\n",
    "\n"
   ]
  },
  {
   "cell_type": "code",
   "execution_count": 37,
   "metadata": {},
   "outputs": [
    {
     "name": "stdout",
     "output_type": "stream",
     "text": [
      "Accuracy of the network on the 650 test images: 4 %\n"
     ]
    }
   ],
   "source": [
    "lenet_with_aug = LeNet(len(classes), features.shape[1])\n",
    "lenet_with_aug.load_state_dict(torch.load(\"./models/lenet_with_aug_features_3900\"))\n",
    "lenet_with_aug.eval()\n",
    "\n",
    "correct, total, misclass_ind = test_model(testloader, lenet_with_aug)\n"
   ]
  },
  {
   "cell_type": "markdown",
   "metadata": {},
   "source": [
    "### Trish Fish Second Folder"
   ]
  },
  {
   "cell_type": "code",
   "execution_count": 28,
   "metadata": {},
   "outputs": [
    {
     "ename": "IndexError",
     "evalue": "too many indices for array: array is 2-dimensional, but 3 were indexed",
     "output_type": "error",
     "traceback": [
      "\u001b[1;31m---------------------------------------------------------------------------\u001b[0m",
      "\u001b[1;31mIndexError\u001b[0m                                Traceback (most recent call last)",
      "Input \u001b[1;32mIn [28]\u001b[0m, in \u001b[0;36m<cell line: 6>\u001b[1;34m()\u001b[0m\n\u001b[0;32m      3\u001b[0m test_imgs, test_labels \u001b[38;5;241m=\u001b[39m loadImages(path)\n\u001b[0;32m      5\u001b[0m transforms_array_test_data \u001b[38;5;241m=\u001b[39m applyTransforms(test_imgs, crop_size\u001b[38;5;241m=\u001b[39m\u001b[38;5;241m32\u001b[39m, resize\u001b[38;5;241m=\u001b[39m\u001b[38;5;241m35\u001b[39m)\n\u001b[1;32m----> 6\u001b[0m test_data, test_labels, testloader \u001b[38;5;241m=\u001b[39m \u001b[43mtest_loader\u001b[49m\u001b[43m(\u001b[49m\u001b[43mtransforms_array_test_data\u001b[49m\u001b[43m,\u001b[49m\u001b[43m \u001b[49m\u001b[43mtest_labels\u001b[49m\u001b[43m)\u001b[49m\n",
      "Input \u001b[1;32mIn [3]\u001b[0m, in \u001b[0;36mtest_loader\u001b[1;34m(test_data, test_labels, batch_size)\u001b[0m\n\u001b[0;32m     99\u001b[0m test_data_and_labels \u001b[38;5;241m=\u001b[39m []\n\u001b[0;32m    100\u001b[0m \u001b[38;5;28;01mfor\u001b[39;00m i \u001b[38;5;129;01min\u001b[39;00m \u001b[38;5;28mrange\u001b[39m(\u001b[38;5;28mlen\u001b[39m(test_data)):\n\u001b[1;32m--> 101\u001b[0m     sample \u001b[38;5;241m=\u001b[39m (torch\u001b[38;5;241m.\u001b[39mTensor(\u001b[43mtest_data\u001b[49m\u001b[43m[\u001b[49m\u001b[43mi\u001b[49m\u001b[43m]\u001b[49m\u001b[43m[\u001b[49m\u001b[38;5;241;43m0\u001b[39;49m\u001b[43m]\u001b[49m\u001b[43m[\u001b[49m\u001b[43m:\u001b[49m\u001b[43m,\u001b[49m\u001b[43m \u001b[49m\u001b[43m:\u001b[49m\u001b[43m,\u001b[49m\u001b[43m \u001b[49m\u001b[43m:\u001b[49m\u001b[43m]\u001b[49m), torch\u001b[38;5;241m.\u001b[39mTensor(test_data[i][\u001b[38;5;241m1\u001b[39m]), test_labels[i])\n\u001b[0;32m    102\u001b[0m     test_data_and_labels\u001b[38;5;241m.\u001b[39mappend(sample)\n\u001b[0;32m    104\u001b[0m testloader \u001b[38;5;241m=\u001b[39m torch\u001b[38;5;241m.\u001b[39mutils\u001b[38;5;241m.\u001b[39mdata\u001b[38;5;241m.\u001b[39mDataLoader(test_data_and_labels, batch_size\u001b[38;5;241m=\u001b[39mbatch_size,\n\u001b[0;32m    105\u001b[0m                                          shuffle\u001b[38;5;241m=\u001b[39m\u001b[38;5;28;01mFalse\u001b[39;00m, num_workers\u001b[38;5;241m=\u001b[39m\u001b[38;5;241m2\u001b[39m)\n",
      "\u001b[1;31mIndexError\u001b[0m: too many indices for array: array is 2-dimensional, but 3 were indexed"
     ]
    }
   ],
   "source": [
    "path = './Only_Mult_Augments/'\n",
    "\n",
    "test_imgs, test_labels = loadImages(path)\n",
    "\n",
    "transforms_array_test_data = applyTransforms(test_imgs, crop_size=32, resize=35)\n",
    "test_data, test_labels, testloader = test_loader(transforms_array_test_data, test_labels)\n"
   ]
  },
  {
   "cell_type": "code",
   "execution_count": null,
   "metadata": {},
   "outputs": [],
   "source": [
    "show_true_vs_predicted(testloader, classes, lenet_no_aug,\n",
    "                       num_batches=1, batch_size=batch_size)"
   ]
  },
  {
   "cell_type": "code",
   "execution_count": null,
   "metadata": {},
   "outputs": [],
   "source": [
    "lenet_no_aug = LeNet(len(classes))\n",
    "lenet_no_aug.load_state_dict(torch.load(\"./models/lenet_no_aug_650\"))\n",
    "lenet_no_aug.eval()\n",
    "\n",
    "\n",
    "correct, total, misclass_ind = test_model(testloader, lenet_no_aug)"
   ]
  },
  {
   "cell_type": "code",
   "execution_count": null,
   "metadata": {},
   "outputs": [],
   "source": [
    "lenet_with_aug = LeNet(len(classes))\n",
    "lenet_with_aug.load_state_dict(torch.load(\"./models/lenet_with_aug_3900\"))\n",
    "lenet_with_aug.eval()\n",
    "\n",
    "correct, total, misclass_ind = test_model(testloader, lenet_with_aug)\n",
    "\n",
    "\n"
   ]
  },
  {
   "cell_type": "code",
   "execution_count": null,
   "metadata": {},
   "outputs": [],
   "source": [
    "show_incorrect(misclass_ind, test_data, test_labels, lenet_with_aug, num_display=4)"
   ]
  },
  {
   "cell_type": "code",
   "execution_count": null,
   "metadata": {},
   "outputs": [],
   "source": []
  }
 ],
 "metadata": {
  "interpreter": {
   "hash": "386d62b7d12699d17dee3eadaeda474ea6fd40c4c37c961a8453ed4a28944cbc"
  },
  "kernelspec": {
   "display_name": "Python 3 (ipykernel)",
   "language": "python",
   "name": "python3"
  },
  "language_info": {
   "codemirror_mode": {
    "name": "ipython",
    "version": 3
   },
   "file_extension": ".py",
   "mimetype": "text/x-python",
   "name": "python",
   "nbconvert_exporter": "python",
   "pygments_lexer": "ipython3",
   "version": "3.9.7"
  }
 },
 "nbformat": 4,
 "nbformat_minor": 2
}
