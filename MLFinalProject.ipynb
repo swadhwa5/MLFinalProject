{
  "nbformat": 4,
  "nbformat_minor": 0,
  "metadata": {
    "colab": {
      "name": "MLFinalProject.ipynb",
      "provenance": [],
      "collapsed_sections": [],
      "include_colab_link": true
    },
    "kernelspec": {
      "name": "python3",
      "display_name": "Python 3"
    },
    "language_info": {
      "name": "python"
    }
  },
  "cells": [
    {
      "cell_type": "markdown",
      "metadata": {
        "id": "view-in-github",
        "colab_type": "text"
      },
      "source": [
        "<a href=\"https://colab.research.google.com/github/swadhwa5/MLFinalProject/blob/main/MLFinalProject.ipynb\" target=\"_parent\"><img src=\"https://colab.research.google.com/assets/colab-badge.svg\" alt=\"Open In Colab\"/></a>"
      ]
    },
    {
      "cell_type": "code",
      "source": [
        "import numpy as np\n",
        "import random\n",
        "from PIL import Image, ImageEnhance\n",
        "from os import listdir\n",
        "import imghdr\n",
        "import skimage\n",
        "from skimage.transform import rotate, AffineTransform, warp"
      ],
      "metadata": {
        "id": "FYpS5dZZMf8b"
      },
      "execution_count": null,
      "outputs": []
    },
    {
      "cell_type": "code",
      "source": [
        "#Load Data\n",
        "# return array of images\n",
        "def loadImages(path):\n",
        "    imagesList = listdir(path)\n",
        "    imgs = []\n",
        "    labels = []\n",
        "    for image in imagesList:\n",
        "      if imghdr.what(path + image) == 'png':\n",
        "        img = Image.open(path + image)\n",
        "        imgs.append(img)\n",
        "        labels.append(image[6]) # assumes that filename structure is 'handx_[label]_....'\n",
        "        \n",
        "    return imgs, labels"
      ],
      "metadata": {
        "id": "GDIKaLNzMZho"
      },
      "execution_count": null,
      "outputs": []
    },
    {
      "cell_type": "code",
      "source": [
        "# Convert png img array to array np arrays\n",
        "def ImagesToArray(imgs):\n",
        "  imgs_array = []\n",
        "  for img in imgs:\n",
        "    img_array = np.array(img)\n",
        "    imgs_array.append(img_array)\n",
        "  return imgs_array"
      ],
      "metadata": {
        "id": "WXrm8-RqgUhO"
      },
      "execution_count": null,
      "outputs": []
    },
    {
      "cell_type": "code",
      "source": [
        "def Rotate30(imgs): \n",
        "  rot30_imgs = np.empty([imgs.shape[0], imgs.shape[1], imgs.shape[2], imgs.shape[3]])\n",
        "  for i, img in enumerate(imgs): \n",
        "    new_img = rotate(img, 30) \n",
        "    rot30_imgs[i, :] = new_img\n",
        "  return rot30_imgs"
      ],
      "metadata": {
        "id": "bIYEmI9aRQNT"
      },
      "execution_count": null,
      "outputs": []
    },
    {
      "cell_type": "code",
      "source": [
        "def RotateNeg30(imgs):\n",
        "  rot30_imgs = np.empty([imgs.shape[0], imgs.shape[1], imgs.shape[2], imgs.shape[3]])\n",
        "  for i, img in enumerate(imgs): \n",
        "    new_img = rotate(img, -30) \n",
        "    rot30_imgs[i, :] = new_img\n",
        "  return rot30_imgs"
      ],
      "metadata": {
        "id": "ThK8viCZSAUU"
      },
      "execution_count": null,
      "outputs": []
    },
    {
      "cell_type": "code",
      "source": [
        "def VerticalFlip(imgs): \n",
        "  flip_imgs = np.empty([imgs.shape[0], imgs.shape[1], imgs.shape[2], imgs.shape[3]])\n",
        "  for i, img in enumerate(imgs): \n",
        "    new_img = np.fliplr(img)\n",
        "    flip_imgs[i, :, :, :] = new_img\n",
        "  return flip_imgs"
      ],
      "metadata": {
        "id": "h16PYMyUSgO4"
      },
      "execution_count": null,
      "outputs": []
    },
    {
      "cell_type": "code",
      "source": [
        "def Translation(imgs): \n",
        "  trans_imgs = np.empty([imgs.shape[0], imgs.shape[1], imgs.shape[2], imgs.shape[3]])\n",
        "  for i, img in enumerate(imgs): \n",
        "    rand_x = random.randrange(-150, 150, 50)\n",
        "    rand_y = random.randrange(-150, 150, 50)\n",
        "    transform = AffineTransform(translation=(rand_x,rand_y))\n",
        "    new_img = warp(img,transform, mode=\"constant\")  \n",
        "    trans_imgs[i, :] = new_img\n",
        "  return trans_imgs"
      ],
      "metadata": {
        "id": "iQGY2fSzdVAO"
      },
      "execution_count": null,
      "outputs": []
    },
    {
      "cell_type": "code",
      "source": [
        "# x is input image, sd is how much to blur\n",
        "def GaussianBlur(imgs, sd=1):\n",
        "  for i, img in enumerate(imgs):\n",
        "    filtered_img = skimage.filters.gaussian(img, sigma=sd)\n",
        "    filtered_img.save('./Filter_gaussian/img_' + str(i) + '_gaussianfilt.png')"
      ],
      "metadata": {
        "id": "GYMsLPwRU1UW"
      },
      "execution_count": null,
      "outputs": []
    },
    {
      "cell_type": "code",
      "source": [
        "import random\n",
        "def Crop(imgs):\n",
        "  n = 600\n",
        "  for i, png in enumerate(imgs): \n",
        "    ratio = random.uniform(0, 1)\n",
        "    size = n * ratio\n",
        "    x = int(size / 2)\n",
        "    img = np.asarray(png)\n",
        "    cropped = img.copy()\n",
        "    print(cropped.shape)\n",
        "    cropped[0:x] = np.zeros((n, 3))\n",
        "    cropped[img.shape[0] - x - 1:img.shape[0] - 1] = np.zeros((x, n, 3))\n",
        "    cropped[:, 0:x] = np.zeros((n, x, 3))\n",
        "    cropped[:, img.shape[1] - 1 - x:img.shape[1] - 1] = np.zeros((n, x, 3))\n",
        "    final = Image.fromarray(np.uint8(cropped*255))\n",
        "    return cropped\n",
        "    # final.save('./Crop/img_' + str(i) + '_crop.png')\n"
      ],
      "metadata": {
        "id": "vQgtkyrwVYZC"
      },
      "execution_count": null,
      "outputs": []
    },
    {
      "cell_type": "code",
      "source": [
        "import cv2\n",
        "\n",
        "def Scale(imgs):\n",
        "  for i, img in enumerate(imgs):\n",
        "    ratio = random.uniform(.3, .7)\n",
        "    n = 600\n",
        "    x = int(ratio * n / 2)\n",
        "    scaled = img[x:n-x, x:n-x]\n",
        "    res = cv2.resize(scaled, dsize=(600, 600), interpolation=cv2.INTER_CUBIC)\n",
        "    final = Image.fromarray(np.uint8(res*255))\n",
        "    return res\n",
        "    # final.save('./Crop/img_' + str(i) + '_scale.png')"
      ],
      "metadata": {
        "id": "mTJGwOnSZzvc"
      },
      "execution_count": null,
      "outputs": []
    },
    {
      "cell_type": "code",
      "source": [
        "### Additional Code: 4/20/22: Redid Shape function, normalize, and also completed blur. Each assumes images list --> shape-->normalize-->blur\n",
        "\n",
        "import numpy as np\n",
        "import skimage\n",
        "import matplotlib.pyplot as plt\n",
        "from tempfile import TemporaryFile\n",
        "from PIL import Image, ImageEnhance\n",
        "from os import listdir\n",
        "import imghdr\n",
        "import skimage\n",
        "from skimage.transform import rotate, AffineTransform, warp\n",
        "from skimage import filters\n",
        "from torchvision import transforms\n",
        "import cv2\n",
        "import scipy\n",
        "import random\n",
        "\n",
        "\n",
        "from google.colab import files\n",
        "# uploaded = files.upload() # Get a folder named Data.zip"
      ],
      "metadata": {
        "id": "Bl9NRQFsYDuz"
      },
      "execution_count": null,
      "outputs": []
    },
    {
      "cell_type": "code",
      "source": [
        "!unzip Data2.zip"
      ],
      "metadata": {
        "id": "KL44VxYOYJyS",
        "colab": {
          "base_uri": "https://localhost:8080/"
        },
        "outputId": "d8d669ea-30a7-4c83-da4e-3ea73412c467"
      },
      "execution_count": null,
      "outputs": [
        {
          "output_type": "stream",
          "name": "stdout",
          "text": [
            "Archive:  Data2.zip\n",
            "   creating: Data2/\n",
            "  inflating: Data2/hand1_n_bot_seg_3_cropped.png  \n",
            "  inflating: __MACOSX/Data2/._hand1_n_bot_seg_3_cropped.png  \n",
            "  inflating: Data2/hand1_h_left_seg_3_cropped.png  \n",
            "  inflating: __MACOSX/Data2/._hand1_h_left_seg_3_cropped.png  \n",
            "  inflating: Data2/hand1_k_bot_seg_1_cropped.png  \n",
            "  inflating: __MACOSX/Data2/._hand1_k_bot_seg_1_cropped.png  \n",
            "  inflating: Data2/hand1_v_left_seg_2_cropped.png  \n",
            "  inflating: __MACOSX/Data2/._hand1_v_left_seg_2_cropped.png  \n",
            "  inflating: Data2/hand1_j_left_seg_5_cropped.png  \n",
            "  inflating: __MACOSX/Data2/._hand1_j_left_seg_5_cropped.png  \n",
            "  inflating: Data2/hand1_w_left_seg_1_cropped.png  \n",
            "  inflating: __MACOSX/Data2/._hand1_w_left_seg_1_cropped.png  \n"
          ]
        }
      ]
    },
    {
      "cell_type": "code",
      "source": [
        "import numpy as np\n",
        "import skimage\n",
        "import matplotlib.pyplot as plt\n",
        "from tempfile import TemporaryFile\n",
        "from PIL import Image, ImageEnhance\n",
        "from os import listdir\n",
        "import imghdr\n",
        "import skimage\n",
        "from skimage.transform import rotate, AffineTransform, warp\n",
        "from skimage import filters\n",
        "from torchvision import transforms\n",
        "import cv2\n",
        "import scipy\n",
        "import random\n",
        "\n",
        "#Load Data\n",
        "# return array of images\n",
        "def loadImages(path):\n",
        "    imagesList = listdir(path)\n",
        "    imgs = []\n",
        "    labels = []\n",
        "    for image in imagesList:\n",
        "      if imghdr.what(path + image) == 'png':\n",
        "        img = Image.open(path + image)\n",
        "        imgs.append(img)\n",
        "        labels.append(image[6]) # assumes that filename structure is 'handx_[label]_....'\n",
        "        \n",
        "    return imgs, labels\n",
        "\n",
        "# Convert png img array to array np arrays\n",
        "def ImagesToArray(imgs):\n",
        "  imgs_array = []\n",
        "  for img in imgs:\n",
        "    img_array = np.array(img)\n",
        "    imgs_array.append(img_array)\n",
        "  return imgs_array\n",
        "\n",
        "# Reshape Images   \n",
        "def shape600(x):\n",
        "  print(len(x))\n",
        "  print(x[0].shape)\n",
        "  reshaped_array = np.zeros((len(x), 600, 600, 3))\n",
        "  for i, img in enumerate(x):\n",
        "    x_pad_width = (600 - img.shape[0])//2\n",
        "    y_pad_width = (600 - img.shape[1])//2\n",
        "    reshaped_array[i,:,:,:] = np.pad(img, ((x_pad_width, x_pad_width + (img.shape[0])%2), (y_pad_width, y_pad_width+(img.shape[1]%2)), (0,0)), constant_values=img[0][0][0])\n",
        "  return reshaped_array\n",
        "\n",
        "# Normalize images\n",
        "def Normalize(imgs):\n",
        "  new_imgs = []\n",
        "  for img in imgs:\n",
        "      # flat_img = img.flatten()\n",
        "      m = np.mean(img)\n",
        "      std = np.std(img)\n",
        "      img = (img-m)/std\n",
        "      new_imgs.append(img)\n",
        "  return new_imgs\n",
        "\n",
        "# x is input image, sd is how much to blur\n",
        "def blur(imgs, sd=1):\n",
        "  filtered_img = np.zeros((imgs.shape[0], 600, 600, 3))\n",
        "  for i in range(imgs.shape[0]):\n",
        "    filtered_img[i,:,:,:] = skimage.filters.gaussian(imgs[i,:,:,:], sigma=sd)\n",
        "    #filtered_img.save('./Filter_gaussian/img_' + i + '_gaussianfilt.png')\n",
        "  return filtered_img\n",
        "\n",
        "def Scale(imgs):\n",
        "  scaled_images = np.zeros((len(imgs), 600, 600, 3))\n",
        "  for i, img in enumerate(imgs):\n",
        "    ratio = random.uniform(.3, .7)\n",
        "    x = int(ratio * 600 / 2)\n",
        "    scaled = img[x:600-x, x:600-x]\n",
        "    # scaled = cv2.imread(scaled)\n",
        "    res = cv2.resize(scaled, dsize=(600, 600), interpolation=cv2.INTER_CUBIC)\n",
        "    scaled_images[i] = res\n",
        "  return scaled_images\n",
        "    # final.save('./Crop/img_' + str(i) + '_scale.png')\n",
        "\n",
        "def Brighten_light(imgs):\n",
        "  Brightened_light_images = np.zeros((len(imgs), 600, 600, 3))\n",
        "  for i in range (imgs.shape[0]):\n",
        "    Brightened_light_images[i] = imgs[i] + (0.2, 0.2, 0.2)\n",
        "    # light_img.save('./Brightness_light/img_' + str(i) + '_light.png')\n",
        "  return Brightened_light_images\n",
        "\n",
        "def Brighten_dark(imgs):\n",
        "  Brightened_dark_images = np.zeros((len(imgs), 600, 600, 3))\n",
        "  for i in range (imgs.shape[0]):\n",
        "    Brightened_dark_images[i] = imgs[i] - (0.2, 0.2, 0.2)\n",
        "    # dark_img.save('./Brightness_dark/img_' + str(i) + '_dark.png')\n",
        "  return Brightened_dark_images\n",
        "\n",
        "# load png_images\n",
        "path = \"./Data/\"\n",
        "\n",
        "# images in an array named imgs\n",
        "imgs, labels = loadImages(path)\n",
        "\n",
        "# Step 1 convert png_images to np arrays\n",
        "imgs_array_before = ImagesToArray(imgs)\n",
        "\n",
        "# # Step 2 Normalize images\n",
        "imgs_array_normalize = Normalize(imgs_array_before)\n",
        "\n",
        "# # Step 3 Reshape the images\n",
        "imgs_array_reshaped = shape600(imgs_array_normalize)\n",
        "\n",
        "# Step 4 Blur the images\n",
        "blurred_imgs = blur(imgs_array_reshaped, 10)\n",
        "\n",
        "# Step 5 Scale the images\n",
        "scaled_imgs = Scale(imgs_array_reshaped)\n",
        "\n",
        "# Step 6 Brighten the images\n",
        "light_imgs = Brighten_light(imgs_array_reshaped)\n",
        "dark_imgs = Brighten_dark(imgs_array_reshaped)\n",
        "\n",
        "# Step 7 Flip the images\n",
        "flipped_imgs = VerticalFlip(imgs_array_reshaped)\n",
        "\n",
        "# Step 8 Add translation to images\n",
        "translated_imgs = Translation(imgs_array_reshaped)\n",
        "\n",
        "# Step 9 Rotate 30 Degrees\n",
        "rotated30_imgs = Rotate30(imgs_array_reshaped)\n",
        "rotatedNeg30_imgs = RotateNeg30(imgs_array_reshaped)\n",
        "\n",
        "# Step 10 combine all augmented images to np array of shape((num_augmentations + 1) * num_images, 600, 600, 3)\n",
        "final_imgs = np.concatenate((imgs_array_reshaped, blurred_imgs, scaled_imgs, light_imgs, dark_imgs, flipped_imgs, translated_imgs, rotated30_imgs, rotatedNeg30_imgs), 0)\n",
        "print(final_imgs.shape)\n",
        "\n",
        "# Show the progression of images for each step\n",
        "fig, ax = plt.subplots(1, 9, figsize=(15,10))\n",
        "ax[0].imshow(imgs_array_before[0]) # Step 0\n",
        "ax[1].imshow(imgs_array_normalize[0]) # Step 1\n",
        "ax[2].imshow(imgs_array_reshaped[0]) # Step 2\n",
        "ax[3].imshow(blurred_imgs[0]) # Step 3\n",
        "ax[4].imshow(scaled_imgs[0]) # Step 4\n",
        "ax[5].imshow(light_imgs[0]) # Step 5\n",
        "ax[6].imshow(dark_imgs[0]) # Step 6\n",
        "ax[7].imshow(flipped_imgs[0]) # Step 7\n",
        "ax[8].imshow(translated_imgs[0]) # Step 8\n",
        "ax[8].imshow(rotated30_imgs[0]) # Step 9\n",
        "ax[8].imshow(rotatedNeg30_imgs[0]) # Step 9\n"
      ],
      "metadata": {
        "id": "t2fttU6AWw2q",
        "colab": {
          "base_uri": "https://localhost:8080/",
          "height": 428
        },
        "outputId": "b87d9a54-d5d6-4ee9-f2ed-f8c954cf9511"
      },
      "execution_count": null,
      "outputs": [
        {
          "output_type": "stream",
          "name": "stdout",
          "text": [
            "8\n",
            "(392, 238, 3)\n"
          ]
        },
        {
          "output_type": "stream",
          "name": "stderr",
          "text": [
            "/usr/local/lib/python3.7/dist-packages/ipykernel_launcher.py:64: RuntimeWarning: Images with dimensions (M, N, 3) are interpreted as 2D+RGB by default. Use `multichannel=False` to interpret as 3D image with last dimension of length 3.\n",
            "Clipping input data to the valid range for imshow with RGB data ([0..1] for floats or [0..255] for integers).\n",
            "Clipping input data to the valid range for imshow with RGB data ([0..1] for floats or [0..255] for integers).\n",
            "Clipping input data to the valid range for imshow with RGB data ([0..1] for floats or [0..255] for integers).\n",
            "Clipping input data to the valid range for imshow with RGB data ([0..1] for floats or [0..255] for integers).\n",
            "Clipping input data to the valid range for imshow with RGB data ([0..1] for floats or [0..255] for integers).\n"
          ]
        },
        {
          "output_type": "stream",
          "name": "stdout",
          "text": [
            "(56, 600, 600, 3)\n"
          ]
        },
        {
          "output_type": "stream",
          "name": "stderr",
          "text": [
            "Clipping input data to the valid range for imshow with RGB data ([0..1] for floats or [0..255] for integers).\n",
            "Clipping input data to the valid range for imshow with RGB data ([0..1] for floats or [0..255] for integers).\n",
            "Clipping input data to the valid range for imshow with RGB data ([0..1] for floats or [0..255] for integers).\n"
          ]
        },
        {
          "output_type": "execute_result",
          "data": {
            "text/plain": [
              "<matplotlib.image.AxesImage at 0x7f2afa68b150>"
            ]
          },
          "metadata": {},
          "execution_count": 9
        },
        {
          "output_type": "display_data",
          "data": {
            "text/plain": [
              "<Figure size 1080x720 with 9 Axes>"
            ],
            "image/png": "[encoded data removed]"
          },
          "metadata": {
            "needs_background": "light"
          }
        }
      ]
    },
    {
      "cell_type": "code",
      "source": [
        "# Feature: Get convexity of hand in the image\n",
        "import alphashape\n",
        "from descartes import PolygonPatch\n",
        "\n",
        "def convex(imgs):\n",
        "  out = np.empty((imgs.shape[0], 1))\n",
        "  for i, img in enumerate(imgs): \n",
        "    orig = cv2.normalize(img, None, 0, 255, cv2.NORM_MINMAX, cv2.CV_8U)\n",
        "\n",
        "    edges = cv2.Canny(orig,250,300)\n",
        "\n",
        "    contours, hierarchy = cv2.findContours(edges,cv2.RETR_TREE,cv2.CHAIN_APPROX_NONE)\n",
        "    contours = np.concatenate(contours)\n",
        "    contours = contours.reshape((contours.shape[0], contours.shape[2]))\n",
        "\n",
        "    alpha = alphashape.alphashape(contours, .01)\n",
        "    convex = alphashape.alphashape(contours, 0.)\n",
        "\n",
        "    out[i] = (alpha.area / convex.area)\n",
        "    \n",
        "    # fig, ax = plt.subplots()\n",
        "    # ax.scatter(*zip(*contours))\n",
        "    # ax.add_patch(PolygonPatch(alpha, alpha=0.2))\n",
        "    # plt.show()\n",
        "\n",
        "    # fig, ax = plt.subplots()\n",
        "    # ax.scatter(*zip(*contours))\n",
        "    # ax.add_patch(PolygonPatch(convex, alpha=0.2))\n",
        "    # plt.show()\n",
        "\n",
        "    # print(out[i])\n",
        "  return out\n",
        "print(convex(imgs_array_reshaped))\n"
      ],
      "metadata": {
        "id": "Z4N9ehsyW8ac",
        "colab": {
          "base_uri": "https://localhost:8080/"
        },
        "outputId": "76dc83ea-9403-4827-fd2a-1584693ffce8"
      },
      "execution_count": null,
      "outputs": [
        {
          "output_type": "stream",
          "name": "stdout",
          "text": [
            "[[0.9858781 ]\n",
            " [0.94347965]\n",
            " [0.92749319]\n",
            " [0.95667932]\n",
            " [0.91718038]\n",
            " [0.98812374]]\n"
          ]
        }
      ]
    },
    {
      "cell_type": "code",
      "source": [
        "!pip install alphashape"
      ],
      "metadata": {
        "colab": {
          "base_uri": "https://localhost:8080/"
        },
        "id": "bCAt8VbBTKpZ",
        "outputId": "728a69e7-0a97-40a1-bf55-3ca76cdef1fe"
      },
      "execution_count": null,
      "outputs": [
        {
          "output_type": "stream",
          "name": "stdout",
          "text": [
            "Collecting alphashape\n",
            "  Downloading alphashape-1.3.1-py2.py3-none-any.whl (13 kB)\n",
            "Requirement already satisfied: shapely>=1.4.0 in /usr/local/lib/python3.7/dist-packages (from alphashape) (1.8.1.post1)\n",
            "Requirement already satisfied: scipy>=1.0.0 in /usr/local/lib/python3.7/dist-packages (from alphashape) (1.4.1)\n",
            "Collecting click-log>=0.3.2\n",
            "  Downloading click_log-0.4.0-py2.py3-none-any.whl (4.3 kB)\n",
            "Requirement already satisfied: numpy>=1.8.0 in /usr/local/lib/python3.7/dist-packages (from alphashape) (1.21.6)\n",
            "Requirement already satisfied: Click>=6.0 in /usr/local/lib/python3.7/dist-packages (from alphashape) (7.1.2)\n",
            "Collecting trimesh>=3.9.8\n",
            "  Downloading trimesh-3.10.8-py3-none-any.whl (642 kB)\n",
            "\u001b[K     |████████████████████████████████| 642 kB 5.3 MB/s \n",
            "\u001b[?25hRequirement already satisfied: networkx>=2.5 in /usr/local/lib/python3.7/dist-packages (from alphashape) (2.6.3)\n",
            "Collecting rtree>=0.9.7\n",
            "  Downloading Rtree-1.0.0-cp37-cp37m-manylinux_2_17_x86_64.manylinux2014_x86_64.whl (1.0 MB)\n",
            "\u001b[K     |████████████████████████████████| 1.0 MB 46.2 MB/s \n",
            "\u001b[?25hRequirement already satisfied: typing-extensions>=3.7 in /usr/local/lib/python3.7/dist-packages (from rtree>=0.9.7->alphashape) (4.1.1)\n",
            "Installing collected packages: trimesh, rtree, click-log, alphashape\n",
            "Successfully installed alphashape-1.3.1 click-log-0.4.0 rtree-1.0.0 trimesh-3.10.8\n"
          ]
        }
      ]
    }
  ]
}