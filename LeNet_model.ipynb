{
 "cells": [
  {
   "cell_type": "markdown",
   "metadata": {},
   "source": [
    "# LeNet Implementation!\n",
    "\n",
    "1. Create a LeNet Model\n",
    "2. Feed in the Augmented data\n",
    "3. Finalize!"
   ]
  },
  {
   "cell_type": "markdown",
   "metadata": {},
   "source": [
    "### Import the necessary packages"
   ]
  },
  {
   "cell_type": "code",
   "execution_count": 184,
   "metadata": {},
   "outputs": [],
   "source": [
    "import torch\n",
    "import torch.nn as nn\n",
    "import torch.nn.functional as F\n",
    "import torch.optim as optim\n",
    "\n",
    "import torchvision\n",
    "import torchvision.transforms as transforms\n",
    "\n",
    "import numpy as np\n",
    "import matplotlib.pyplot as plt\n",
    "from sklearn.model_selection import train_test_split\n",
    "import string\n",
    "\n",
    "import imghdr\n",
    "from PIL import Image\n",
    "from os import listdir\n"
   ]
  },
  {
   "cell_type": "markdown",
   "metadata": {},
   "source": [
    "### Generate the LeNet Model!\n",
    "**Requirements**\n",
    "1. Input 32x32 image\n",
    "2. Must adjust sizes if input is not 32x32"
   ]
  },
  {
   "cell_type": "code",
   "execution_count": 185,
   "metadata": {},
   "outputs": [],
   "source": [
    "class LeNet(nn.Module):\n",
    "    def __init__(self, num_classes):\n",
    "        super().__init__()\n",
    "\n",
    "        self.conv_layer = nn.Sequential(\n",
    "            nn.Conv2d(3, 6, 5),\n",
    "            nn.ReLU(),\n",
    "            nn.MaxPool2d(2, 2),\n",
    "            nn.Conv2d(6, 16, 5),\n",
    "            nn.ReLU(),\n",
    "            nn.MaxPool2d(2, 2),\n",
    "        )\n",
    "\n",
    "        self.linear = nn.Sequential(\n",
    "            nn.Flatten(),\n",
    "            nn.Linear(16 * 5 * 5, 120),\n",
    "            nn.ReLU(),\n",
    "            nn.Linear(120, 84),\n",
    "            nn.ReLU(),\n",
    "            nn.Linear(84, num_classes)\n",
    "        )\n",
    "\n",
    "        # self.conv1 = nn.Conv2d(3, 6, 5)\n",
    "        # self.pool = nn.MaxPool2d(2, 2)\n",
    "        # self.conv2 = nn.Conv2d(6, 16, 5)\n",
    "        # self.fc1 = nn.Linear(16 * 5 * 5, 120)\n",
    "        # self.fc2 = nn.Linear(120, 84)\n",
    "        # self.fc3 = nn.Linear(84, 26)\n",
    "\n",
    "    def forward(self, x):\n",
    "        # x = self.pool(F.relu(self.conv1(x)))\n",
    "        # x = self.pool(F.relu(self.conv2(x)))\n",
    "        # x = torch.flatten(x, 1) # flatten all dimensions except batch\n",
    "        # x = F.relu(self.fc1(x))\n",
    "        # x = F.relu(self.fc2(x))\n",
    "        # x = self.fc3(x)\n",
    "        x = self.conv_layer(x)\n",
    "        x = self.linear(x)\n",
    "        return x\n"
   ]
  },
  {
   "cell_type": "markdown",
   "metadata": {},
   "source": [
    "### Data handling"
   ]
  },
  {
   "cell_type": "code",
   "execution_count": 250,
   "metadata": {},
   "outputs": [],
   "source": [
    "# Input: Path to a folder of .png files. Let #=dataset num, l = letter represented, v=variation, a=augmentation\n",
    "#     Must be structured s.t. hand#_l_v_a.png\n",
    "# Output: List of .png images and their respective labels\n",
    "def loadImages(path):\n",
    "    imagesList = listdir(path)\n",
    "    imgs = []\n",
    "    labels = []\n",
    "\n",
    "    for image in imagesList:  # iterate over all images in the folder\n",
    "        if imghdr.what(path + image) == 'png':\n",
    "            if (image[6].isalpha()):  # 6th position is the letter\n",
    "                img = Image.open(path + image)\n",
    "                imgs.append(img)\n",
    "                # assumes that filename structure is 'handx_[label]_....'\n",
    "                labels.append(ord(image[6]) - ord('a'))\n",
    "    return imgs, labels\n",
    "\n",
    "\n",
    "# Process the data given input and output images.\n",
    "# Input: all required arguments\n",
    "# Note: LeNet assumes input of 32. Resize is hyperparameter based on dataset.\n",
    "\n",
    "# def process_data(imgs, labels, batch_size=4, channels=3, resize=15, crop_size=32, test_split=0.2):\n",
    "#   transforms_array = applyTransforms(imgs, channels, crop_size, resize=resize)\n",
    "#   train_data, test_data, train_labels, test_labels = train_test_split(transforms_array, labels, test_size=test_split, random_state=42)\n",
    "#   [trainloader, testloader] = train_test_loaders(train_data, train_labels, test_data, test_labels, batch_size)\n",
    "#   return [trainloader, testloader]\n",
    "\n",
    "\n",
    "# Input: the images list (3 channels), crop size, and resize hyperparameters\n",
    "# Output: a tensor array of all the reshaped + resized images\n",
    "def applyTransforms(imgs, crop_size, resize):\n",
    "    # Define the necessary preprocessing transforms\n",
    "    num_imgs = len(imgs)\n",
    "    preprocess = transforms.Compose([\n",
    "        transforms.Resize(resize),  # Hyperparameter\n",
    "        transforms.CenterCrop(crop_size),\n",
    "        transforms.ToTensor(),\n",
    "        transforms.Normalize(mean=[0.485, 0.456, 0.406], std=[\n",
    "                             0.229, 0.224, 0.225]),\n",
    "    ])\n",
    "\n",
    "    # Create tensor array\n",
    "    transforms_array = np.zeros((num_imgs, 3, crop_size, crop_size))\n",
    "    for i in range(num_imgs):\n",
    "        temp = preprocess(imgs[i])\n",
    "        transforms_array[i, :, :, :] = temp\n",
    "\n",
    "    return transforms_array\n",
    "\n",
    "# Input: an image tensor [num_imgs, channels, x_dim, y_dim], test split, and a batch size\n",
    "# Output: a tensor array of all the reshaped + resized images\n",
    "\n",
    "\n",
    "# def train_dev_loaders(transforms_array, test_split=0.2, batch_size=4):\n",
    "#     # Create the training dataand trainloader\n",
    "#     train_data, dev_data, train_labels, dev_labels = train_test_split(\n",
    "#         transforms_array, labels, test_size=test_split, random_state=42)\n",
    "#     train_data_and_labels = []\n",
    "#     for i in range(len(train_data)):\n",
    "#         sample = (torch.Tensor(train_data[i, :, :, :]), train_labels[i])\n",
    "#         train_data_and_labels.append(sample)\n",
    "\n",
    "#     trainloader = torch.utils.data.DataLoader(train_data_and_labels, batch_size=batch_size,\n",
    "#                                               shuffle=True, num_workers=2)\n",
    "\n",
    "#     # Create the developmental data and devloader\n",
    "#     dev_data_and_labels = []\n",
    "#     for i in range(len(dev_data)):\n",
    "#         sample = (torch.Tensor(dev_data[i, :, :, :]), dev_labels[i])\n",
    "#         dev_data_and_labels.append(sample)\n",
    "\n",
    "#     devloader = torch.utils.data.DataLoader(dev_data_and_labels, batch_size=batch_size,\n",
    "#                                             shuffle=False, num_workers=2)\n",
    "#     return [train_data, train_labels, trainloader, dev_data, dev_labels, devloader]\n",
    "\n",
    "# Input: One normalized image\n",
    "# Output: None\n",
    "# Plots the image, assumed to be [3, x_dim, y_dim]\n",
    "\n",
    "\n",
    "def imshow(img):\n",
    "    # Unnormalize the image before showing!\n",
    "    invTrans = transforms.Compose([transforms.Normalize(mean=[0., 0., 0.],\n",
    "                                                        std=[1/0.229, 1/0.224, 1/0.225]),\n",
    "                                   transforms.Normalize(mean=[-0.485, -0.456, -0.406],\n",
    "                                                        std=[1., 1., 1.]),\n",
    "                                   ])\n",
    "    img = invTrans(img)\n",
    "    plt.figure(figsize=(10, 10))\n",
    "    plt.imshow(np.transpose(img, (1, 2, 0)))\n",
    "    plt.show()\n",
    "\n",
    "# Input: list of .png images, their labels, and other default parameters\n",
    "# Output: None\n",
    "# Plots the image, assumed to be [3, x_dim, y_dim]\n",
    "def test_loader(test_data, test_labels, batch_size=4):\n",
    "    # Create the testing data and testloader    \n",
    "    test_data_and_labels = []\n",
    "    for i in range(len(test_data)):\n",
    "        sample = (torch.Tensor(test_data[i, :, :, :]), test_labels[i])\n",
    "        test_data_and_labels.append(sample)\n",
    "\n",
    "    testloader = torch.utils.data.DataLoader(test_data_and_labels, batch_size=batch_size,\n",
    "                                             shuffle=False, num_workers=2)\n",
    "\n",
    "    test_labels = np.asarray(test_labels)\n",
    "    return test_data, test_labels, testloader\n",
    "\n",
    "# Input: an image tensor [num_imgs, channels, x_dim, y_dim], test split, and a batch size\n",
    "# Output: a tensor array of all the reshaped + resized images\n",
    "def train_dev_test_loaders(transforms_array, labels, test_split=0.2, batch_size=4):\n",
    "  ## Create the training dataand trainloader\n",
    "  train_data, dev_data, train_labels, dev_labels = train_test_split(transforms_array, labels, test_size=test_split, random_state=42)\n",
    "\n",
    "  dev_data, test_data, dev_labels, test_labels = train_test_split(dev_data, dev_labels, test_size=0.5, random_state=42)\n",
    "\n",
    "  train_data_and_labels = []\n",
    "  for i in range(len(train_data)):\n",
    "    sample = (torch.Tensor(train_data[i,:,:,:]), train_labels[i])\n",
    "    train_data_and_labels.append(sample)\n",
    "\n",
    "  trainloader = torch.utils.data.DataLoader(train_data_and_labels, batch_size=batch_size,\n",
    "                                            shuffle=True, num_workers=2)\n",
    "\n",
    "  ## Create the developmental data and devloader\n",
    "  dev_data_and_labels = []\n",
    "  for i in range(len(dev_data)):\n",
    "    sample = (torch.Tensor(dev_data[i,:,:,:]), dev_labels[i])\n",
    "    dev_data_and_labels.append(sample)\n",
    "\n",
    "  devloader = torch.utils.data.DataLoader(dev_data_and_labels, batch_size=batch_size,\n",
    "                                            shuffle=False, num_workers=2)\n",
    "  \n",
    "  ## Create the Test data and testloader\n",
    "  test_data_and_labels = []\n",
    "  for i in range(len(test_data)):\n",
    "    sample = (torch.Tensor(test_data[i,:,:,:]), test_labels[i])\n",
    "    test_data_and_labels.append(sample)\n",
    "\n",
    "  testloader = torch.utils.data.DataLoader(test_data_and_labels, batch_size=batch_size,\n",
    "                                            shuffle=False, num_workers=2)\n",
    "  train_labels = np.asarray(train_labels)\n",
    "  dev_labels = np.asarray(dev_labels)\n",
    "  test_labels = np.asarray(test_labels)\n",
    "  return [train_data, train_labels, trainloader, dev_data, dev_labels, devloader, test_data, test_labels, testloader]\n"
   ]
  },
  {
   "cell_type": "code",
   "execution_count": 187,
   "metadata": {},
   "outputs": [],
   "source": [
    "import torch\n",
    "import numpy as np\n",
    "import torch.nn.functional as F\n",
    "\n",
    "\n",
    "def accuracy(y : np.ndarray, y_hat : np.ndarray) -> np.float64:\n",
    "    \"\"\"Calculate the simple accuracy given two numpy vectors, each with int values\n",
    "    corresponding to each class.\n",
    "\n",
    "    Args:\n",
    "        y (np.ndarray): actual value\n",
    "        y_hat (np.ndarray): predicted value\n",
    "\n",
    "    Returns:\n",
    "        np.float64: accuracy\n",
    "    \"\"\"\n",
    "    ### TODO Implement accuracy function\n",
    "    N = len(y)   \n",
    "    number_correct = N - np.count_nonzero(y - y_hat)\n",
    "    accuracy = number_correct / N\n",
    "    return accuracy\n",
    "\n",
    "\n",
    "def approx_train_acc_and_loss(model, train_data : np.ndarray, train_labels : np.ndarray) -> np.float64:\n",
    "    \"\"\"Given a model, training data and its associated labels, calculate the simple accuracy when the \n",
    "    model is applied to the training dataset.\n",
    "    This function is meant to be run during training to evaluate model training accuracy during training.\n",
    "\n",
    "    Args:\n",
    "        model (pytorch model): model class object.\n",
    "        train_data (np.ndarray): training data\n",
    "        train_labels (np.ndarray): training labels\n",
    "\n",
    "    Returns:\n",
    "        np.float64: simple accuracy\n",
    "    \"\"\"\n",
    "    idxs = np.random.choice(len(train_data), 1, replace=False)\n",
    "    x = torch.from_numpy(train_data[idxs].astype(np.float32))\n",
    "    y = torch.from_numpy(train_labels[idxs])\n",
    "    logits = model(x)\n",
    "    loss = F.cross_entropy(logits, y)\n",
    "    y_pred = torch.max(logits, 1)[1]\n",
    "    return accuracy(train_labels[idxs], y_pred.numpy()), loss.item()\n",
    "\n",
    "\n",
    "def dev_acc_and_loss(model, dev_data : np.ndarray, dev_labels : np.ndarray) -> np.float64:\n",
    "    \"\"\"Given a model, a validation dataset and its associated labels, calcualte the simple accuracy when the\n",
    "    model is applied to the validation dataset.\n",
    "    This function is meant to be run during training to evaluate model validation accuracy.\n",
    "\n",
    "    Args:\n",
    "        model (pytorch model): model class obj\n",
    "        dev_data (np.ndarray): validation data\n",
    "        dev_labels (np.ndarray): validation labels\n",
    "\n",
    "    Returns:\n",
    "        np.float64: simple validation accuracy\n",
    "    \"\"\"\n",
    "    dev_labels = np.asarray(dev_labels)\n",
    "    x = torch.from_numpy(dev_data.astype(np.float32))\n",
    "    y = torch.from_numpy(dev_labels.astype(int))\n",
    "    logits = model(x)\n",
    "    loss = F.cross_entropy(logits, y)\n",
    "    y_pred = torch.max(logits, 1)[1]\n",
    "    return accuracy(dev_labels, y_pred.numpy()), loss.item()"
   ]
  },
  {
   "cell_type": "code",
   "execution_count": 188,
   "metadata": {},
   "outputs": [],
   "source": [
    "# Train the model parameters\n",
    "def train_model(trainloader, train_data, train_labels, dev_data, dev_labels, criterion, optimizer, model, num_images, n=20):\n",
    "\n",
    "  for epoch in range(n):  # loop over the dataset multiple times\n",
    "\n",
    "    for i, data in enumerate(trainloader, 0):\n",
    "        # get the inputs; data is a list of [inputs, labels]\n",
    "        inputs, labels = data\n",
    "\n",
    "        # zero the parameter gradients\n",
    "        optimizer.zero_grad()\n",
    "\n",
    "        # forward + backward + optimize\n",
    "        outputs = model(inputs)\n",
    "        loss = criterion(outputs, labels)\n",
    "        loss.backward()\n",
    "        optimizer.step()\n",
    "\n",
    "        # print statistics\n",
    "        #   running_loss += loss.item()\n",
    "        #   if i % print_schedule == (print_schedule-1):    # print every 200 mini-batches\n",
    "        #       print(f'[{epoch + 1}, {i + 1:5d}] loss: {running_loss / 20:.3f}')\n",
    "        #       running_loss = 0.0\n",
    "    \n",
    "    if epoch % 2 == 0:\n",
    "        train_acc, train_loss = approx_train_acc_and_loss(model, train_data, train_labels)\n",
    "        dev_acc, dev_loss = dev_acc_and_loss(model, dev_data, dev_labels)\n",
    "        step_metrics = {\n",
    "                'step': epoch, \n",
    "                'train_loss': loss.item(), \n",
    "                'train_acc': train_acc,\n",
    "                'dev_loss': dev_loss,\n",
    "                'dev_acc': dev_acc\n",
    "            }\n",
    "\n",
    "        print(f\"On step {epoch}:\\tTrain loss {train_loss}\\t|\\tDev acc is {dev_acc}\")\n",
    "\n",
    "  print('Finished Training')\n",
    "\n",
    "# Test the model on help out dev set\n",
    "def test_model(testloader, model):\n",
    "    correct = 0\n",
    "    total = 0\n",
    "    misclass_ind = []\n",
    "    # since we're not training, we don't need to calculate the gradients for our outputs\n",
    "    with torch.no_grad():\n",
    "        for data in testloader:\n",
    "            images, labels = data\n",
    "            # calculate outputs by running images through the network\n",
    "            outputs = model(images)\n",
    "            # the class with the highest energy is what we choose as prediction\n",
    "            _, predicted = torch.max(outputs.data, 1)\n",
    "            correct += (predicted == labels).sum().item() # Calculate number correct\n",
    "            if ((predicted != labels).sum().item()) > 0:\n",
    "                incorrect = predicted - labels\n",
    "                for i in range(len(incorrect)):\n",
    "                    if incorrect[i] != 0:\n",
    "                        \n",
    "                        misclass_ind.append(total + i)           \n",
    "                    \n",
    "            total += labels.size(0) # for each batch (size=4), predict the labels\n",
    "\n",
    "\n",
    "    print(f'Accuracy of the network on the {total} test images: {100 * correct // total} %')\n",
    "\n",
    "    return correct, total, misclass_ind\n",
    "\n",
    "# Show number_batches * display_num images\n",
    "def show_true_vs_predicted(testloader, classes, model, num_batches, batch_size):\n",
    "    # print images\n",
    "    dataiter = iter(testloader)\n",
    "    images, labels = dataiter.next()\n",
    "\n",
    "    imshow(torchvision.utils.make_grid(images))\n",
    "    print('GroundTruth: ', ' '.join(f'{classes[labels[j]]:5s}' for j in range(num_batches * batch_size)))\n",
    "\n",
    "    outputs = model(images)\n",
    "    _, predicted = torch.max(outputs, 1)\n",
    "\n",
    "    print('Predicted: ', ' '.join(f'{classes[predicted[j]]:5s}'\n",
    "                                for j in range(num_batches * batch_size)))\n",
    "\n"
   ]
  },
  {
   "cell_type": "markdown",
   "metadata": {},
   "source": [
    "# Model Training: Data without Augmentation"
   ]
  },
  {
   "cell_type": "code",
   "execution_count": 189,
   "metadata": {},
   "outputs": [],
   "source": [
    "# Step 1: Declare the model and associated classes\n",
    "classes = list(string.ascii_uppercase)\n",
    "lenet_no_aug = LeNet(len(classes))\n",
    "batch_size = 4\n",
    "channels = 3\n",
    "xdim = 32\n",
    "ydim = 32\n"
   ]
  },
  {
   "cell_type": "code",
   "execution_count": 190,
   "metadata": {},
   "outputs": [
    {
     "name": "stdout",
     "output_type": "stream",
     "text": [
      "Total number of images in Dataset is: 650\n"
     ]
    }
   ],
   "source": [
    "# Step 2: Create the trainloader and testloader instances\n",
    "path = \"./Data_full/\"\n",
    "imgs, labels = loadImages(path)\n",
    "print(f\"Total number of images in Dataset is: {len(imgs)}\")\n",
    "\n",
    "transforms_array = applyTransforms(imgs, crop_size=32, resize=15)\n",
    "[train_data, train_labels, trainloader, dev_data, dev_labels, devloader, test_data, test_labels, testloader] = train_dev_test_loaders(transforms_array, labels, test_split=0.2, batch_size=batch_size)\n"
   ]
  },
  {
   "cell_type": "code",
   "execution_count": 191,
   "metadata": {},
   "outputs": [
    {
     "data": {
      "image/png": "[encoded data removed]",
      "text/plain": [
       "<Figure size 720x720 with 1 Axes>"
      ]
     },
     "metadata": {
      "needs_background": "light"
     },
     "output_type": "display_data"
    },
    {
     "name": "stdout",
     "output_type": "stream",
     "text": [
      "labels: O     F     D     I     K     C     M     D    \n"
     ]
    }
   ],
   "source": [
    "# Step 3: Visualize how some of the images look after processing the data\n",
    "def visualize_images(trainloader, num_display, batch_size, xdim, ydim):\n",
    "    dataiter = iter(trainloader)\n",
    "    images = torch.empty((num_display * batch_size, channels, xdim, ydim))\n",
    "    labels = torch.empty((num_display * batch_size), dtype=torch.uint8)\n",
    "    #images, labels = dataiter.next()\n",
    "\n",
    "    start_index = 0\n",
    "    stop_index = batch_size\n",
    "    for i in range(num_display):\n",
    "        image, label = dataiter.next()\n",
    "        images[start_index:stop_index, :, :, :] = image\n",
    "        labels[start_index:stop_index] = label\n",
    "        start_index = stop_index\n",
    "        stop_index += batch_size\n",
    "\n",
    "    imshow(torchvision.utils.make_grid(images))\n",
    "    # print labels\n",
    "    print(\"labels: \" +\n",
    "          ' '.join(f'{classes[labels[j]]:5s}' for j in range(num_display * batch_size)))\n",
    "\n",
    "\n",
    "visualize_images(trainloader, num_display=2,\n",
    "                 batch_size=batch_size, xdim=xdim, ydim=ydim)\n"
   ]
  },
  {
   "cell_type": "code",
   "execution_count": 192,
   "metadata": {},
   "outputs": [],
   "source": [
    "# Step 4: Declare the loss function and optimizer for training\n",
    "lr = 0.001  # Too large suboptimal convergence. Too small is process gets stuck. Find a balance\n",
    "\n",
    "lenet_no_aug = LeNet(len(classes))\n",
    "criterion = nn.CrossEntropyLoss()\n",
    "optimizer = optim.Adam(lenet_no_aug.parameters(), lr=lr)\n"
   ]
  },
  {
   "cell_type": "code",
   "execution_count": 193,
   "metadata": {},
   "outputs": [
    {
     "name": "stdout",
     "output_type": "stream",
     "text": [
      "On step 0:\tTrain loss 3.0831527709960938\t|\tDev acc is 0.24615384615384617\n",
      "On step 2:\tTrain loss 0.49075785279273987\t|\tDev acc is 0.8153846153846154\n",
      "On step 4:\tTrain loss 0.008429542183876038\t|\tDev acc is 0.9076923076923077\n",
      "On step 6:\tTrain loss 0.009388227015733719\t|\tDev acc is 0.9846153846153847\n",
      "On step 8:\tTrain loss 5.936446541454643e-05\t|\tDev acc is 1.0\n",
      "On step 10:\tTrain loss 0.016368048265576363\t|\tDev acc is 1.0\n",
      "On step 12:\tTrain loss 0.0006883158930577338\t|\tDev acc is 0.9846153846153847\n",
      "On step 14:\tTrain loss 1.2636104656849056e-05\t|\tDev acc is 1.0\n",
      "On step 16:\tTrain loss 2.1219027985353023e-05\t|\tDev acc is 1.0\n",
      "On step 18:\tTrain loss 4.756337511935271e-05\t|\tDev acc is 1.0\n",
      "Finished Training\n"
     ]
    }
   ],
   "source": [
    "\n",
    "train_model(trainloader, train_data, train_labels, dev_data, dev_labels, criterion, optimizer,\n",
    "            lenet_no_aug, num_images=len(train_data), n=20)\n"
   ]
  },
  {
   "cell_type": "code",
   "execution_count": 194,
   "metadata": {},
   "outputs": [
    {
     "name": "stdout",
     "output_type": "stream",
     "text": [
      "Evalating on the held-out test set...\n",
      "Accuracy of the network on the 65 test images: 100 %\n",
      "Correct: 65 \n",
      "Total: 65\n"
     ]
    }
   ],
   "source": [
    "print(\"Evalating on the held-out test set...\")\n",
    "correct, total, misclass_ind = test_model(testloader, lenet_no_aug)\n",
    "\n",
    "print(f\"Correct: {correct} \\nTotal: {total}\")\n"
   ]
  },
  {
   "cell_type": "code",
   "execution_count": 195,
   "metadata": {},
   "outputs": [
    {
     "data": {
      "image/png": "[encoded data removed]",
      "text/plain": [
       "<Figure size 720x720 with 1 Axes>"
      ]
     },
     "metadata": {
      "needs_background": "light"
     },
     "output_type": "display_data"
    },
    {
     "name": "stdout",
     "output_type": "stream",
     "text": [
      "GroundTruth:  U     L     N     E    \n",
      "Predicted:  U     L     N     E    \n"
     ]
    }
   ],
   "source": [
    "classes = list(string.ascii_uppercase)\n",
    "show_true_vs_predicted(devloader, classes, lenet_no_aug,\n",
    "                       num_batches=1, batch_size=batch_size)\n"
   ]
  },
  {
   "cell_type": "code",
   "execution_count": 196,
   "metadata": {},
   "outputs": [],
   "source": [
    "# Visualize some incorrect values:\n",
    "def show_incorrect(misclass_ind, images, labels, model, num_display=1):\n",
    "    if len(misclass_ind) != 0:\n",
    "        incorrect_imgs = torch.Tensor([images[i] for i in misclass_ind])\n",
    "        true_labels = [labels[i] for i in misclass_ind]\n",
    "        print(incorrect_imgs.shape)\n",
    "\n",
    "        outputs = model(incorrect_imgs)\n",
    "        _, predicted = torch.max(outputs, 1)\n",
    "\n",
    "        incorrect_imgs = incorrect_imgs[:num_display, :, :, :]\n",
    "        true_labels = true_labels[:num_display]\n",
    "        predicted = predicted[:num_display]\n",
    "\n",
    "        imshow(torchvision.utils.make_grid(incorrect_imgs))\n",
    "        print(\"Actual labels: \" +\n",
    "              ' '.join(f'{classes[true_labels[j]]:5s}' for j in range(num_display)))\n",
    "        print(\"predicted labels: \" +\n",
    "              ' '.join(f'{classes[predicted[j]]:5s}' for j in range(num_display)))\n",
    "\n",
    "\n",
    "show_incorrect(misclass_ind, dev_data, dev_labels, lenet_no_aug)\n"
   ]
  },
  {
   "cell_type": "code",
   "execution_count": 197,
   "metadata": {},
   "outputs": [],
   "source": [
    "# Save the model!\n",
    "torch.save(lenet_no_aug.state_dict(), \"./models/lenet_no_aug_650\")\n"
   ]
  },
  {
   "cell_type": "markdown",
   "metadata": {},
   "source": [
    "## Part 2: Apply on Data Augmentation Set"
   ]
  },
  {
   "cell_type": "code",
   "execution_count": 225,
   "metadata": {},
   "outputs": [],
   "source": [
    "# Step 1: Declare the model and associated classes\n",
    "classes = list(string.ascii_uppercase)\n",
    "lenet_with_aug = LeNet(len(classes))\n",
    "batch_size = 4\n",
    "channels = 3\n",
    "xdim = 32\n",
    "ydim = 32\n"
   ]
  },
  {
   "cell_type": "code",
   "execution_count": 226,
   "metadata": {},
   "outputs": [
    {
     "name": "stdout",
     "output_type": "stream",
     "text": [
      "Total number of images in Dataset is: 3900\n"
     ]
    }
   ],
   "source": [
    "# Step 2: Create the trainloader and testloader instances\n",
    "path = \"./FinalImages/\"\n",
    "imgs, labels = loadImages(path)\n",
    "print(f\"Total number of images in Dataset is: {len(imgs)}\")\n",
    "\n",
    "transforms_array = applyTransforms(imgs, crop_size=32, resize=35)\n",
    "[train_data, train_labels, trainloader, dev_data, dev_labels, devloader, test_data, test_labels, testloader] = train_dev_test_loaders(transforms_array, labels, test_split=0.2, batch_size=batch_size)\n"
   ]
  },
  {
   "cell_type": "code",
   "execution_count": 227,
   "metadata": {},
   "outputs": [
    {
     "data": {
      "image/png": "[encoded data removed]",
      "text/plain": [
       "<Figure size 720x720 with 1 Axes>"
      ]
     },
     "metadata": {
      "needs_background": "light"
     },
     "output_type": "display_data"
    },
    {
     "name": "stdout",
     "output_type": "stream",
     "text": [
      "labels: H     U     C     J     N     I     Y     B    \n"
     ]
    }
   ],
   "source": [
    "# Step 3: Visualize how some of the images look after processing the data\n",
    "visualize_images(trainloader, num_display=2,\n",
    "                 batch_size=batch_size, xdim=xdim, ydim=ydim)\n"
   ]
  },
  {
   "cell_type": "code",
   "execution_count": 228,
   "metadata": {},
   "outputs": [],
   "source": [
    "# Step 4: Declare the loss function and optimizer for training\n",
    "\n",
    "lr = 0.001  # Too large suboptimal convergence. Too small is process gets stuck. Find a balance\n",
    "\n",
    "lenet_with_aug = LeNet(len(classes))\n",
    "criterion = nn.CrossEntropyLoss()\n",
    "optimizer = optim.Adam(lenet_with_aug.parameters(), lr=lr)\n"
   ]
  },
  {
   "cell_type": "code",
   "execution_count": 229,
   "metadata": {},
   "outputs": [
    {
     "name": "stdout",
     "output_type": "stream",
     "text": [
      "On step 0:\tTrain loss 0.12724940478801727\t|\tDev acc is 0.5846153846153846\n",
      "On step 2:\tTrain loss 0.0026977595407515764\t|\tDev acc is 0.8153846153846154\n",
      "On step 4:\tTrain loss 0.0006872437661513686\t|\tDev acc is 0.841025641025641\n",
      "On step 6:\tTrain loss 0.027923807501792908\t|\tDev acc is 0.8692307692307693\n",
      "On step 8:\tTrain loss 1.4781842764932662e-05\t|\tDev acc is 0.8794871794871795\n",
      "On step 10:\tTrain loss 1.8596476365928538e-05\t|\tDev acc is 0.8358974358974359\n",
      "On step 12:\tTrain loss 0.007620668038725853\t|\tDev acc is 0.8871794871794871\n",
      "On step 14:\tTrain loss 0.0007700338610447943\t|\tDev acc is 0.8948717948717949\n",
      "On step 16:\tTrain loss 0.000902007392141968\t|\tDev acc is 0.8461538461538461\n",
      "On step 18:\tTrain loss 2.3841855067985307e-07\t|\tDev acc is 0.8692307692307693\n",
      "Finished Training\n"
     ]
    }
   ],
   "source": [
    "train_model(trainloader, train_data, train_labels, dev_data, dev_labels, criterion, optimizer,\n",
    "            lenet_with_aug, num_images=len(train_data), n=20)\n"
   ]
  },
  {
   "cell_type": "code",
   "execution_count": 230,
   "metadata": {},
   "outputs": [
    {
     "name": "stdout",
     "output_type": "stream",
     "text": [
      "Evalating on the held-out test set...\n",
      "Accuracy of the network on the 390 test images: 88 %\n",
      "[12, 13, 40, 43, 49, 57, 66, 77, 93, 94, 102, 106, 107, 135, 154, 156, 172, 186, 190, 191, 195, 201, 205, 225, 232, 242, 256, 259, 262, 264, 267, 278, 287, 288, 316, 324, 327, 333, 347, 348, 353, 358, 359, 361, 380, 387]\n",
      "Correct: 344 \n",
      "Total: 390\n"
     ]
    }
   ],
   "source": [
    "print(\"Evalating on the held-out test set...\")\n",
    "correct, total, misclass_ind = test_model(testloader, lenet_with_aug)\n",
    "\n",
    "print(misclass_ind)\n",
    "\n",
    "print(f\"Correct: {correct} \\nTotal: {total}\")\n"
   ]
  },
  {
   "cell_type": "code",
   "execution_count": 231,
   "metadata": {},
   "outputs": [
    {
     "data": {
      "image/png": "[encoded data removed]",
      "text/plain": [
       "<Figure size 720x720 with 1 Axes>"
      ]
     },
     "metadata": {
      "needs_background": "light"
     },
     "output_type": "display_data"
    },
    {
     "name": "stdout",
     "output_type": "stream",
     "text": [
      "GroundTruth:  U     Z     Y     P    \n",
      "Predicted:  U     Z     Y     P    \n"
     ]
    }
   ],
   "source": [
    "classes = list(string.ascii_uppercase)\n",
    "show_true_vs_predicted(devloader, classes, lenet_with_aug,\n",
    "                       num_batches=1, batch_size=batch_size)\n"
   ]
  },
  {
   "cell_type": "code",
   "execution_count": 239,
   "metadata": {},
   "outputs": [
    {
     "name": "stdout",
     "output_type": "stream",
     "text": [
      "<class 'numpy.ndarray'>\n"
     ]
    },
    {
     "data": {
      "image/png": "[encoded data removed]",
      "text/plain": [
       "<Figure size 720x720 with 1 Axes>"
      ]
     },
     "metadata": {
      "needs_background": "light"
     },
     "output_type": "display_data"
    },
    {
     "name": "stdout",
     "output_type": "stream",
     "text": [
      "Actual labels: D     W     K     W     K    \n",
      "predicted labels: M     V     R     I     V    \n"
     ]
    }
   ],
   "source": [
    "def show_incorrect(misclass_ind, images, labels, model, num_display=1):\n",
    "    print(type(labels))\n",
    "    incorrect_imgs = torch.Tensor(images[misclass_ind])\n",
    "    true_labels = labels[misclass_ind]\n",
    "    \n",
    "\n",
    "    outputs = model(incorrect_imgs)\n",
    "    _, predicted = torch.max(outputs, 1)\n",
    "\n",
    "    idxs = np.random.choice(len(incorrect_imgs), num_display)\n",
    "\n",
    "    incorrect_imgs = incorrect_imgs[idxs]\n",
    "    true_labels = true_labels[idxs]\n",
    "    predicted = predicted[idxs]\n",
    "\n",
    "    imshow(torchvision.utils.make_grid(incorrect_imgs))\n",
    "    print(\"Actual labels: \" +\n",
    "          ' '.join(f'{classes[true_labels[j]]:5s}' for j in range(num_display)))\n",
    "    print(\"predicted labels: \" +\n",
    "          ' '.join(f'{classes[predicted[j]]:5s}' for j in range(num_display)))\n",
    "\n",
    "\n",
    "show_incorrect(misclass_ind, test_data, test_labels,\n",
    "               lenet_with_aug, num_display=5)\n"
   ]
  },
  {
   "cell_type": "code",
   "execution_count": 207,
   "metadata": {},
   "outputs": [],
   "source": [
    "# Save the model!\n",
    "torch.save(lenet_with_aug.state_dict(), f\"./models/lenet_with_aug_3900\")\n"
   ]
  },
  {
   "cell_type": "markdown",
   "metadata": {},
   "source": [
    "### Part 3: Compare each model (trained with vs without augmented data) on newly augmented data"
   ]
  },
  {
   "cell_type": "code",
   "execution_count": 240,
   "metadata": {},
   "outputs": [],
   "source": [
    "path = './Mult_Augments/'\n",
    "\n",
    "test_imgs, test_labels = loadImages(path)\n",
    "\n",
    "transforms_array_test_data = applyTransforms(test_imgs, crop_size=32, resize=35)\n",
    "test_data, test_labels, testloader = test_loader(transforms_array_test_data, test_labels)\n"
   ]
  },
  {
   "cell_type": "code",
   "execution_count": 241,
   "metadata": {},
   "outputs": [
    {
     "data": {
      "image/png": "[encoded data removed]",
      "text/plain": [
       "<Figure size 720x720 with 1 Axes>"
      ]
     },
     "metadata": {
      "needs_background": "light"
     },
     "output_type": "display_data"
    },
    {
     "name": "stdout",
     "output_type": "stream",
     "text": [
      "labels: T     U     R     J    \n"
     ]
    }
   ],
   "source": [
    "# Step 1: Visualize how some of the images look after processing the data\n",
    "dataiter = iter(testloader)\n",
    "images, labels = dataiter.next()\n",
    "\n",
    "imshow(torchvision.utils.make_grid(images))\n",
    "# print labels\n",
    "print(\"labels: \" + ' '.join(f'{classes[labels[j]]:5s}' for j in range(4)))\n"
   ]
  },
  {
   "cell_type": "code",
   "execution_count": 242,
   "metadata": {},
   "outputs": [
    {
     "name": "stdout",
     "output_type": "stream",
     "text": [
      "Accuracy of the network on the 650 test images: 32 %\n"
     ]
    }
   ],
   "source": [
    "lenet_no_aug = LeNet(len(classes))\n",
    "lenet_no_aug.load_state_dict(torch.load(\"./models/lenet_no_aug_650\"))\n",
    "lenet_no_aug.eval()\n",
    "\n",
    "\n",
    "correct, total, misclass_ind = test_model(testloader, lenet_no_aug)\n"
   ]
  },
  {
   "cell_type": "code",
   "execution_count": 243,
   "metadata": {},
   "outputs": [
    {
     "name": "stdout",
     "output_type": "stream",
     "text": [
      "Accuracy of the network on the 650 test images: 70 %\n"
     ]
    }
   ],
   "source": [
    "lenet_with_aug = LeNet(len(classes))\n",
    "lenet_with_aug.load_state_dict(torch.load(\"./models/lenet_with_aug_3900\"))\n",
    "lenet_with_aug.eval()\n",
    "\n",
    "correct, total, misclass_ind = test_model(testloader, lenet_with_aug)\n"
   ]
  },
  {
   "cell_type": "markdown",
   "metadata": {},
   "source": [
    "### Trish Fish Second Folder"
   ]
  },
  {
   "cell_type": "code",
   "execution_count": 251,
   "metadata": {},
   "outputs": [],
   "source": [
    "path = './Only_Mult_Augments/'\n",
    "\n",
    "test_imgs, test_labels = loadImages(path)\n",
    "\n",
    "transforms_array_test_data = applyTransforms(test_imgs, crop_size=32, resize=35)\n",
    "test_data, test_labels, testloader = test_loader(transforms_array_test_data, test_labels)\n"
   ]
  },
  {
   "cell_type": "code",
   "execution_count": 252,
   "metadata": {},
   "outputs": [
    {
     "data": {
      "image/png": "[encoded data removed]",
      "text/plain": [
       "<Figure size 720x720 with 1 Axes>"
      ]
     },
     "metadata": {
      "needs_background": "light"
     },
     "output_type": "display_data"
    },
    {
     "name": "stdout",
     "output_type": "stream",
     "text": [
      "GroundTruth:  R     O     G     P    \n",
      "Predicted:  Z     O     Q     W    \n"
     ]
    }
   ],
   "source": [
    "show_true_vs_predicted(testloader, classes, lenet_no_aug,\n",
    "                       num_batches=1, batch_size=batch_size)"
   ]
  },
  {
   "cell_type": "code",
   "execution_count": 253,
   "metadata": {},
   "outputs": [
    {
     "name": "stdout",
     "output_type": "stream",
     "text": [
      "Accuracy of the network on the 650 test images: 17 %\n"
     ]
    }
   ],
   "source": [
    "lenet_no_aug = LeNet(len(classes))\n",
    "lenet_no_aug.load_state_dict(torch.load(\"./models/lenet_no_aug_650\"))\n",
    "lenet_no_aug.eval()\n",
    "\n",
    "\n",
    "correct, total, misclass_ind = test_model(testloader, lenet_no_aug)"
   ]
  },
  {
   "cell_type": "code",
   "execution_count": 254,
   "metadata": {},
   "outputs": [
    {
     "name": "stdout",
     "output_type": "stream",
     "text": [
      "Accuracy of the network on the 650 test images: 59 %\n"
     ]
    }
   ],
   "source": [
    "lenet_with_aug = LeNet(len(classes))\n",
    "lenet_with_aug.load_state_dict(torch.load(\"./models/lenet_with_aug_3900\"))\n",
    "lenet_with_aug.eval()\n",
    "\n",
    "correct, total, misclass_ind = test_model(testloader, lenet_with_aug)\n",
    "\n",
    "\n"
   ]
  },
  {
   "cell_type": "code",
   "execution_count": 256,
   "metadata": {},
   "outputs": [
    {
     "name": "stdout",
     "output_type": "stream",
     "text": [
      "<class 'numpy.ndarray'>\n"
     ]
    },
    {
     "data": {
      "image/png": "[encoded data removed]",
      "text/plain": [
       "<Figure size 720x720 with 1 Axes>"
      ]
     },
     "metadata": {
      "needs_background": "light"
     },
     "output_type": "display_data"
    },
    {
     "name": "stdout",
     "output_type": "stream",
     "text": [
      "Actual labels: Y     B     U     Y    \n",
      "predicted labels: B     E     F     L    \n"
     ]
    }
   ],
   "source": [
    "show_incorrect(misclass_ind, test_data, test_labels, lenet_with_aug, num_display=4)"
   ]
  },
  {
   "cell_type": "code",
   "execution_count": null,
   "metadata": {},
   "outputs": [],
   "source": []
  }
 ],
 "metadata": {
  "interpreter": {
   "hash": "386d62b7d12699d17dee3eadaeda474ea6fd40c4c37c961a8453ed4a28944cbc"
  },
  "kernelspec": {
   "display_name": "Python 3.8.9 ('MLProject-env': venv)",
   "language": "python",
   "name": "python3"
  },
  "language_info": {
   "codemirror_mode": {
    "name": "ipython",
    "version": 3
   },
   "file_extension": ".py",
   "mimetype": "text/x-python",
   "name": "python",
   "nbconvert_exporter": "python",
   "pygments_lexer": "ipython3",
   "version": "3.8.9"
  },
  "orig_nbformat": 4
 },
 "nbformat": 4,
 "nbformat_minor": 2
}
