{
 "cells": [
  {
   "cell_type": "markdown",
   "metadata": {},
   "source": [
    "# LeNet Implementation!\n",
    "\n",
    "1. Create a LeNet Model\n",
    "2. Feed in the Augmented data\n",
    "3. Finalize!"
   ]
  },
  {
   "cell_type": "markdown",
   "metadata": {},
   "source": [
    "### Import the necessary packages"
   ]
  },
  {
   "cell_type": "code",
   "execution_count": 46,
   "metadata": {},
   "outputs": [],
   "source": [
    "import torch\n",
    "import torch.nn as nn\n",
    "import torch.nn.functional as F\n",
    "import torch.optim as optim\n",
    "\n",
    "import torchvision\n",
    "import torchvision.transforms as transforms\n",
    "\n",
    "import numpy as np\n",
    "import matplotlib.pyplot as plt\n",
    "from sklearn.model_selection import train_test_split\n",
    "import string\n",
    "\n",
    "import imghdr\n",
    "from PIL import Image\n",
    "from os import listdir\n"
   ]
  },
  {
   "cell_type": "markdown",
   "metadata": {},
   "source": [
    "### Generate the LeNet Model!\n",
    "**Requirements**\n",
    "1. Input 32x32 image\n",
    "2. Must adjust sizes if input is not 32x32"
   ]
  },
  {
   "cell_type": "code",
   "execution_count": 47,
   "metadata": {},
   "outputs": [],
   "source": [
    "class LeNet(nn.Module):\n",
    "    def __init__(self, num_classes):\n",
    "        super().__init__()\n",
    "\n",
    "\n",
    "        self.conv_layer = nn.Sequential(\n",
    "            nn.Conv2d(3, 6, 5),\n",
    "            nn.ReLU(),\n",
    "            nn.MaxPool2d(2, 2),\n",
    "            nn.Conv2d(6, 16, 5),\n",
    "            nn.ReLU(),\n",
    "            nn.MaxPool2d(2, 2),\n",
    "        )\n",
    "\n",
    "        self.linear = nn.Sequential(\n",
    "            nn.Flatten(),\n",
    "            nn.Linear(16 * 5 * 5, 120),\n",
    "            nn.ReLU(),\n",
    "            nn.Linear(120, 84),\n",
    "            nn.ReLU(),\n",
    "            nn.Linear(84, num_classes)\n",
    "        )\n",
    "\n",
    "        # self.conv1 = nn.Conv2d(3, 6, 5)\n",
    "        # self.pool = nn.MaxPool2d(2, 2)\n",
    "        # self.conv2 = nn.Conv2d(6, 16, 5)\n",
    "        # self.fc1 = nn.Linear(16 * 5 * 5, 120)\n",
    "        # self.fc2 = nn.Linear(120, 84)\n",
    "        # self.fc3 = nn.Linear(84, 26)\n",
    "\n",
    "    def forward(self, x):\n",
    "        # x = self.pool(F.relu(self.conv1(x)))\n",
    "        # x = self.pool(F.relu(self.conv2(x)))\n",
    "        # x = torch.flatten(x, 1) # flatten all dimensions except batch\n",
    "        # x = F.relu(self.fc1(x))\n",
    "        # x = F.relu(self.fc2(x))\n",
    "        # x = self.fc3(x)\n",
    "        x = self.conv_layer(x)\n",
    "        x = self.linear(x)\n",
    "        return x"
   ]
  },
  {
   "cell_type": "markdown",
   "metadata": {},
   "source": [
    "### Data handling"
   ]
  },
  {
   "cell_type": "code",
   "execution_count": 89,
   "metadata": {},
   "outputs": [],
   "source": [
    "# Input: Path to a folder of .png files. Let #=dataset num, l = letter represented, v=variation, a=augmentation\n",
    "#     Must be structured s.t. hand#_l_v_a.png\n",
    "# Output: List of .png images and their respective labels\n",
    "def loadImages(path):\n",
    "    imagesList = listdir(path)\n",
    "    imgs = []\n",
    "    labels = []\n",
    "    for image in imagesList: # iterate over all images in the folder\n",
    "      if imghdr.what(path + image) == 'png':\n",
    "        if (image[6].isalpha()): # 6th position is the letter\n",
    "          img = Image.open(path + image)\n",
    "          imgs.append(img)\n",
    "          labels.append(ord(image[6]) - ord('a')) # assumes that filename structure is 'handx_[label]_....'\n",
    "    return imgs, labels\n",
    "\n",
    "\n",
    "# Process the data given input and output images. \n",
    "# Input: all required arguments\n",
    "# Note: LeNet assumes input of 32. Resize is hyperparameter based on dataset.\n",
    "\n",
    "# def process_data(imgs, labels, batch_size=4, channels=3, resize=15, crop_size=32, test_split=0.2):\n",
    "#   transforms_array = applyTransforms(imgs, channels, crop_size, resize=resize)\n",
    "#   train_data, test_data, train_labels, test_labels = train_test_split(transforms_array, labels, test_size=test_split, random_state=42)\n",
    "#   [trainloader, testloader] = train_test_loaders(train_data, train_labels, test_data, test_labels, batch_size)\n",
    "#   return [trainloader, testloader]\n",
    "\n",
    "\n",
    "# Input: the images list (3 channels), crop size, and resize hyperparameters\n",
    "# Output: a tensor array of all the reshaped + resized images\n",
    "def applyTransforms(imgs, crop_size, resize):\n",
    "  # Define the necessary preprocessing transforms\n",
    "  num_imgs = len(imgs)\n",
    "  preprocess = transforms.Compose([\n",
    "    transforms.Resize(resize), # Hyperparameter\n",
    "    transforms.CenterCrop(crop_size),\n",
    "    transforms.ToTensor(),\n",
    "    transforms.Normalize(mean=[0.485, 0.456, 0.406], std=[0.229, 0.224, 0.225]),\n",
    "  ])\n",
    "\n",
    "  # Create tensor array\n",
    "  transforms_array = np.zeros((num_imgs, 3, crop_size, crop_size))\n",
    "  for i in range(num_imgs):\n",
    "    temp = preprocess(imgs[i])\n",
    "    transforms_array[i,:,:,:] = temp\n",
    "  \n",
    "  return transforms_array\n",
    "\n",
    "# Input: an image tensor [num_imgs, channels, x_dim, y_dim], test split, and a batch size\n",
    "# Output: a tensor array of all the reshaped + resized images\n",
    "def train_dev_loaders(transforms_array, test_split=0.2, batch_size=4):\n",
    "  ## Create the training dataand trainloader\n",
    "  train_data, dev_data, train_labels, dev_labels = train_test_split(transforms_array, labels, test_size=test_split, random_state=42)\n",
    "  train_data_and_labels = []\n",
    "  for i in range(len(train_data)):\n",
    "    sample = (torch.Tensor(train_data[i,:,:,:]), train_labels[i])\n",
    "    train_data_and_labels.append(sample)\n",
    "\n",
    "  trainloader = torch.utils.data.DataLoader(train_data_and_labels, batch_size=batch_size,\n",
    "                                            shuffle=True, num_workers=2)\n",
    "\n",
    "  ## Create the developmental data and devloader\n",
    "  dev_data_and_labels = []\n",
    "  for i in range(len(dev_data)):\n",
    "    sample = (torch.Tensor(dev_data[i,:,:,:]), dev_labels[i])\n",
    "    dev_data_and_labels.append(sample)\n",
    "\n",
    "  devloader = torch.utils.data.DataLoader(dev_data_and_labels, batch_size=batch_size,\n",
    "                                            shuffle=False, num_workers=2)\n",
    "  return [train_data, train_labels, trainloader, dev_data, dev_labels, devloader]\n",
    "\n",
    "# Input: One normalized image\n",
    "# Output: None\n",
    "# Plots the image, assumed to be [3, x_dim, y_dim]\n",
    "def imshow(img):\n",
    "  # Unnormalize the image before showing!\n",
    "    invTrans = transforms.Compose([ transforms.Normalize(mean = [ 0., 0., 0. ],\n",
    "                                                        std = [ 1/0.229, 1/0.224, 1/0.225 ]),\n",
    "                                    transforms.Normalize(mean = [ -0.485, -0.456, -0.406 ],\n",
    "                                                        std = [ 1., 1., 1. ]),\n",
    "                                  ])\n",
    "    img = invTrans(img)\n",
    "    plt.figure(figsize=(10,10))\n",
    "    plt.imshow(np.transpose(img, (1, 2, 0)))\n",
    "    plt.show()\n",
    "\n",
    "# Input: list of .png images, their labels, and other default parameters\n",
    "# Output: None\n",
    "# Plots the image, assumed to be [3, x_dim, y_dim]\n",
    "def test_loader(transforms_array, labels, batch_size=4):\n",
    "    ## Create the testing data and testloader    \n",
    "    test_data_and_labels = []\n",
    "    for i in range(len(transforms_array)):\n",
    "      sample = (torch.Tensor(transforms_array[i,:,:,:]), labels[i])\n",
    "      test_data_and_labels.append(sample)\n",
    "\n",
    "    testloader = torch.utils.data.DataLoader(test_data_and_labels, batch_size=batch_size,\n",
    "                                              shuffle=False, num_workers=2)\n",
    "    return testloader\n",
    "\n"
   ]
  },
  {
   "cell_type": "code",
   "execution_count": 49,
   "metadata": {},
   "outputs": [],
   "source": [
    "# Train the model parameters\n",
    "def train_model(trainloader, criterion, optimizer, model, num_images, n=20):\n",
    "\n",
    "  print_schedule = num_images // 5\n",
    "  for epoch in range(n):  # loop over the dataset multiple times\n",
    "\n",
    "      running_loss = 0.0\n",
    "      for i, data in enumerate(trainloader, 0):\n",
    "          # get the inputs; data is a list of [inputs, labels]\n",
    "          inputs, labels = data\n",
    "\n",
    "          # zero the parameter gradients\n",
    "          optimizer.zero_grad()\n",
    "\n",
    "          # forward + backward + optimize\n",
    "          outputs = model(inputs)\n",
    "          loss = criterion(outputs, labels)\n",
    "          loss.backward()\n",
    "          optimizer.step()\n",
    "\n",
    "          # print statistics\n",
    "          running_loss += loss.item()\n",
    "          if i % print_schedule == (print_schedule-1):    # print every 200 mini-batches\n",
    "              print(f'[{epoch + 1}, {i + 1:5d}] loss: {running_loss / 20:.3f}')\n",
    "              running_loss = 0.0\n",
    "\n",
    "  print('Finished Training')\n",
    "  return model\n",
    "\n",
    "# Test the model on help out dev set\n",
    "def test_model(testloader, model):\n",
    "    correct = 0\n",
    "    total = 0\n",
    "    misclass_ind = []\n",
    "    # since we're not training, we don't need to calculate the gradients for our outputs\n",
    "    with torch.no_grad():\n",
    "        for data in testloader:\n",
    "            images, labels = data\n",
    "            # calculate outputs by running images through the network\n",
    "            outputs = model(images)\n",
    "            # the class with the highest energy is what we choose as prediction\n",
    "            _, predicted = torch.max(outputs.data, 1)\n",
    "            correct += (predicted == labels).sum().item() # Calculate number correct\n",
    "            if ((predicted != labels).sum().item()) > 0:\n",
    "                incorrect = predicted - labels\n",
    "                for i in range(len(incorrect)):\n",
    "                    if incorrect[i] != 0:\n",
    "                        misclass_ind.append(total + i)           \n",
    "                    \n",
    "            total += labels.size(0) # for each batch (size=4), predict the labels\n",
    "\n",
    "\n",
    "    print(f'Accuracy of the network on the {total} test images: {100 * correct // total} %')\n",
    "\n",
    "    return correct, total, misclass_ind\n",
    "\n",
    "# Show number_batches * display_num images\n",
    "def show_true_vs_predicted(testloader, classes, model, num_batches, batch_size):\n",
    "    # print images\n",
    "    dataiter = iter(testloader)\n",
    "    images, labels = dataiter.next()\n",
    "\n",
    "    imshow(torchvision.utils.make_grid(images))\n",
    "    print('GroundTruth: ', ' '.join(f'{classes[labels[j]]:5s}' for j in range(num_batches * batch_size)))\n",
    "\n",
    "    outputs = model(images)\n",
    "    _, predicted = torch.max(outputs, 1)\n",
    "\n",
    "    print('Predicted: ', ' '.join(f'{classes[predicted[j]]:5s}'\n",
    "                                for j in range(num_batches * batch_size)))\n",
    "\n"
   ]
  },
  {
   "cell_type": "markdown",
   "metadata": {},
   "source": [
    "# Model Training: Data without Augmentation"
   ]
  },
  {
   "cell_type": "code",
   "execution_count": 50,
   "metadata": {},
   "outputs": [],
   "source": [
    "## Step 1: Declare the model and associated classes\n",
    "classes = list(string.ascii_uppercase)\n",
    "lenet_no_aug = LeNet(len(classes))\n",
    "batch_size = 4\n",
    "channels = 3\n",
    "xdim = 32\n",
    "ydim = 32"
   ]
  },
  {
   "cell_type": "code",
   "execution_count": 51,
   "metadata": {},
   "outputs": [
    {
     "name": "stdout",
     "output_type": "stream",
     "text": [
      "Total number of images in Dataset is: 650\n"
     ]
    }
   ],
   "source": [
    "# Step 2: Create the trainloader and testloader instances\n",
    "path = \"./Data_full/\"\n",
    "imgs, labels = loadImages(path)\n",
    "print(f\"Total number of images in Dataset is: {len(imgs)}\")\n",
    "\n",
    "transforms_array = applyTransforms(imgs, crop_size=32, resize=15)\n",
    "[train_data, train_labels, trainloader, dev_data, dev_labels, devloader] = train_dev_loaders(transforms_array, test_split=0.2, batch_size=batch_size)"
   ]
  },
  {
   "cell_type": "code",
   "execution_count": 52,
   "metadata": {},
   "outputs": [
    {
     "data": {
      "image/png": "[encoded data removed]",
      "text/plain": [
       "<Figure size 720x720 with 1 Axes>"
      ]
     },
     "metadata": {
      "needs_background": "light"
     },
     "output_type": "display_data"
    },
    {
     "name": "stdout",
     "output_type": "stream",
     "text": [
      "labels: U     T     D     Z     K     I     Y     X    \n"
     ]
    }
   ],
   "source": [
    "# Step 3: Visualize how some of the images look after processing the data\n",
    "def visualize_images(trainloader, num_display, batch_size, xdim, ydim):\n",
    "  dataiter = iter(trainloader)\n",
    "  images = torch.empty((num_display * batch_size, channels, xdim, ydim))\n",
    "  labels = torch.empty((num_display * batch_size), dtype=torch.uint8)\n",
    "  #images, labels = dataiter.next()\n",
    "\n",
    "  start_index = 0\n",
    "  stop_index = batch_size\n",
    "  for i in range(num_display):\n",
    "    image, label = dataiter.next()\n",
    "    images[start_index:stop_index,:,:,:] = image\n",
    "    labels[start_index:stop_index] = label\n",
    "    start_index = stop_index\n",
    "    stop_index += batch_size\n",
    "\n",
    "  imshow(torchvision.utils.make_grid(images))\n",
    "  # print labels\n",
    "  print(\"labels: \" + ' '.join(f'{classes[labels[j]]:5s}' for j in range(num_display * batch_size)))\n",
    "\n",
    "\n",
    "\n",
    "\n",
    "visualize_images(trainloader, num_display=2, batch_size=batch_size, xdim=xdim, ydim=ydim)"
   ]
  },
  {
   "cell_type": "code",
   "execution_count": 53,
   "metadata": {},
   "outputs": [],
   "source": [
    "# Step 4: Declare the loss function and optimizer for training\n",
    "lr = 0.001  # Too large suboptimal convergence. Too small is process gets stuck. Find a balance\n",
    "momentum = 0.9 # Standard should be close to 1\n",
    "\n",
    "criterion = nn.CrossEntropyLoss()\n",
    "optimizer = optim.SGD(lenet_no_aug.parameters(), lr=lr, momentum=momentum)"
   ]
  },
  {
   "cell_type": "code",
   "execution_count": 55,
   "metadata": {},
   "outputs": [
    {
     "name": "stdout",
     "output_type": "stream",
     "text": [
      "[1,   104] loss: 16.958\n",
      "[2,   104] loss: 16.894\n",
      "[3,   104] loss: 16.795\n",
      "[4,   104] loss: 16.461\n",
      "[5,   104] loss: 14.013\n",
      "[6,   104] loss: 8.036\n",
      "[7,   104] loss: 4.246\n",
      "[8,   104] loss: 2.327\n",
      "[9,   104] loss: 1.735\n",
      "[10,   104] loss: 1.439\n",
      "[11,   104] loss: 0.927\n",
      "[12,   104] loss: 0.833\n",
      "[13,   104] loss: 0.639\n",
      "[14,   104] loss: 0.238\n",
      "[15,   104] loss: 0.198\n",
      "[16,   104] loss: 0.127\n",
      "[17,   104] loss: 0.095\n",
      "[18,   104] loss: 0.046\n",
      "[19,   104] loss: 0.139\n",
      "[20,   104] loss: 0.079\n",
      "Finished Training\n"
     ]
    }
   ],
   "source": [
    "train_model(trainloader, criterion, optimizer, lenet_no_aug, num_images=len(train_data), n=20);"
   ]
  },
  {
   "cell_type": "code",
   "execution_count": 56,
   "metadata": {},
   "outputs": [
    {
     "name": "stdout",
     "output_type": "stream",
     "text": [
      "Evalating on the held-out developmenta set...\n",
      "Accuracy of the network on the 130 test images: 97 %\n",
      "[95, 98, 111]\n",
      "Correct: 127 \n",
      "Total: 130\n"
     ]
    }
   ],
   "source": [
    "print(\"Evalating on the held-out developmenta set...\")\n",
    "correct, total, misclass_ind = test_model(devloader, lenet_no_aug)\n",
    "\n",
    "print(f\"Correct: {correct} \\nTotal: {total}\")"
   ]
  },
  {
   "cell_type": "code",
   "execution_count": 57,
   "metadata": {},
   "outputs": [
    {
     "data": {
      "image/png": "[encoded data removed]",
      "text/plain": [
       "<Figure size 720x720 with 1 Axes>"
      ]
     },
     "metadata": {
      "needs_background": "light"
     },
     "output_type": "display_data"
    },
    {
     "name": "stdout",
     "output_type": "stream",
     "text": [
      "GroundTruth:  H     Q     C     W    \n",
      "Predicted:  H     Q     C     W    \n"
     ]
    }
   ],
   "source": [
    "classes = list(string.ascii_uppercase)\n",
    "show_true_vs_predicted(devloader, classes, lenet_no_aug, num_batches=1, batch_size=batch_size)"
   ]
  },
  {
   "cell_type": "code",
   "execution_count": 58,
   "metadata": {},
   "outputs": [
    {
     "data": {
      "image/png": "[encoded data removed]",
      "text/plain": [
       "<Figure size 720x720 with 1 Axes>"
      ]
     },
     "metadata": {
      "needs_background": "light"
     },
     "output_type": "display_data"
    },
    {
     "name": "stdout",
     "output_type": "stream",
     "text": [
      "Actual labels: A    \n",
      "predicted labels: S    \n"
     ]
    }
   ],
   "source": [
    "# Visualize some incorrect values:\n",
    "def show_incorrect(misclass_ind, images, labels, model, num_display=1):\n",
    "  if len(misclass_ind) != 0:\n",
    "    incorrect_imgs = torch.Tensor([images[i] for i in misclass_ind])\n",
    "    true_labels = [labels[i] for i in misclass_ind]\n",
    "\n",
    "    outputs = model(incorrect_imgs)\n",
    "    _, predicted = torch.max(outputs, 1)\n",
    "\n",
    "    incorrect_imgs = incorrect_imgs[:num_display, :, :, :]\n",
    "    true_labels = true_labels[:num_display]\n",
    "    predicted = predicted[:num_display]\n",
    "\n",
    "\n",
    "    imshow(torchvision.utils.make_grid(incorrect_imgs))\n",
    "    print(\"Actual labels: \" + ' '.join(f'{classes[true_labels[j]]:5s}' for j in range(num_display)))\n",
    "    print(\"predicted labels: \" + ' '.join(f'{classes[predicted[j]]:5s}' for j in range(num_display)))\n",
    "    \n",
    "\n",
    "show_incorrect(misclass_ind, dev_data, dev_labels, lenet_no_aug)\n"
   ]
  },
  {
   "cell_type": "code",
   "execution_count": 59,
   "metadata": {},
   "outputs": [],
   "source": [
    "# Save the model!\n",
    "torch.save(lenet_no_aug.state_dict(), \"./models/lenet_no_aug_650\")"
   ]
  },
  {
   "cell_type": "markdown",
   "metadata": {},
   "source": [
    "## Part 2: Apply on Data Augmentation Set"
   ]
  },
  {
   "cell_type": "code",
   "execution_count": 60,
   "metadata": {},
   "outputs": [],
   "source": [
    "## Step 1: Declare the model and associated classes\n",
    "classes = list(string.ascii_uppercase)\n",
    "lenet_with_aug = LeNet(len(classes))\n",
    "batch_size = 4\n",
    "channels = 3\n",
    "xdim = 32\n",
    "ydim = 32"
   ]
  },
  {
   "cell_type": "code",
   "execution_count": 61,
   "metadata": {},
   "outputs": [
    {
     "name": "stdout",
     "output_type": "stream",
     "text": [
      "Total number of images in Dataset is: 3900\n"
     ]
    }
   ],
   "source": [
    "# Step 2: Create the trainloader and testloader instances\n",
    "path = \"./FinalImages/\"\n",
    "imgs, labels = loadImages(path)\n",
    "print(f\"Total number of images in Dataset is: {len(imgs)}\")\n",
    "\n",
    "transforms_array = applyTransforms(imgs, crop_size=32, resize=35)\n",
    "[train_data, train_labels, trainloader, dev_data, dev_labels, devloader] = train_dev_loaders(transforms_array, test_split=0.2, batch_size=batch_size)"
   ]
  },
  {
   "cell_type": "code",
   "execution_count": 62,
   "metadata": {},
   "outputs": [
    {
     "data": {
      "image/png": "[encoded data removed]",
      "text/plain": [
       "<Figure size 720x720 with 1 Axes>"
      ]
     },
     "metadata": {
      "needs_background": "light"
     },
     "output_type": "display_data"
    },
    {
     "name": "stdout",
     "output_type": "stream",
     "text": [
      "labels: P     D     D     I     O     P     C     W    \n"
     ]
    }
   ],
   "source": [
    "# Step 3: Visualize how some of the images look after processing the data\n",
    "visualize_images(trainloader, num_display=2, batch_size=batch_size, xdim=xdim, ydim=ydim)"
   ]
  },
  {
   "cell_type": "code",
   "execution_count": 63,
   "metadata": {},
   "outputs": [],
   "source": [
    "# Step 4: Declare the loss function and optimizer for training\n",
    "\n",
    "lr = 0.001  # Too large suboptimal convergence. Too small is process gets stuck. Find a balance\n",
    "momentum = 0.9 # Standard should be close to 1\n",
    "\n",
    "criterion = nn.CrossEntropyLoss()\n",
    "optimizer = optim.SGD(lenet_with_aug.parameters(), lr=lr, momentum=momentum)"
   ]
  },
  {
   "cell_type": "code",
   "execution_count": 64,
   "metadata": {},
   "outputs": [
    {
     "name": "stdout",
     "output_type": "stream",
     "text": [
      "[1,   624] loss: 100.276\n",
      "[2,   624] loss: 65.648\n",
      "[3,   624] loss: 42.975\n",
      "[4,   624] loss: 31.120\n",
      "[5,   624] loss: 22.729\n",
      "[6,   624] loss: 17.933\n",
      "[7,   624] loss: 13.842\n",
      "[8,   624] loss: 11.032\n",
      "[9,   624] loss: 10.236\n",
      "[10,   624] loss: 8.233\n",
      "[11,   624] loss: 5.518\n",
      "[12,   624] loss: 5.274\n",
      "[13,   624] loss: 2.996\n",
      "[14,   624] loss: 4.364\n",
      "[15,   624] loss: 3.645\n",
      "[16,   624] loss: 2.285\n",
      "[17,   624] loss: 2.857\n",
      "[18,   624] loss: 2.253\n",
      "[19,   624] loss: 2.872\n",
      "[20,   624] loss: 1.952\n",
      "Finished Training\n"
     ]
    }
   ],
   "source": [
    "train_model(trainloader, criterion, optimizer, lenet_with_aug, num_images=len(train_data), n=20);"
   ]
  },
  {
   "cell_type": "code",
   "execution_count": 65,
   "metadata": {},
   "outputs": [
    {
     "name": "stdout",
     "output_type": "stream",
     "text": [
      "Evalating on the held-out developmental set...\n",
      "Accuracy of the network on the 780 test images: 87 %\n",
      "[1, 10, 12, 13, 29, 31, 44, 51, 62, 64, 65, 80, 81, 83, 89, 112, 115, 121, 128, 134, 136, 140, 164, 174, 206, 218, 221, 223, 233, 236, 251, 253, 269, 271, 278, 328, 333, 339, 340, 346, 349, 352, 382, 384, 407, 412, 413, 420, 422, 427, 440, 445, 448, 465, 469, 477, 496, 497, 498, 499, 508, 512, 518, 523, 528, 540, 566, 580, 590, 596, 598, 607, 608, 614, 617, 639, 655, 665, 668, 676, 682, 687, 692, 695, 700, 701, 719, 721, 722, 742, 746, 747, 748, 761, 763, 764, 769, 772]\n",
      "Correct: 682 \n",
      "Total: 780\n"
     ]
    }
   ],
   "source": [
    "print(\"Evalating on the held-out developmental set...\")\n",
    "correct, total, misclass_ind = test_model(devloader, lenet_with_aug)\n",
    "\n",
    "print(misclass_ind)\n",
    "\n",
    "print(f\"Correct: {correct} \\nTotal: {total}\")"
   ]
  },
  {
   "cell_type": "code",
   "execution_count": 66,
   "metadata": {},
   "outputs": [
    {
     "data": {
      "image/png": "[encoded data removed]",
      "text/plain": [
       "<Figure size 720x720 with 1 Axes>"
      ]
     },
     "metadata": {
      "needs_background": "light"
     },
     "output_type": "display_data"
    },
    {
     "name": "stdout",
     "output_type": "stream",
     "text": [
      "GroundTruth:  U     N     K     V    \n",
      "Predicted:  U     T     K     V    \n"
     ]
    }
   ],
   "source": [
    "classes = list(string.ascii_uppercase)\n",
    "show_true_vs_predicted(devloader, classes, lenet_with_aug, num_batches=1, batch_size=batch_size)"
   ]
  },
  {
   "cell_type": "code",
   "execution_count": 67,
   "metadata": {},
   "outputs": [
    {
     "data": {
      "image/png": "[encoded data removed]",
      "text/plain": [
       "<Figure size 720x720 with 1 Axes>"
      ]
     },
     "metadata": {
      "needs_background": "light"
     },
     "output_type": "display_data"
    },
    {
     "name": "stdout",
     "output_type": "stream",
     "text": [
      "Actual labels: N     R     S     P     B    \n",
      "predicted labels: T     F     T     H     E    \n"
     ]
    }
   ],
   "source": [
    "def show_incorrect(misclass_ind, images, labels, model, num_display=1):\n",
    "\n",
    "  incorrect_imgs = torch.Tensor([images[i] for i in misclass_ind])\n",
    "  true_labels = [labels[i] for i in misclass_ind]\n",
    "\n",
    "  outputs = model(incorrect_imgs)\n",
    "  _, predicted = torch.max(outputs, 1)\n",
    "\n",
    "  incorrect_imgs = incorrect_imgs[:num_display, :, :, :]\n",
    "  true_labels = true_labels[:num_display]\n",
    "  predicted = predicted[:num_display]\n",
    "\n",
    "\n",
    "  imshow(torchvision.utils.make_grid(incorrect_imgs))\n",
    "  print(\"Actual labels: \" + ' '.join(f'{classes[true_labels[j]]:5s}' for j in range(num_display)))\n",
    "  print(\"predicted labels: \" + ' '.join(f'{classes[predicted[j]]:5s}' for j in range(num_display)))\n",
    "  \n",
    "show_incorrect(misclass_ind, dev_data, dev_labels, lenet_with_aug, num_display=5)\n"
   ]
  },
  {
   "cell_type": "code",
   "execution_count": 68,
   "metadata": {},
   "outputs": [],
   "source": [
    "import datetime"
   ]
  },
  {
   "cell_type": "code",
   "execution_count": 69,
   "metadata": {},
   "outputs": [],
   "source": [
    "# Save the model!\n",
    "time = datetime.datetime.now()\n",
    "torch.save(lenet_with_aug.state_dict(), f\"./models/lenet_with_aug_3900\")"
   ]
  },
  {
   "cell_type": "markdown",
   "metadata": {},
   "source": [
    "### Part 3: Compare each model (trained with vs without augmented data) on newly augmented data"
   ]
  },
  {
   "cell_type": "code",
   "execution_count": 70,
   "metadata": {},
   "outputs": [],
   "source": [
    "path = './Mult_Augments/'\n",
    "\n",
    "test_imgs, test_labels = loadImages(path)\n",
    "\n",
    "#transforms_array_test_data = applyTransforms(test_imgs, crop_size=32, resize=35)\n",
    "testloader = test_loader(test_imgs, test_labels, crop_size=32, resize=35)"
   ]
  },
  {
   "cell_type": "code",
   "execution_count": 71,
   "metadata": {},
   "outputs": [
    {
     "data": {
      "image/png": "[encoded data removed]",
      "text/plain": [
       "<Figure size 720x720 with 1 Axes>"
      ]
     },
     "metadata": {
      "needs_background": "light"
     },
     "output_type": "display_data"
    },
    {
     "name": "stdout",
     "output_type": "stream",
     "text": [
      "labels: X     D     C     P    \n"
     ]
    }
   ],
   "source": [
    "# Step 1: Visualize how some of the images look after processing the data\n",
    "dataiter = iter(testloader)\n",
    "images, labels = dataiter.next()\n",
    "\n",
    "imshow(torchvision.utils.make_grid(images))\n",
    "# print labels\n",
    "print(\"labels: \" + ' '.join(f'{classes[labels[j]]:5s}' for j in range(4)))"
   ]
  },
  {
   "cell_type": "code",
   "execution_count": 72,
   "metadata": {},
   "outputs": [
    {
     "name": "stdout",
     "output_type": "stream",
     "text": [
      "Accuracy of the network on the 650 test images: 32 %\n"
     ]
    },
    {
     "data": {
      "text/plain": [
       "(213,\n",
       " 650,\n",
       " [1,\n",
       "  2,\n",
       "  3,\n",
       "  4,\n",
       "  6,\n",
       "  7,\n",
       "  8,\n",
       "  9,\n",
       "  10,\n",
       "  11,\n",
       "  12,\n",
       "  14,\n",
       "  17,\n",
       "  18,\n",
       "  20,\n",
       "  21,\n",
       "  22,\n",
       "  25,\n",
       "  28,\n",
       "  31,\n",
       "  32,\n",
       "  34,\n",
       "  35,\n",
       "  36,\n",
       "  37,\n",
       "  38,\n",
       "  39,\n",
       "  40,\n",
       "  42,\n",
       "  43,\n",
       "  44,\n",
       "  47,\n",
       "  48,\n",
       "  49,\n",
       "  50,\n",
       "  53,\n",
       "  54,\n",
       "  55,\n",
       "  56,\n",
       "  57,\n",
       "  58,\n",
       "  59,\n",
       "  60,\n",
       "  61,\n",
       "  62,\n",
       "  64,\n",
       "  65,\n",
       "  67,\n",
       "  68,\n",
       "  69,\n",
       "  71,\n",
       "  72,\n",
       "  73,\n",
       "  75,\n",
       "  76,\n",
       "  77,\n",
       "  79,\n",
       "  80,\n",
       "  81,\n",
       "  82,\n",
       "  83,\n",
       "  85,\n",
       "  86,\n",
       "  87,\n",
       "  88,\n",
       "  89,\n",
       "  90,\n",
       "  91,\n",
       "  92,\n",
       "  93,\n",
       "  94,\n",
       "  96,\n",
       "  99,\n",
       "  100,\n",
       "  101,\n",
       "  102,\n",
       "  103,\n",
       "  104,\n",
       "  105,\n",
       "  107,\n",
       "  108,\n",
       "  110,\n",
       "  111,\n",
       "  112,\n",
       "  114,\n",
       "  115,\n",
       "  116,\n",
       "  120,\n",
       "  121,\n",
       "  124,\n",
       "  125,\n",
       "  126,\n",
       "  128,\n",
       "  129,\n",
       "  132,\n",
       "  133,\n",
       "  134,\n",
       "  135,\n",
       "  138,\n",
       "  139,\n",
       "  140,\n",
       "  143,\n",
       "  144,\n",
       "  145,\n",
       "  146,\n",
       "  147,\n",
       "  148,\n",
       "  149,\n",
       "  151,\n",
       "  152,\n",
       "  153,\n",
       "  155,\n",
       "  157,\n",
       "  158,\n",
       "  161,\n",
       "  162,\n",
       "  163,\n",
       "  165,\n",
       "  167,\n",
       "  168,\n",
       "  169,\n",
       "  170,\n",
       "  171,\n",
       "  172,\n",
       "  175,\n",
       "  179,\n",
       "  180,\n",
       "  182,\n",
       "  183,\n",
       "  184,\n",
       "  186,\n",
       "  187,\n",
       "  189,\n",
       "  190,\n",
       "  191,\n",
       "  194,\n",
       "  195,\n",
       "  196,\n",
       "  198,\n",
       "  199,\n",
       "  200,\n",
       "  201,\n",
       "  202,\n",
       "  203,\n",
       "  205,\n",
       "  206,\n",
       "  207,\n",
       "  208,\n",
       "  210,\n",
       "  211,\n",
       "  214,\n",
       "  217,\n",
       "  218,\n",
       "  221,\n",
       "  224,\n",
       "  225,\n",
       "  227,\n",
       "  228,\n",
       "  229,\n",
       "  230,\n",
       "  232,\n",
       "  233,\n",
       "  235,\n",
       "  236,\n",
       "  239,\n",
       "  240,\n",
       "  241,\n",
       "  243,\n",
       "  244,\n",
       "  245,\n",
       "  246,\n",
       "  248,\n",
       "  250,\n",
       "  252,\n",
       "  254,\n",
       "  256,\n",
       "  257,\n",
       "  258,\n",
       "  259,\n",
       "  260,\n",
       "  261,\n",
       "  263,\n",
       "  265,\n",
       "  266,\n",
       "  267,\n",
       "  268,\n",
       "  269,\n",
       "  270,\n",
       "  272,\n",
       "  277,\n",
       "  278,\n",
       "  279,\n",
       "  283,\n",
       "  284,\n",
       "  285,\n",
       "  290,\n",
       "  292,\n",
       "  294,\n",
       "  295,\n",
       "  296,\n",
       "  297,\n",
       "  299,\n",
       "  300,\n",
       "  301,\n",
       "  303,\n",
       "  304,\n",
       "  306,\n",
       "  307,\n",
       "  308,\n",
       "  310,\n",
       "  311,\n",
       "  312,\n",
       "  314,\n",
       "  315,\n",
       "  316,\n",
       "  318,\n",
       "  319,\n",
       "  320,\n",
       "  321,\n",
       "  324,\n",
       "  326,\n",
       "  327,\n",
       "  330,\n",
       "  331,\n",
       "  332,\n",
       "  333,\n",
       "  334,\n",
       "  335,\n",
       "  336,\n",
       "  337,\n",
       "  340,\n",
       "  341,\n",
       "  343,\n",
       "  349,\n",
       "  351,\n",
       "  352,\n",
       "  353,\n",
       "  355,\n",
       "  356,\n",
       "  357,\n",
       "  358,\n",
       "  361,\n",
       "  362,\n",
       "  364,\n",
       "  365,\n",
       "  366,\n",
       "  368,\n",
       "  369,\n",
       "  370,\n",
       "  371,\n",
       "  373,\n",
       "  374,\n",
       "  375,\n",
       "  378,\n",
       "  380,\n",
       "  381,\n",
       "  383,\n",
       "  384,\n",
       "  388,\n",
       "  389,\n",
       "  391,\n",
       "  394,\n",
       "  396,\n",
       "  398,\n",
       "  400,\n",
       "  402,\n",
       "  403,\n",
       "  404,\n",
       "  405,\n",
       "  406,\n",
       "  408,\n",
       "  409,\n",
       "  411,\n",
       "  414,\n",
       "  415,\n",
       "  416,\n",
       "  418,\n",
       "  419,\n",
       "  421,\n",
       "  422,\n",
       "  424,\n",
       "  425,\n",
       "  427,\n",
       "  428,\n",
       "  429,\n",
       "  430,\n",
       "  431,\n",
       "  432,\n",
       "  434,\n",
       "  437,\n",
       "  438,\n",
       "  439,\n",
       "  440,\n",
       "  441,\n",
       "  443,\n",
       "  444,\n",
       "  445,\n",
       "  446,\n",
       "  447,\n",
       "  451,\n",
       "  452,\n",
       "  453,\n",
       "  456,\n",
       "  461,\n",
       "  462,\n",
       "  463,\n",
       "  464,\n",
       "  465,\n",
       "  468,\n",
       "  471,\n",
       "  472,\n",
       "  473,\n",
       "  474,\n",
       "  476,\n",
       "  477,\n",
       "  478,\n",
       "  480,\n",
       "  481,\n",
       "  484,\n",
       "  487,\n",
       "  488,\n",
       "  489,\n",
       "  490,\n",
       "  491,\n",
       "  492,\n",
       "  493,\n",
       "  494,\n",
       "  495,\n",
       "  496,\n",
       "  497,\n",
       "  498,\n",
       "  500,\n",
       "  501,\n",
       "  502,\n",
       "  504,\n",
       "  505,\n",
       "  508,\n",
       "  509,\n",
       "  513,\n",
       "  514,\n",
       "  515,\n",
       "  516,\n",
       "  518,\n",
       "  520,\n",
       "  521,\n",
       "  522,\n",
       "  524,\n",
       "  527,\n",
       "  528,\n",
       "  529,\n",
       "  530,\n",
       "  531,\n",
       "  532,\n",
       "  533,\n",
       "  536,\n",
       "  537,\n",
       "  538,\n",
       "  539,\n",
       "  540,\n",
       "  542,\n",
       "  544,\n",
       "  545,\n",
       "  546,\n",
       "  547,\n",
       "  550,\n",
       "  553,\n",
       "  554,\n",
       "  555,\n",
       "  557,\n",
       "  558,\n",
       "  559,\n",
       "  560,\n",
       "  562,\n",
       "  563,\n",
       "  564,\n",
       "  567,\n",
       "  568,\n",
       "  570,\n",
       "  571,\n",
       "  573,\n",
       "  575,\n",
       "  576,\n",
       "  577,\n",
       "  578,\n",
       "  579,\n",
       "  580,\n",
       "  581,\n",
       "  582,\n",
       "  583,\n",
       "  584,\n",
       "  587,\n",
       "  590,\n",
       "  592,\n",
       "  593,\n",
       "  594,\n",
       "  596,\n",
       "  597,\n",
       "  598,\n",
       "  599,\n",
       "  600,\n",
       "  601,\n",
       "  603,\n",
       "  605,\n",
       "  606,\n",
       "  607,\n",
       "  609,\n",
       "  610,\n",
       "  611,\n",
       "  612,\n",
       "  614,\n",
       "  615,\n",
       "  616,\n",
       "  617,\n",
       "  619,\n",
       "  620,\n",
       "  621,\n",
       "  623,\n",
       "  625,\n",
       "  626,\n",
       "  627,\n",
       "  629,\n",
       "  630,\n",
       "  632,\n",
       "  633,\n",
       "  634,\n",
       "  635,\n",
       "  636,\n",
       "  638,\n",
       "  640,\n",
       "  641,\n",
       "  642,\n",
       "  643,\n",
       "  644,\n",
       "  645,\n",
       "  646,\n",
       "  647,\n",
       "  649])"
      ]
     },
     "execution_count": 72,
     "metadata": {},
     "output_type": "execute_result"
    }
   ],
   "source": [
    "lenet_no_aug = LeNet(len(classes))\n",
    "lenet_no_aug.load_state_dict(torch.load(\"./models/lenet_no_aug_650\"))\n",
    "lenet_no_aug.eval()\n",
    "\n",
    "test_model(testloader, lenet_no_aug)"
   ]
  },
  {
   "cell_type": "code",
   "execution_count": 73,
   "metadata": {},
   "outputs": [
    {
     "name": "stdout",
     "output_type": "stream",
     "text": [
      "Accuracy of the network on the 650 test images: 69 %\n"
     ]
    },
    {
     "data": {
      "text/plain": [
       "(450,\n",
       " 650,\n",
       " [1,\n",
       "  10,\n",
       "  14,\n",
       "  15,\n",
       "  18,\n",
       "  24,\n",
       "  25,\n",
       "  27,\n",
       "  31,\n",
       "  36,\n",
       "  39,\n",
       "  40,\n",
       "  42,\n",
       "  43,\n",
       "  45,\n",
       "  46,\n",
       "  47,\n",
       "  48,\n",
       "  61,\n",
       "  63,\n",
       "  66,\n",
       "  68,\n",
       "  69,\n",
       "  71,\n",
       "  84,\n",
       "  89,\n",
       "  91,\n",
       "  92,\n",
       "  95,\n",
       "  103,\n",
       "  107,\n",
       "  109,\n",
       "  113,\n",
       "  114,\n",
       "  118,\n",
       "  119,\n",
       "  120,\n",
       "  122,\n",
       "  125,\n",
       "  134,\n",
       "  137,\n",
       "  141,\n",
       "  148,\n",
       "  151,\n",
       "  154,\n",
       "  155,\n",
       "  157,\n",
       "  158,\n",
       "  159,\n",
       "  163,\n",
       "  164,\n",
       "  167,\n",
       "  169,\n",
       "  170,\n",
       "  172,\n",
       "  175,\n",
       "  177,\n",
       "  186,\n",
       "  187,\n",
       "  189,\n",
       "  199,\n",
       "  200,\n",
       "  203,\n",
       "  204,\n",
       "  206,\n",
       "  209,\n",
       "  210,\n",
       "  212,\n",
       "  215,\n",
       "  216,\n",
       "  221,\n",
       "  228,\n",
       "  231,\n",
       "  232,\n",
       "  233,\n",
       "  237,\n",
       "  238,\n",
       "  240,\n",
       "  244,\n",
       "  248,\n",
       "  251,\n",
       "  259,\n",
       "  262,\n",
       "  268,\n",
       "  271,\n",
       "  277,\n",
       "  283,\n",
       "  291,\n",
       "  299,\n",
       "  300,\n",
       "  301,\n",
       "  302,\n",
       "  303,\n",
       "  306,\n",
       "  308,\n",
       "  310,\n",
       "  315,\n",
       "  316,\n",
       "  318,\n",
       "  321,\n",
       "  324,\n",
       "  327,\n",
       "  328,\n",
       "  333,\n",
       "  336,\n",
       "  337,\n",
       "  340,\n",
       "  347,\n",
       "  351,\n",
       "  352,\n",
       "  354,\n",
       "  355,\n",
       "  356,\n",
       "  362,\n",
       "  364,\n",
       "  369,\n",
       "  374,\n",
       "  378,\n",
       "  383,\n",
       "  384,\n",
       "  385,\n",
       "  386,\n",
       "  391,\n",
       "  399,\n",
       "  402,\n",
       "  404,\n",
       "  407,\n",
       "  409,\n",
       "  411,\n",
       "  419,\n",
       "  421,\n",
       "  424,\n",
       "  425,\n",
       "  431,\n",
       "  441,\n",
       "  442,\n",
       "  443,\n",
       "  446,\n",
       "  448,\n",
       "  451,\n",
       "  456,\n",
       "  459,\n",
       "  460,\n",
       "  461,\n",
       "  468,\n",
       "  470,\n",
       "  471,\n",
       "  472,\n",
       "  483,\n",
       "  485,\n",
       "  489,\n",
       "  490,\n",
       "  497,\n",
       "  499,\n",
       "  502,\n",
       "  506,\n",
       "  508,\n",
       "  514,\n",
       "  517,\n",
       "  518,\n",
       "  520,\n",
       "  525,\n",
       "  526,\n",
       "  533,\n",
       "  534,\n",
       "  537,\n",
       "  543,\n",
       "  547,\n",
       "  552,\n",
       "  553,\n",
       "  554,\n",
       "  559,\n",
       "  561,\n",
       "  567,\n",
       "  569,\n",
       "  571,\n",
       "  572,\n",
       "  574,\n",
       "  581,\n",
       "  582,\n",
       "  590,\n",
       "  595,\n",
       "  596,\n",
       "  597,\n",
       "  601,\n",
       "  606,\n",
       "  607,\n",
       "  619,\n",
       "  621,\n",
       "  622,\n",
       "  623,\n",
       "  625,\n",
       "  630,\n",
       "  631,\n",
       "  633,\n",
       "  634,\n",
       "  635,\n",
       "  638,\n",
       "  645,\n",
       "  649])"
      ]
     },
     "execution_count": 73,
     "metadata": {},
     "output_type": "execute_result"
    }
   ],
   "source": [
    "lenet_with_aug = LeNet(len(classes))\n",
    "lenet_with_aug.load_state_dict(torch.load(\"./models/lenet_with_aug_3900\"))\n",
    "lenet_with_aug.eval()\n",
    "\n",
    "test_model(testloader, lenet_with_aug)"
   ]
  },
  {
   "cell_type": "markdown",
   "metadata": {},
   "source": [
    "### Trish Fish Second Folder"
   ]
  },
  {
   "cell_type": "code",
   "execution_count": 90,
   "metadata": {},
   "outputs": [],
   "source": [
    "path = './Only_Mult_Augments/'\n",
    "\n",
    "test_imgs, test_labels = loadImages(path)\n",
    "\n",
    "transforms_array = applyTransforms(test_imgs, crop_size=32, resize=35)\n",
    "testloader = test_loader(transforms_array, test_labels)"
   ]
  },
  {
   "cell_type": "code",
   "execution_count": 91,
   "metadata": {},
   "outputs": [
    {
     "name": "stdout",
     "output_type": "stream",
     "text": [
      "Accuracy of the network on the 650 test images: 15 %\n"
     ]
    },
    {
     "data": {
      "image/png": "[encoded data removed]",
      "text/plain": [
       "<Figure size 720x720 with 1 Axes>"
      ]
     },
     "metadata": {
      "needs_background": "light"
     },
     "output_type": "display_data"
    },
    {
     "name": "stdout",
     "output_type": "stream",
     "text": [
      "Actual labels: R     O     G     P    \n",
      "predicted labels: Z     E     Q     O    \n"
     ]
    }
   ],
   "source": [
    "lenet_no_aug = LeNet(len(classes))\n",
    "lenet_no_aug.load_state_dict(torch.load(\"./models/lenet_no_aug_650\"))\n",
    "lenet_no_aug.eval()\n",
    "\n",
    "correct, total, misclass_ind = test_model(testloader, lenet_no_aug)\n",
    "show_incorrect(misclass_ind, transforms_array, test_labels, lenet_no_aug, num_display=4)\n"
   ]
  },
  {
   "cell_type": "code",
   "execution_count": 92,
   "metadata": {},
   "outputs": [
    {
     "name": "stdout",
     "output_type": "stream",
     "text": [
      "Accuracy of the network on the 650 test images: 57 %\n"
     ]
    },
    {
     "data": {
      "image/png": "[encoded data removed]",
      "text/plain": [
       "<Figure size 720x720 with 1 Axes>"
      ]
     },
     "metadata": {
      "needs_background": "light"
     },
     "output_type": "display_data"
    },
    {
     "name": "stdout",
     "output_type": "stream",
     "text": [
      "Actual labels: R     P     B     B    \n",
      "predicted labels: N     Q     W     W    \n"
     ]
    }
   ],
   "source": [
    "lenet_with_aug = LeNet(len(classes))\n",
    "lenet_with_aug.load_state_dict(torch.load(\"./models/lenet_with_aug_3900\"))\n",
    "lenet_with_aug.eval()\n",
    "\n",
    "correct, total, misclass_ind = test_model(testloader, lenet_with_aug)\n",
    "show_incorrect(misclass_ind, transforms_array, test_labels, lenet_with_aug, num_display=4)"
   ]
  },
  {
   "cell_type": "code",
   "execution_count": null,
   "metadata": {},
   "outputs": [],
   "source": []
  }
 ],
 "metadata": {
  "interpreter": {
   "hash": "386d62b7d12699d17dee3eadaeda474ea6fd40c4c37c961a8453ed4a28944cbc"
  },
  "kernelspec": {
   "display_name": "Python 3.8.9 ('MLProject-env': venv)",
   "language": "python",
   "name": "python3"
  },
  "language_info": {
   "codemirror_mode": {
    "name": "ipython",
    "version": 3
   },
   "file_extension": ".py",
   "mimetype": "text/x-python",
   "name": "python",
   "nbconvert_exporter": "python",
   "pygments_lexer": "ipython3",
   "version": "3.8.9"
  },
  "orig_nbformat": 4
 },
 "nbformat": 4,
 "nbformat_minor": 2
}
