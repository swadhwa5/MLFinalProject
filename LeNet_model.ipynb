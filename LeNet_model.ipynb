{
 "cells": [
  {
   "cell_type": "markdown",
   "metadata": {},
   "source": [
    "# LeNet Implementation!\n",
    "\n",
    "1. Create a LeNet Model\n",
    "2. Feed in the Augmented data\n",
    "3. Finalize!"
   ]
  },
  {
   "cell_type": "markdown",
   "metadata": {},
   "source": [
    "### Import the necessary packages"
   ]
  },
  {
   "cell_type": "code",
   "execution_count": 1,
   "metadata": {},
   "outputs": [],
   "source": [
    "import torch\n",
    "import torch.nn as nn\n",
    "import torch.nn.functional as F\n",
    "import torch.optim as optim\n",
    "\n",
    "import torchvision\n",
    "import torchvision.transforms as transforms\n",
    "\n",
    "import numpy as np\n",
    "import matplotlib.pyplot as plt\n",
    "from sklearn.model_selection import train_test_split\n",
    "import string\n",
    "\n",
    "import imghdr\n",
    "from PIL import Image\n",
    "from os import listdir\n"
   ]
  },
  {
   "cell_type": "markdown",
   "metadata": {},
   "source": [
    "### Model"
   ]
  },
  {
   "cell_type": "code",
   "execution_count": 2,
   "metadata": {},
   "outputs": [],
   "source": [
    "# Right now, this model is based on input size of 32 x 32. Must adjust kernels + padding + strides\n",
    "# if we want to use a different input size\n",
    "class LeNet(nn.Module):\n",
    "    def __init__(self):\n",
    "        super().__init__()\n",
    "        self.conv1 = nn.Conv2d(3, 6, 5)\n",
    "        self.pool = nn.MaxPool2d(2, 2)\n",
    "        self.conv2 = nn.Conv2d(6, 16, 5)\n",
    "        self.fc1 = nn.Linear(16 * 5 * 5, 120)\n",
    "        self.fc2 = nn.Linear(120, 84)\n",
    "        self.fc3 = nn.Linear(84, 26)\n",
    "\n",
    "    def forward(self, x):\n",
    "        x = self.pool(F.relu(self.conv1(x)))\n",
    "        x = self.pool(F.relu(self.conv2(x)))\n",
    "        x = torch.flatten(x, 1) # flatten all dimensions except batch\n",
    "        x = F.relu(self.fc1(x))\n",
    "        x = F.relu(self.fc2(x))\n",
    "        x = self.fc3(x)\n",
    "        return x"
   ]
  },
  {
   "cell_type": "markdown",
   "metadata": {},
   "source": [
    "### Data handling"
   ]
  },
  {
   "cell_type": "code",
   "execution_count": 3,
   "metadata": {},
   "outputs": [],
   "source": [
    "# Loads the images as list of png files based on the path\n",
    "def loadImages(path):\n",
    "    imagesList = listdir(path)\n",
    "    imgs = []\n",
    "    labels = []\n",
    "    for image in imagesList:\n",
    "      if imghdr.what(path + image) == 'png':\n",
    "        if (image[6].isalpha()): # only add 5 of each image, only add alphabetical values\n",
    "          img = Image.open(path + image)\n",
    "          imgs.append(img)\n",
    "          labels.append(ord(image[6]) - ord('a')) # assumes that filename structure is 'handx_[label]_....'\n",
    "    return imgs, labels\n",
    "\n",
    "\n",
    "# Process the data given input and output images. LeNet assumes input of 32. Resize is hyperparameter based on dataset.\n",
    "def process_data(imgs, labels, batch_size=4, channels=3, resize=15, crop_size=32, test_split=0.2):\n",
    "  transforms_array = applyTransforms(imgs, channels, crop_size, resize=resize)\n",
    "  train_data, test_data, train_labels, test_labels = train_test_split(transforms_array, labels, test_size=test_split, random_state=42)\n",
    "  [trainloader, testloader] = train_test_loaders(train_data, train_labels, test_data, test_labels, batch_size)\n",
    "  return [trainloader, testloader]\n",
    "\n",
    "\n",
    "# Reshape and Resize images\n",
    "def applyTransforms(imgs, channels, crop_size, resize=15):\n",
    "  # Define the necessary preprocessing transforms\n",
    "  num_imgs = len(imgs)\n",
    "  preprocess = transforms.Compose([\n",
    "    transforms.Resize(resize), # Hyperparameter\n",
    "    transforms.CenterCrop(crop_size),\n",
    "    transforms.ToTensor(),\n",
    "    transforms.Normalize(mean=[0.485, 0.456, 0.406], std=[0.229, 0.224, 0.225]),\n",
    "  ])\n",
    "\n",
    "  ## Second, we must create the training and testing data. Format it so it's same as using CIFAR dataset\n",
    "  transforms_array = np.zeros((num_imgs, channels, crop_size, crop_size))\n",
    "  for i in range(num_imgs):\n",
    "    temp = preprocess(imgs[i])\n",
    "    transforms_array[i,:,:,:] = temp\n",
    "  \n",
    "  return transforms_array\n",
    "\n",
    "  \n",
    "def train_test_loaders(train_data, train_labels, test_data, test_labels, batch_size):\n",
    "  ## Create the training dataand trainloader\n",
    "  train_data_and_labels = []\n",
    "  for i in range(len(train_data)):\n",
    "    sample = (torch.Tensor(train_data[i,:,:,:]), train_labels[i])\n",
    "    train_data_and_labels.append(sample)\n",
    "\n",
    "  trainloader = torch.utils.data.DataLoader(train_data_and_labels, batch_size=batch_size,\n",
    "                                            shuffle=True, num_workers=2)\n",
    "\n",
    "  ## Create the testing data and testloader\n",
    "  test_data_and_labels = []\n",
    "  for i in range(len(test_data)):\n",
    "    sample = (torch.Tensor(test_data[i,:,:,:]), test_labels[i])\n",
    "    test_data_and_labels.append(sample)\n",
    "\n",
    "  testloader = torch.utils.data.DataLoader(test_data_and_labels, batch_size=batch_size,\n",
    "                                            shuffle=True, num_workers=2)\n",
    "  return [trainloader, testloader]\n",
    "\n",
    "def imshow(img):\n",
    "  # Unnormalize the image before showing!\n",
    "    invTrans = transforms.Compose([ transforms.Normalize(mean = [ 0., 0., 0. ],\n",
    "                                                        std = [ 1/0.229, 1/0.224, 1/0.225 ]),\n",
    "                                    transforms.Normalize(mean = [ -0.485, -0.456, -0.406 ],\n",
    "                                                        std = [ 1., 1., 1. ]),\n",
    "                                  ])\n",
    "    img = invTrans(img)\n",
    "    print(img.shape)\n",
    "    plt.figure(figsize=(10,10))\n",
    "    plt.imshow(np.transpose(img, (1, 2, 0)))\n",
    "    plt.show()\n",
    "\n",
    "def test_loader(imgs, labels, batch_size=4, channels=3, resize=15, crop_size=32):\n",
    "    ## Create the testing data and testloader\n",
    "    transforms_array = applyTransforms(imgs, channels, crop_size, resize=resize)\n",
    "    \n",
    "    test_data_and_labels = []\n",
    "    for i in range(len(transforms_array)):\n",
    "      sample = (torch.Tensor(transforms_array[i,:,:,:]), labels[i])\n",
    "      test_data_and_labels.append(sample)\n",
    "\n",
    "    testloader = torch.utils.data.DataLoader(test_data_and_labels, batch_size=batch_size,\n",
    "                                              shuffle=True, num_workers=2)\n",
    "    return testloader\n",
    "\n"
   ]
  },
  {
   "cell_type": "code",
   "execution_count": 4,
   "metadata": {},
   "outputs": [],
   "source": [
    "def train_model(trainloader, criterion, optimizer, model, num_images, n=20):\n",
    "\n",
    "  print_schedule = num_images // 5\n",
    "  for epoch in range(n):  # loop over the dataset multiple times\n",
    "\n",
    "      running_loss = 0.0\n",
    "      for i, data in enumerate(trainloader, 0):\n",
    "          # get the inputs; data is a list of [inputs, labels]\n",
    "          inputs, labels = data\n",
    "\n",
    "\n",
    "          # zero the parameter gradients\n",
    "          optimizer.zero_grad()\n",
    "\n",
    "          # forward + backward + optimize\n",
    "          outputs = model(inputs)\n",
    "          loss = criterion(outputs, labels)\n",
    "          loss.backward()\n",
    "          optimizer.step()\n",
    "\n",
    "          # print statistics\n",
    "          running_loss += loss.item()\n",
    "          if i % print_schedule == (print_schedule-1):    # print every 200 mini-batches\n",
    "              print(f'[{epoch + 1}, {i + 1:5d}] loss: {running_loss / 20:.3f}')\n",
    "              running_loss = 0.0\n",
    "\n",
    "  print('Finished Training')\n",
    "  return model\n",
    "\n",
    "\n",
    "def test_model(testloader, model):\n",
    "    correct = 0\n",
    "    total = 0\n",
    "    # since we're not training, we don't need to calculate the gradients for our outputs\n",
    "    with torch.no_grad():\n",
    "        for data in testloader:\n",
    "            images, labels = data\n",
    "            # calculate outputs by running images through the network\n",
    "            outputs = model(images)\n",
    "            # the class with the highest energy is what we choose as prediction\n",
    "            _, predicted = torch.max(outputs.data, 1)\n",
    "            total += labels.size(0)\n",
    "            correct += (predicted == labels).sum().item()\n",
    "\n",
    "    print(f'Accuracy of the network on the {total} test images: {100 * correct // total} %')\n",
    "\n",
    "    return correct, total\n",
    "\n",
    "def show_true_vs_predicted(testloader, classes, model):\n",
    "    # print images\n",
    "    dataiter = iter(testloader)\n",
    "    images, labels = dataiter.next()\n",
    "\n",
    "    imshow(torchvision.utils.make_grid(images))\n",
    "    print('GroundTruth: ', ' '.join(f'{classes[labels[j]]:5s}' for j in range(4)))\n",
    "\n",
    "    outputs = model(images)\n",
    "    _, predicted = torch.max(outputs, 1)\n",
    "\n",
    "    print('Predicted: ', ' '.join(f'{classes[predicted[j]]:5s}'\n",
    "                                for j in range(4)))\n",
    "\n"
   ]
  },
  {
   "cell_type": "markdown",
   "metadata": {},
   "source": [
    "# Model Training: Data without Augmentation"
   ]
  },
  {
   "cell_type": "code",
   "execution_count": 5,
   "metadata": {},
   "outputs": [
    {
     "name": "stdout",
     "output_type": "stream",
     "text": [
      "Total number of images in Dataset is: 650\n"
     ]
    }
   ],
   "source": [
    "## Step 1: Declare the model and associated classes\n",
    "lenet_no_aug = LeNet()\n",
    "classes = list(string.ascii_uppercase)\n",
    "\n",
    "# Step 2: Create the trainloader and testloader instances\n",
    "path = \"./Data_full/\"\n",
    "imgs, labels = loadImages(path)\n",
    "num_images = len(imgs)\n",
    "print(f\"Total number of images in Dataset is: {num_images}\")\n",
    "\n",
    "[trainloader, testloader] = process_data(imgs, labels, crop_size=32)"
   ]
  },
  {
   "cell_type": "code",
   "execution_count": 6,
   "metadata": {},
   "outputs": [
    {
     "name": "stdout",
     "output_type": "stream",
     "text": [
      "torch.Size([3, 36, 138])\n"
     ]
    },
    {
     "data": {
      "image/png": "[encoded data removed]",
      "text/plain": [
       "<Figure size 720x720 with 1 Axes>"
      ]
     },
     "metadata": {
      "needs_background": "light"
     },
     "output_type": "display_data"
    },
    {
     "name": "stdout",
     "output_type": "stream",
     "text": [
      "labels: X     W     B     V    \n"
     ]
    }
   ],
   "source": [
    "# Step 3: Visualize how some of the images look after processing the data\n",
    "dataiter = iter(trainloader)\n",
    "images, labels = dataiter.next()\n",
    "\n",
    "imshow(torchvision.utils.make_grid(images))\n",
    "# print labels\n",
    "print(\"labels: \" + ' '.join(f'{classes[labels[j]]:5s}' for j in range(4)))"
   ]
  },
  {
   "cell_type": "code",
   "execution_count": 7,
   "metadata": {},
   "outputs": [],
   "source": [
    "# Step 4: Declare the loss function and optimizer for training\n",
    "lr = 0.001  # Too large suboptimal convergence. Too small is process gets stuck. Find a balance\n",
    "momentum = 0.9 # Standard should be close to 1\n",
    "\n",
    "criterion = nn.CrossEntropyLoss()\n",
    "optimizer = optim.SGD(lenet_no_aug.parameters(), lr=lr, momentum=momentum)"
   ]
  },
  {
   "cell_type": "code",
   "execution_count": 8,
   "metadata": {},
   "outputs": [
    {
     "name": "stdout",
     "output_type": "stream",
     "text": [
      "[1,   130] loss: 21.155\n",
      "[2,   130] loss: 20.906\n",
      "[3,   130] loss: 19.052\n",
      "[4,   130] loss: 14.289\n",
      "[5,   130] loss: 9.276\n",
      "[6,   130] loss: 6.689\n",
      "[7,   130] loss: 4.624\n",
      "[8,   130] loss: 3.437\n",
      "[9,   130] loss: 2.797\n",
      "[10,   130] loss: 1.838\n",
      "[11,   130] loss: 1.384\n",
      "[12,   130] loss: 1.110\n",
      "[13,   130] loss: 0.660\n",
      "[14,   130] loss: 1.170\n",
      "[15,   130] loss: 0.725\n",
      "[16,   130] loss: 0.772\n",
      "[17,   130] loss: 0.259\n",
      "[18,   130] loss: 0.354\n",
      "[19,   130] loss: 0.211\n",
      "[20,   130] loss: 0.293\n",
      "[21,   130] loss: 1.299\n",
      "[22,   130] loss: 0.171\n",
      "[23,   130] loss: 0.057\n",
      "[24,   130] loss: 0.038\n",
      "[25,   130] loss: 0.031\n",
      "Finished Training\n"
     ]
    }
   ],
   "source": [
    "train_model(trainloader, criterion, optimizer, lenet_no_aug, num_images=num_images, n=25);"
   ]
  },
  {
   "cell_type": "code",
   "execution_count": 9,
   "metadata": {},
   "outputs": [
    {
     "name": "stdout",
     "output_type": "stream",
     "text": [
      "Accuracy of the network on the 130 test images: 100 %\n",
      "Correct: 130 \n",
      " Total: 130\n"
     ]
    }
   ],
   "source": [
    "correct, total = test_model(testloader, lenet_no_aug);\n",
    "\n",
    "print(f\"Correct: {correct} \\n Total: {total}\")"
   ]
  },
  {
   "cell_type": "code",
   "execution_count": 10,
   "metadata": {},
   "outputs": [
    {
     "name": "stdout",
     "output_type": "stream",
     "text": [
      "torch.Size([3, 36, 138])\n"
     ]
    },
    {
     "data": {
      "image/png": "[encoded data removed]",
      "text/plain": [
       "<Figure size 720x720 with 1 Axes>"
      ]
     },
     "metadata": {
      "needs_background": "light"
     },
     "output_type": "display_data"
    },
    {
     "name": "stdout",
     "output_type": "stream",
     "text": [
      "GroundTruth:  L     F     I     K    \n",
      "Predicted:  L     F     I     K    \n"
     ]
    }
   ],
   "source": [
    "classes = list(string.ascii_uppercase)\n",
    "show_true_vs_predicted(testloader, classes, lenet_no_aug)"
   ]
  },
  {
   "cell_type": "code",
   "execution_count": 11,
   "metadata": {},
   "outputs": [],
   "source": [
    "# Save the model!\n",
    "torch.save(lenet_no_aug.state_dict(), \"./models/lenet_no_aug_650\")"
   ]
  },
  {
   "cell_type": "markdown",
   "metadata": {},
   "source": [
    "## Part 2: Apply on Data Augmentation Set"
   ]
  },
  {
   "cell_type": "code",
   "execution_count": 12,
   "metadata": {},
   "outputs": [],
   "source": [
    "## Step 1: Declare the model and associated classes\n",
    "lenet_with_aug = LeNet()\n",
    "classes = list(string.ascii_uppercase)"
   ]
  },
  {
   "cell_type": "code",
   "execution_count": 13,
   "metadata": {},
   "outputs": [
    {
     "name": "stdout",
     "output_type": "stream",
     "text": [
      "Total number of images in Dataset is: 3900\n"
     ]
    }
   ],
   "source": [
    "# Step 2: Create the trainloader and testloader instances\n",
    "path = \"./FinalImages/\"\n",
    "imgs, labels = loadImages(path)\n",
    "num_images = len(imgs)\n",
    "print(f\"Total number of images in Dataset is: {num_images}\")\n",
    "\n",
    "[trainloader, testloader] = process_data(imgs, labels, resize=35, crop_size=32) # note: had to adjust resize b/c assumes 600x600 now"
   ]
  },
  {
   "cell_type": "code",
   "execution_count": 14,
   "metadata": {},
   "outputs": [
    {
     "name": "stdout",
     "output_type": "stream",
     "text": [
      "torch.Size([3, 36, 138])\n"
     ]
    },
    {
     "data": {
      "image/png": "[encoded data removed]",
      "text/plain": [
       "<Figure size 720x720 with 1 Axes>"
      ]
     },
     "metadata": {
      "needs_background": "light"
     },
     "output_type": "display_data"
    },
    {
     "name": "stdout",
     "output_type": "stream",
     "text": [
      "labels: F     V     N     T    \n"
     ]
    }
   ],
   "source": [
    "# Step 3: Visualize how some of the images look after processing the data\n",
    "dataiter = iter(trainloader)\n",
    "images, labels = dataiter.next()\n",
    "batch_size = 4\n",
    "\n",
    "imshow(torchvision.utils.make_grid(images))\n",
    "# print labels\n",
    "print(\"labels: \" + ' '.join(f'{classes[labels[j]]:5s}' for j in range(batch_size)))"
   ]
  },
  {
   "cell_type": "code",
   "execution_count": 15,
   "metadata": {},
   "outputs": [],
   "source": [
    "# Step 4: Declare the loss function and optimizer for training\n",
    "lr = 0.001  # Too large suboptimal convergence. Too small is process gets stuck. Find a balance\n",
    "momentum = 0.9 # Standard should be close to 1\n",
    "\n",
    "criterion = nn.CrossEntropyLoss()\n",
    "optimizer = optim.SGD(lenet_with_aug.parameters(), lr=lr, momentum=momentum)"
   ]
  },
  {
   "cell_type": "code",
   "execution_count": 16,
   "metadata": {},
   "outputs": [
    {
     "name": "stdout",
     "output_type": "stream",
     "text": [
      "[1,   780] loss: 126.444\n",
      "[2,   780] loss: 101.732\n",
      "[3,   780] loss: 67.567\n",
      "[4,   780] loss: 48.742\n",
      "[5,   780] loss: 35.894\n",
      "[6,   780] loss: 27.244\n",
      "[7,   780] loss: 19.899\n",
      "[8,   780] loss: 16.255\n",
      "[9,   780] loss: 12.649\n",
      "[10,   780] loss: 10.430\n",
      "[11,   780] loss: 8.706\n",
      "[12,   780] loss: 5.792\n",
      "[13,   780] loss: 5.177\n",
      "[14,   780] loss: 5.761\n",
      "[15,   780] loss: 2.811\n",
      "[16,   780] loss: 4.403\n",
      "[17,   780] loss: 2.795\n",
      "[18,   780] loss: 1.912\n",
      "[19,   780] loss: 3.585\n",
      "[20,   780] loss: 1.786\n",
      "[21,   780] loss: 5.299\n",
      "[22,   780] loss: 1.239\n",
      "[23,   780] loss: 0.163\n",
      "[24,   780] loss: 0.049\n",
      "[25,   780] loss: 0.031\n",
      "Finished Training\n"
     ]
    },
    {
     "data": {
      "text/plain": [
       "LeNet(\n",
       "  (conv1): Conv2d(3, 6, kernel_size=(5, 5), stride=(1, 1))\n",
       "  (pool): MaxPool2d(kernel_size=2, stride=2, padding=0, dilation=1, ceil_mode=False)\n",
       "  (conv2): Conv2d(6, 16, kernel_size=(5, 5), stride=(1, 1))\n",
       "  (fc1): Linear(in_features=400, out_features=120, bias=True)\n",
       "  (fc2): Linear(in_features=120, out_features=84, bias=True)\n",
       "  (fc3): Linear(in_features=84, out_features=26, bias=True)\n",
       ")"
      ]
     },
     "execution_count": 16,
     "metadata": {},
     "output_type": "execute_result"
    }
   ],
   "source": [
    "train_model(trainloader, criterion, optimizer, lenet_with_aug, num_images, n=25)"
   ]
  },
  {
   "cell_type": "code",
   "execution_count": 17,
   "metadata": {},
   "outputs": [
    {
     "name": "stdout",
     "output_type": "stream",
     "text": [
      "Accuracy of the network on the 780 test images: 87 %\n",
      "Correct: 686 \n",
      " Total: 780\n"
     ]
    }
   ],
   "source": [
    "correct, total = test_model(testloader, lenet_with_aug)\n",
    "\n",
    "print(f\"Correct: {correct} \\n Total: {total}\")"
   ]
  },
  {
   "cell_type": "code",
   "execution_count": 18,
   "metadata": {},
   "outputs": [
    {
     "name": "stdout",
     "output_type": "stream",
     "text": [
      "torch.Size([3, 36, 138])\n"
     ]
    },
    {
     "data": {
      "image/png": "[encoded data removed]",
      "text/plain": [
       "<Figure size 720x720 with 1 Axes>"
      ]
     },
     "metadata": {
      "needs_background": "light"
     },
     "output_type": "display_data"
    },
    {
     "name": "stdout",
     "output_type": "stream",
     "text": [
      "GroundTruth:  B     N     Q     F    \n",
      "Predicted:  B     N     Q     F    \n"
     ]
    }
   ],
   "source": [
    "classes = list(string.ascii_uppercase)\n",
    "show_true_vs_predicted(testloader, classes, lenet_with_aug)"
   ]
  },
  {
   "cell_type": "code",
   "execution_count": 19,
   "metadata": {},
   "outputs": [],
   "source": [
    "# Save the model!\n",
    "torch.save(lenet_with_aug.state_dict(), \"./models/lenet_with_aug_3900\")"
   ]
  },
  {
   "cell_type": "markdown",
   "metadata": {},
   "source": [
    "### Part 3: Compare each model (trained with vs without augmented data) on newly augmented data"
   ]
  },
  {
   "cell_type": "code",
   "execution_count": 20,
   "metadata": {},
   "outputs": [],
   "source": [
    "path = './Mult_Augments/'\n",
    "\n",
    "test_imgs, test_labels = loadImages(path)\n",
    "\n",
    "testloader = test_loader(test_imgs, test_labels, resize=35)"
   ]
  },
  {
   "cell_type": "code",
   "execution_count": 21,
   "metadata": {},
   "outputs": [
    {
     "name": "stdout",
     "output_type": "stream",
     "text": [
      "torch.Size([3, 36, 138])\n"
     ]
    },
    {
     "data": {
      "image/png": "[encoded data removed]",
      "text/plain": [
       "<Figure size 720x720 with 1 Axes>"
      ]
     },
     "metadata": {
      "needs_background": "light"
     },
     "output_type": "display_data"
    },
    {
     "name": "stdout",
     "output_type": "stream",
     "text": [
      "labels: W     S     O     T    \n"
     ]
    }
   ],
   "source": [
    "# Step 1: Visualize how some of the images look after processing the data\n",
    "dataiter = iter(testloader)\n",
    "images, labels = dataiter.next()\n",
    "\n",
    "imshow(torchvision.utils.make_grid(images))\n",
    "# print labels\n",
    "print(\"labels: \" + ' '.join(f'{classes[labels[j]]:5s}' for j in range(4)))"
   ]
  },
  {
   "cell_type": "code",
   "execution_count": 22,
   "metadata": {},
   "outputs": [
    {
     "name": "stdout",
     "output_type": "stream",
     "text": [
      "Accuracy of the network on the 650 test images: 32 %\n"
     ]
    },
    {
     "data": {
      "text/plain": [
       "(211, 650)"
      ]
     },
     "execution_count": 22,
     "metadata": {},
     "output_type": "execute_result"
    }
   ],
   "source": [
    "lenet_no_aug = LeNet()\n",
    "lenet_no_aug.load_state_dict(torch.load(\"./models/lenet_no_aug_650\"))\n",
    "lenet_no_aug.eval()\n",
    "\n",
    "test_model(testloader, lenet_no_aug)"
   ]
  },
  {
   "cell_type": "code",
   "execution_count": 23,
   "metadata": {},
   "outputs": [
    {
     "name": "stdout",
     "output_type": "stream",
     "text": [
      "Accuracy of the network on the 650 test images: 69 %\n"
     ]
    },
    {
     "data": {
      "text/plain": [
       "(450, 650)"
      ]
     },
     "execution_count": 23,
     "metadata": {},
     "output_type": "execute_result"
    }
   ],
   "source": [
    "lenet_with_aug = LeNet()\n",
    "lenet_with_aug.load_state_dict(torch.load(\"./models/lenet_with_aug_3900\"))\n",
    "lenet_with_aug.eval()\n",
    "\n",
    "test_model(testloader, lenet_with_aug)"
   ]
  },
  {
   "cell_type": "markdown",
   "metadata": {},
   "source": [
    "### Trish Fish Second Folder"
   ]
  },
  {
   "cell_type": "code",
   "execution_count": 24,
   "metadata": {},
   "outputs": [],
   "source": [
    "path = './Only_Mult_Augments/'\n",
    "\n",
    "test_imgs, test_labels = loadImages(path)\n",
    "\n",
    "testloader = test_loader(test_imgs, test_labels, resize=35)"
   ]
  },
  {
   "cell_type": "code",
   "execution_count": 25,
   "metadata": {},
   "outputs": [
    {
     "name": "stdout",
     "output_type": "stream",
     "text": [
      "Accuracy of the network on the 650 test images: 17 %\n"
     ]
    },
    {
     "data": {
      "text/plain": [
       "(112, 650)"
      ]
     },
     "execution_count": 25,
     "metadata": {},
     "output_type": "execute_result"
    }
   ],
   "source": [
    "lenet_no_aug = LeNet()\n",
    "lenet_no_aug.load_state_dict(torch.load(\"./models/lenet_no_aug_650\"))\n",
    "lenet_no_aug.eval()\n",
    "\n",
    "test_model(testloader, lenet_no_aug)"
   ]
  },
  {
   "cell_type": "code",
   "execution_count": 26,
   "metadata": {},
   "outputs": [
    {
     "name": "stdout",
     "output_type": "stream",
     "text": [
      "Accuracy of the network on the 650 test images: 57 %\n"
     ]
    },
    {
     "data": {
      "text/plain": [
       "(374, 650)"
      ]
     },
     "execution_count": 26,
     "metadata": {},
     "output_type": "execute_result"
    }
   ],
   "source": [
    "lenet_with_aug = LeNet()\n",
    "lenet_with_aug.load_state_dict(torch.load(\"./models/lenet_with_aug_3900\"))\n",
    "lenet_with_aug.eval()\n",
    "\n",
    "test_model(testloader, lenet_with_aug)"
   ]
  },
  {
   "cell_type": "code",
   "execution_count": null,
   "metadata": {},
   "outputs": [],
   "source": []
  }
 ],
 "metadata": {
  "interpreter": {
   "hash": "386d62b7d12699d17dee3eadaeda474ea6fd40c4c37c961a8453ed4a28944cbc"
  },
  "kernelspec": {
   "display_name": "Python 3.8.9 ('MLProject-env': venv)",
   "language": "python",
   "name": "python3"
  },
  "language_info": {
   "codemirror_mode": {
    "name": "ipython",
    "version": 3
   },
   "file_extension": ".py",
   "mimetype": "text/x-python",
   "name": "python",
   "nbconvert_exporter": "python",
   "pygments_lexer": "ipython3",
   "version": "3.8.9"
  },
  "orig_nbformat": 4
 },
 "nbformat": 4,
 "nbformat_minor": 2
}
