{
  "cells": [
    {
      "cell_type": "code",
      "execution_count": 1,
      "metadata": {
        "id": "1gooWBOWPxQb"
      },
      "outputs": [],
      "source": [
        "import numpy as np\n",
        "import skimage\n",
        "import matplotlib.pyplot as plt\n",
        "from tempfile import TemporaryFile\n",
        "from PIL import Image, ImageEnhance\n",
        "from os import listdir\n",
        "import imghdr\n",
        "from skimage.transform import rotate, AffineTransform, warp\n",
        "from skimage import filters\n",
        "from torchvision import transforms\n",
        "import cv2\n",
        "import scipy\n",
        "import random"
      ]
    },
    {
      "cell_type": "code",
      "execution_count": null,
      "metadata": {
        "id": "Zhp53FBiP15A"
      },
      "outputs": [],
      "source": [
        "rmdir './Data_full/.ipynb_checkpoints'"
      ]
    },
    {
      "cell_type": "code",
      "execution_count": 2,
      "metadata": {
        "id": "VaHsuJ2XP2_U"
      },
      "outputs": [],
      "source": [
        "### Load Data and Handle Preprocessing\n",
        "\n",
        "# Input: Folder with all the .png images\n",
        "# Output: Images and respective labels\n",
        "# Works?: Yes\n",
        "def loadImages(path):\n",
        "    imagesList = listdir(path)\n",
        "    imgs = []\n",
        "    labels = []\n",
        "    for image in imagesList:\n",
        "      if imghdr.what(path + image) == 'png':\n",
        "        if (image[6].isalpha()): # only add 5 of each image, only add alphabetical values\n",
        "          img = Image.open(path + image)\n",
        "          imgs.append(img)\n",
        "          labels.append(ord(image[6]) - ord('a')) # assumes that filename structure is 'handx_[label]_....'\n",
        "    return imgs, labels\n",
        "\n",
        "# Convert png img array to array np arrays\n",
        "# Input: PNG image array\n",
        "# Output: a list of numpy images\n",
        "# Works?: Yes\n",
        "def ImagesToArray(imgs):\n",
        "  imgs_array = []\n",
        "  for img in imgs:\n",
        "    img_array = np.array(img)\n",
        "    imgs_array.append(img_array)\n",
        "  return imgs_array\n",
        "\n",
        "# Zero pad all images\n",
        "# Input: list of numpy images\n",
        "# Output: numpy array of N 600x600 images with 3 channels\n",
        "# Works?: Yes, but might not be necessary\n",
        "def shape600(x):\n",
        "  reshaped_array = np.zeros((len(x), 600, 600, 3))\n",
        "  for i, img in enumerate(x):\n",
        "    x_pad_width = (600 - img.shape[0])//2\n",
        "    y_pad_width = (600 - img.shape[1])//2\n",
        "    reshaped_array[i,:,:,:] = np.pad(img, ((x_pad_width, x_pad_width + (img.shape[0])%2), (y_pad_width, y_pad_width+(img.shape[1]%2)), (0,0)), constant_values=img[0][0][0])\n",
        "  return reshaped_array\n",
        "\n",
        "# Normalizes images... based on... what?\n",
        "# Input: image array\n",
        "# Output: a list of numpy arrays\n",
        "# Works?: ??? Not entirely sure if this is the correct method though, based on online implementations of AlexNet\n",
        "def Normalize(imgs):\n",
        "  new_imgs = []\n",
        "  for img in imgs:\n",
        "      # flat_img = img.flatten()\n",
        "      m = np.mean(img)\n",
        "      std = np.std(img)\n",
        "      img = (img-m)/std\n",
        "      new_imgs.append(img)\n",
        "  return new_imgs\n",
        "\n",
        "################### DATA AUGMENTATION ######################\n",
        "# x is input image, sd is how much to blur\n",
        "def blur(imgs, sd=1):\n",
        "  filtered_img = np.zeros((imgs.shape[0], 600, 600, 3))\n",
        "  for i in range(imgs.shape[0]):\n",
        "    filtered_img[i,:,:,:] = skimage.filters.gaussian(imgs[i,:,:,:], sigma=sd)\n",
        "    #filtered_img.save('./Filter_gaussian/img_' + i + '_gaussianfilt.png')\n",
        "  return filtered_img\n",
        "\n",
        "def Scale(imgs):\n",
        "  scaled_images = np.zeros((len(imgs), 600, 600, 3))\n",
        "  for i, img in enumerate(imgs):\n",
        "    # ratio = random.randrange(.2, .5, .1)\n",
        "    ratio = random.choice([0.1, 0.2, 0.3, 0.4])\n",
        "    x = int(ratio * 600 / 2)\n",
        "    scaled = img[x:600-x, x:600-x]\n",
        "    # scaled = cv2.imread(scaled)\n",
        "    res = cv2.resize(scaled, dsize=(600, 600), interpolation=cv2.INTER_CUBIC)\n",
        "    scaled_images[i] = res\n",
        "  return scaled_images\n",
        "    # final.save('./Crop/img_' + str(i) + '_scale.png')\n",
        "\n",
        "def Rotate30(imgs): \n",
        "  rot30_imgs = np.empty([imgs.shape[0], imgs.shape[1], imgs.shape[2], imgs.shape[3]])\n",
        "  for i, img in enumerate(imgs): \n",
        "    rand_dir = random.choice([-1, 1])\n",
        "    new_img = rotate(img, rand_dir * 30) \n",
        "    rot30_imgs[i, :] = new_img\n",
        "  return rot30_imgs\n",
        "\n",
        "def VerticalFlip(imgs): \n",
        "  flip_imgs = np.empty([imgs.shape[0], imgs.shape[1], imgs.shape[2], imgs.shape[3]])\n",
        "  for i, img in enumerate(imgs): \n",
        "    new_img = np.fliplr(img)\n",
        "    flip_imgs[i, :, :, :] = new_img\n",
        "  return flip_imgs\n",
        "\n",
        "def Translation(imgs): \n",
        "  trans_imgs = np.empty([imgs.shape[0], imgs.shape[1], imgs.shape[2], imgs.shape[3]])\n",
        "  for i, img in enumerate(imgs): \n",
        "    rand_x = random.randrange(-150, 150, 50)\n",
        "    rand_y = random.randrange(-150, 150, 50)\n",
        "    transform = AffineTransform(translation=(rand_x,rand_y))\n",
        "    new_img = warp(img,transform, mode=\"constant\")  \n",
        "    trans_imgs[i, :] = new_img\n",
        "  return trans_imgs\n",
        "####################################################\n",
        "\n",
        "# load png_images from Data_full foler\n",
        "path = \"./Data_full/\"\n",
        "\n",
        "# images in an array named imgs\n",
        "imgs, labels = loadImages(path)\n",
        "\n",
        "# Step 1 convert png_images to np arrays\n",
        "imgs_array_before = ImagesToArray(imgs)\n",
        "\n",
        "def Augment(imgs_array_before, labels):\n",
        "  # Step 2 Normalize images\n",
        "  imgs_array_normalize = Normalize(imgs_array_before)\n",
        "\n",
        "  # Step 3 Reshape the images\n",
        "  imgs_array_reshaped = shape600(imgs_array_normalize)\n",
        "\n",
        "  # Step 4 Blur the images\n",
        "  blurred_imgs = blur(imgs_array_reshaped, 10)\n",
        "\n",
        "  # Step 5 Scale the images\n",
        "  scaled_imgs = Scale(imgs_array_reshaped)\n",
        "\n",
        "  # Step 6 Flip the images\n",
        "  flipped_imgs = VerticalFlip(imgs_array_reshaped)\n",
        "\n",
        "  # Step 7 Add translation to images\n",
        "  translated_imgs = Translation(imgs_array_reshaped)\n",
        "\n",
        "  # Step 8 Rotate 30 Degrees\n",
        "  rotated30_imgs = Rotate30(imgs_array_reshaped)\n",
        "\n",
        "  # Step 10 combine all augmented images to np array of shape((num_augmentations + 1) * num_images, 600, 600, 3)\n",
        "  final_imgs_temp = np.concatenate((imgs_array_reshaped, blurred_imgs, scaled_imgs, translated_imgs, flipped_imgs, rotated30_imgs), 0)\n",
        "  labels_temp = np.concatenate((labels, labels, labels, labels, labels, labels), 0)\n",
        "  #print(final_imgs_temp.shape)\n",
        "  # np.save('../FinalImages/imgs' + str(i) + '.npy', final_imgs_temp)\n",
        "  # Show the progression of images for each step\n",
        "  # fig, ax = plt.subplots(1, 11, figsize=(15,10))\n",
        "  # ax[0].imshow(imgs_array_before[0]) # Step 1\n",
        "  # ax[1].imshow(imgs_array_normalize[0]) # Step 2\n",
        "  # ax[2].imshow(imgs_array_reshaped[0]) # Step 3\n",
        "  # ax[3].imshow(blurred_imgs[0]) # Step 4\n",
        "  # ax[4].imshow(scaled_imgs[0]) # Step 5\n",
        "  # ax[5].imshow(light_imgs[0]) # Step 6\n",
        "  # ax[6].imshow(dark_imgs[0]) # Step 6\n",
        "  # ax[7].imshow(flipped_imgs[0]) # Step 7\n",
        "  # ax[8].imshow(translated_imgs[0]) # Step 8\n",
        "  # ax[9].imshow(rotated30_imgs[0]) # Step 9\n",
        "  # ax[10].imshow(rotatedNeg30_imgs[0]) # Step 9\n",
        "  return final_imgs_temp, labels_temp\n"
      ]
    },
    {
      "cell_type": "code",
      "execution_count": 39,
      "metadata": {
        "id": "7rc9mVMmP4mx"
      },
      "outputs": [
        {
          "name": "stderr",
          "output_type": "stream",
          "text": [
            "/Users/aidanaug/Library/Python/3.8/lib/python/site-packages/skimage/_shared/utils.py:348: RuntimeWarning: Images with dimensions (M, N, 3) are interpreted as 2D+RGB by default. Use `multichannel=False` to interpret as 3D image with last dimension of length 3.\n",
            "  return func(*args, **kwargs)\n"
          ]
        },
        {
          "name": "stdout",
          "output_type": "stream",
          "text": [
            "(780, 600, 600, 3)\n",
            "(780,)\n"
          ]
        }
      ],
      "source": [
        "final_imgs = np.empty([0, 600, 600, 3])\n",
        "final_labels = np.empty([0])\n",
        "n = int(130/65)\n",
        "for i in range(n):\n",
        "  [final_imgs_temp, labels_temp] = Augment(imgs_array_before[i * 65:(i + 1) * 65], labels[i * 65:(i + 1) * 65])\n",
        "  final_imgs = np.concatenate((final_imgs, final_imgs_temp), 0)\n",
        "  final_labels = np.concatenate((final_labels, labels_temp))\n",
        "  \n",
        "  if (n % 10 == 0):\n",
        "    print(n)\n",
        "\n",
        "print(final_imgs.shape)\n",
        "print(final_labels.shape)\n",
        "np.save('./FinalImages/imgs.npy', final_imgs)\n",
        "np.save('./FinalImages/labels.npy', final_labels)"
      ]
    },
    {
      "cell_type": "code",
      "execution_count": 40,
      "metadata": {},
      "outputs": [
        {
          "name": "stderr",
          "output_type": "stream",
          "text": [
            "Clipping input data to the valid range for imshow with RGB data ([0..1] for floats or [0..255] for integers).\n"
          ]
        },
        {
          "name": "stdout",
          "output_type": "stream",
          "text": [
            "3.0\n"
          ]
        },
        {
          "data": {
            "image/png": "[encoded data removed]",
            "text/plain": [
              "<Figure size 432x288 with 1 Axes>"
            ]
          },
          "metadata": {
            "needs_background": "light"
          },
          "output_type": "display_data"
        }
      ],
      "source": [
        "augmented_data = np.load(\"./FinalImages/imgs.npy\")\n",
        "labels = np.load(\"./FinalImages/labels.npy\")\n",
        "plt.imshow(augmented_data[1,:,:])\n",
        "print(labels[1])"
      ]
    },
    {
      "cell_type": "code",
      "execution_count": 4,
      "metadata": {},
      "outputs": [],
      "source": [
        "## Model Implementation\n",
        "import sys\n",
        "import csv\n",
        "import os\n",
        "import numpy as np\n",
        "import datetime\n",
        "import torch\n",
        "import torch.nn as nn\n",
        "import torch.nn.functional as F\n",
        "import skimage\n",
        "from skimage.transform import rotate\n",
        "from sklearn.model_selection import train_test_split"
      ]
    },
    {
      "cell_type": "code",
      "execution_count": 5,
      "metadata": {},
      "outputs": [],
      "source": [
        "# AlexNet Implementation\n",
        "# Expects input of size 227 at least, for the kernels to work\n",
        "\n",
        "class AlexNet(torch.nn.Module):\n",
        "\n",
        "    def __init__(self, input_height=227, input_width=227, n_classes=26, channels=3):\n",
        "        super().__init__()\n",
        "\n",
        "        # Initialize the parameters of the model\n",
        "        self.input_height = input_height\n",
        "        self.input_width = input_width\n",
        "        self.n_classes = n_classes\n",
        "        self.channels = channels\n",
        "\n",
        "        # AlexNet Implementation; Same Structure with different outputs die to input\n",
        "        self.model_convolution = nn.Sequential(\n",
        "            nn.Conv2d(in_channels=channels,out_channels=96, kernel_size=11, stride=4),\n",
        "            nn.ReLU(),\n",
        "            nn.AvgPool2d(kernel_size=3, stride=2),\n",
        "            nn.ReLU(),\n",
        "            nn.Conv2d(in_channels=96,out_channels=256,kernel_size=5, stride=1, padding=2),\n",
        "            nn.ReLU(),\n",
        "            nn.AvgPool2d(kernel_size=3,stride=2),\n",
        "            nn.Conv2d(in_channels=256,out_channels=384,kernel_size=3, stride=1, padding=1), \n",
        "            nn.ReLU(),\n",
        "            nn.Conv2d(in_channels=384,out_channels=384,kernel_size=3, stride=1, padding=1),\n",
        "            nn.ReLU(),\n",
        "            nn.Conv2d(in_channels=384,out_channels=256,kernel_size=3, stride=1, padding=1),\n",
        "            nn.ReLU(),\n",
        "            nn.AvgPool2d(kernel_size=3, stride=2)\n",
        "        )\n",
        "\n",
        "        # The dense network architecture. Assumes input has 4096 nodes, or 4x4x256\n",
        "        self.model_dense = nn.Sequential(\n",
        "            nn.Flatten(),\n",
        "            nn.Linear(9216, 4096),\n",
        "            nn.ReLU(),\n",
        "            #nn.Dropout(p=0.1),\n",
        "            nn.Linear(4096, 4096),\n",
        "            nn.ReLU(),\n",
        "            #nn.Dropout(p=0.1),\n",
        "            nn.Linear(4096, n_classes)\n",
        "        )\n",
        "\n",
        "    def forward(self, x):\n",
        "        x = x.reshape(x.shape[0], self.channels, self.input_height, self.input_width)\n",
        "        x = self.model_convolution(x)\n",
        "        x = self.model_dense(x)\n",
        "        return x\n",
        "    \n",
        "        "
      ]
    },
    {
      "cell_type": "code",
      "execution_count": 6,
      "metadata": {},
      "outputs": [],
      "source": [
        "\n",
        "def accuracy(y : np.ndarray, y_hat : np.ndarray) -> np.float64:\n",
        "    \"\"\"Calculate the simple accuracy given two numpy vectors, each with int values\n",
        "    corresponding to each class.\n",
        "\n",
        "    Args:\n",
        "        y (np.ndarray): actual value\n",
        "        y_hat (np.ndarray): predicted value\n",
        "\n",
        "    Returns:\n",
        "        np.float64: accuracy\n",
        "    \"\"\"\n",
        "    ### TODO Implement accuracy function\n",
        "    N = len(y)   \n",
        "    number_correct = N - np.count_nonzero(y - y_hat)\n",
        "    accuracy = number_correct / N\n",
        "    return accuracy\n",
        "\n",
        "\n",
        "def approx_train_acc_and_loss(model, train_data : np.ndarray, train_labels : np.ndarray) -> np.float64:\n",
        "    \"\"\"Given a model, training data and its associated labels, calculate the simple accuracy when the \n",
        "    model is applied to the training dataset.\n",
        "    This function is meant to be run during training to evaluate model training accuracy during training.\n",
        "\n",
        "    Args:\n",
        "        model (pytorch model): model class object.\n",
        "        train_data (np.ndarray): training data\n",
        "        train_labels (np.ndarray): training labels\n",
        "\n",
        "    Returns:\n",
        "        np.float64: simple accuracy\n",
        "    \"\"\"\n",
        "    idxs = np.random.choice(len(train_data), len(train_data)//2, replace=False)\n",
        "    x = torch.from_numpy(train_data[idxs].astype(np.float32))\n",
        "    y = torch.from_numpy(train_labels[idxs].astype(int))\n",
        "    logits = model(x)\n",
        "    #print(logits)\n",
        "    #print(x.shape)\n",
        "    #print(x[0])\n",
        "    #print(logits.shape)\n",
        "    #print(y.shape)\n",
        "    loss = F.cross_entropy(logits, y)\n",
        "    y_pred = torch.max(logits, 1)[1]\n",
        "    #print(y_pred.shape)\n",
        "    #print(train_labels[idxs].shape)\n",
        "    #print(torch.max(logits, 1))\n",
        "    #print(\"actual:\" + str(train_labels[idxs]))\n",
        "    #print(\"predicted:\" + str(y_pred))\n",
        "    return accuracy(train_labels[idxs], y_pred.numpy()), loss.item()\n",
        "\n",
        "\n",
        "def dev_acc_and_loss(model, dev_data : np.ndarray, dev_labels : np.ndarray) -> np.float64:\n",
        "    \"\"\"Given a model, a validation dataset and its associated labels, calcualte the simple accuracy when the\n",
        "    model is applied to the validation dataset.\n",
        "    This function is meant to be run during training to evaluate model validation accuracy.\n",
        "\n",
        "    Args:\n",
        "        model (pytorch model): model class obj\n",
        "        dev_data (np.ndarray): validation data\n",
        "        dev_labels (np.ndarray): validation labels\n",
        "\n",
        "    Returns:\n",
        "        np.float64: simple validation accuracy\n",
        "    \"\"\"\n",
        "    x = torch.from_numpy(dev_data.astype(np.float32))\n",
        "    y = torch.from_numpy(dev_labels.astype(int))\n",
        "    logits = model(x)\n",
        "    loss = F.cross_entropy(logits, y)\n",
        "    y_pred = torch.max(logits, 1)[1]\n",
        "    return accuracy(dev_labels, y_pred.numpy()), loss.item()"
      ]
    },
    {
      "cell_type": "code",
      "execution_count": 89,
      "metadata": {},
      "outputs": [
        {
          "name": "stdout",
          "output_type": "stream",
          "text": [
            "650\n"
          ]
        }
      ],
      "source": [
        "print(len(imgs))\n",
        "\n",
        "\n"
      ]
    },
    {
      "cell_type": "code",
      "execution_count": 155,
      "metadata": {},
      "outputs": [
        {
          "name": "stderr",
          "output_type": "stream",
          "text": [
            "Clipping input data to the valid range for imshow with RGB data ([0..1] for floats or [0..255] for integers).\n"
          ]
        },
        {
          "name": "stdout",
          "output_type": "stream",
          "text": [
            "(650, 3, 227, 227)\n",
            "j\n"
          ]
        },
        {
          "data": {
            "image/png": "[encoded data removed]",
            "text/plain": [
              "<Figure size 432x288 with 1 Axes>"
            ]
          },
          "metadata": {
            "needs_background": "light"
          },
          "output_type": "display_data"
        }
      ],
      "source": [
        "## Preprocess Images using online package\n",
        "\n",
        "preprocess = transforms.Compose([\n",
        "  transforms.Resize(100),\n",
        "  transforms.CenterCrop(227),\n",
        "  transforms.ToTensor(),\n",
        "  transforms.Normalize(mean=[0.485, 0.456, 0.406], std=[0.229, 0.224, 0.225]),\n",
        "])\n",
        "\n",
        "transforms_array = np.zeros((len(imgs), 3, 227, 227))\n",
        "for i in range(len(imgs)):\n",
        "  temp = preprocess(imgs[i])\n",
        "  transforms_array[i,:,:,:] = temp\n",
        "\n",
        "  \n",
        "print(transforms_array.shape)\n",
        "output = transforms_array[51,:,:,:]\n",
        "output = np.swapaxes(output, 0, 2)\n",
        "output = np.swapaxes(output, 0, 1)\n",
        "\n",
        "plt.imshow(output)\n",
        "print(labels[51])"
      ]
    },
    {
      "cell_type": "code",
      "execution_count": 195,
      "metadata": {},
      "outputs": [
        {
          "name": "stdout",
          "output_type": "stream",
          "text": [
            "(650, 227, 227, 3)\n",
            "(520, 3, 51529)\n",
            "On step 0:\tTrain loss 1102655006965760.0\t|Train acc 0.03461538461538462\t|\tDev acc is 0.023076923076923078\n",
            "On step 100:\tTrain loss 3.2544336318969727\t|Train acc 0.05\t|\tDev acc is 0.023076923076923078\n",
            "On step 200:\tTrain loss 3.262497663497925\t|Train acc 0.046153846153846156\t|\tDev acc is 0.023076923076923078\n",
            "On step 300:\tTrain loss 3.2582955360412598\t|Train acc 0.03076923076923077\t|\tDev acc is 0.023076923076923078\n",
            "On step 400:\tTrain loss 3.2655344009399414\t|Train acc 0.038461538461538464\t|\tDev acc is 0.015384615384615385\n",
            "On step 500:\tTrain loss 3.264941692352295\t|Train acc 0.046153846153846156\t|\tDev acc is 0.03076923076923077\n",
            "On step 600:\tTrain loss 3.2591605186462402\t|Train acc 0.03076923076923077\t|\tDev acc is 0.038461538461538464\n",
            "On step 700:\tTrain loss 3.2490222454071045\t|Train acc 0.05\t|\tDev acc is 0.023076923076923078\n",
            "On step 800:\tTrain loss 3.2675044536590576\t|Train acc 0.03461538461538462\t|\tDev acc is 0.015384615384615385\n",
            "On step 900:\tTrain loss 3.2693686485290527\t|Train acc 0.03461538461538462\t|\tDev acc is 0.023076923076923078\n",
            "Training completed, saving model with name AlexNet\n"
          ]
        }
      ],
      "source": [
        "LEARNING_RATE = 0.1\n",
        "BATCH_SIZE = 100\n",
        "EPOCHS = 1000\n",
        "HEIGHT = 227\n",
        "WIDTH = 227\n",
        "CHANNELS = 3\n",
        "\n",
        "model = AlexNet(227, 227, 26, 3)\n",
        "\n",
        "### TODO (OPTIONAL) : you can change the choice of optimizer here if you wish.\n",
        "optimizer = torch.optim.Adam(model.parameters(), lr = LEARNING_RATE)\n",
        "\n",
        "# load png_images\n",
        "path = \"./Data_full/\"\n",
        "\n",
        "# images in an array named imgs\n",
        "imgs, labels = loadImages(path)\n",
        "\n",
        "labels = np.asarray(labels)\n",
        "\n",
        "## Preprocess Images using online package\n",
        "imgs_array_before = ImagesToArray(imgs)\n",
        "\n",
        "preprocess = transforms.Compose([\n",
        "  transforms.Resize(100),\n",
        "  transforms.CenterCrop(227),\n",
        "  transforms.ToTensor(),\n",
        "  transforms.Normalize(mean=[0.485, 0.456, 0.406], std=[0.229, 0.224, 0.225]),\n",
        "])\n",
        "\n",
        "transforms_array = np.zeros((len(imgs), 3, 227, 227))\n",
        "for i in range(len(imgs)):\n",
        "  temp = preprocess(imgs[i])\n",
        "  transforms_array[i,:,:,:] = temp\n",
        "  \n",
        "transforms_array = np.swapaxes(transforms_array,1, 3)\n",
        "transforms_array = np.swapaxes(transforms_array,1, 2)\n",
        "print(transforms_array.shape)\n",
        "\n",
        "############################\n",
        "\n",
        "## Preprocess images Using our functions\n",
        "# imgs_array_normalize = Normalize(imgs_array_before)\n",
        "# imgs_array_reshaped = shape600(imgs_array_normalize)\n",
        "\n",
        "## Use Augmented Data\n",
        "# augmented_data = np.load(\"./FinalImages/imgs.npy\")\n",
        "# labels = np.load(\"./FinalImages/labels.npy\")\n",
        "\n",
        "############################\n",
        "\n",
        "## Actually create the train and test dev splits. Flatten before use.\n",
        "data_train, data_dev, labels_train, labels_dev = train_test_split(transforms_array, labels, test_size=0.20, random_state=42)\n",
        "\n",
        "flat_train_imgs = np.reshape(data_train, (data_train.shape[0], HEIGHT * WIDTH, CHANNELS))\n",
        "flat_train_imgs = np.swapaxes(flat_train_imgs, 1, 2)\n",
        "print(flat_train_imgs.shape)\n",
        "flat_dev_imgs = np.reshape(data_dev, (data_dev.shape[0], HEIGHT * WIDTH, CHANNELS))\n",
        "flat_dev_imgs = np.swapaxes(flat_dev_imgs, 1, 2)\n",
        "\n",
        "\n",
        "for step in range(EPOCHS):\n",
        "    i = np.random.choice(flat_train_imgs.shape[0], size=BATCH_SIZE, replace=False)\n",
        "    x = torch.from_numpy(flat_train_imgs[i].astype(np.float32))\n",
        "    y = torch.from_numpy(labels_train[i].astype(int))\n",
        "    \n",
        "    \n",
        "    # Forward pass: Get logits for x\n",
        "    logits = model(x)\n",
        "    # Compute loss\n",
        "    loss = F.cross_entropy(logits, y)\n",
        "    # Zero gradients, perform a backward pass, and update the weights.\n",
        "    optimizer.zero_grad()\n",
        "    loss.backward()\n",
        "    optimizer.step()\n",
        "    \n",
        "    # log model performance every 10 epochs\n",
        "    if step % 100 == 0:\n",
        "        train_acc, train_loss = approx_train_acc_and_loss(model, flat_train_imgs, labels_train)\n",
        "        dev_acc, dev_loss = dev_acc_and_loss(model, flat_dev_imgs, labels_dev)\n",
        "        step_metrics = {\n",
        "            'step': step, \n",
        "            'train_loss': loss.item(), \n",
        "            'train_acc': train_acc,\n",
        "            'dev_loss': dev_loss,\n",
        "            'dev_acc': dev_acc\n",
        "        }\n",
        "\n",
        "        print(f\"On step {step}:\\tTrain loss {train_loss}\\t|Train acc {train_acc}\\t|\\tDev acc is {dev_acc}\")\n",
        "        \n",
        "\n",
        "print(\"Training completed, saving model with name AlexNet\")\n"
      ]
    },
    {
      "cell_type": "code",
      "execution_count": 192,
      "metadata": {},
      "outputs": [
        {
          "name": "stderr",
          "output_type": "stream",
          "text": [
            "Clipping input data to the valid range for imshow with RGB data ([0..1] for floats or [0..255] for integers).\n"
          ]
        },
        {
          "name": "stdout",
          "output_type": "stream",
          "text": [
            "17\n"
          ]
        },
        {
          "data": {
            "text/plain": [
              "<matplotlib.image.AxesImage at 0x2f672f160>"
            ]
          },
          "execution_count": 192,
          "metadata": {},
          "output_type": "execute_result"
        },
        {
          "data": {
            "image/png": "[encoded data removed]",
            "text/plain": [
              "<Figure size 432x288 with 1 Axes>"
            ]
          },
          "metadata": {
            "needs_background": "light"
          },
          "output_type": "display_data"
        }
      ],
      "source": [
        "flat_train_imgs = np.reshape(data_train, (data_train.shape[0], HEIGHT * WIDTH, CHANNELS))\n",
        "flat_train_imgs = np.swapaxes(flat_train_imgs, 1, 2)\n",
        "\n",
        "x = flat_train_imgs.reshape(flat_train_imgs.shape[0], 3, 227, 227)\n",
        "x = np.swapaxes(x, 1, 2)\n",
        "x = np.swapaxes(x, 2, 3)\n",
        "print(labels_train[2])\n",
        "plt.imshow(x[2])"
      ]
    },
    {
      "cell_type": "code",
      "execution_count": 187,
      "metadata": {},
      "outputs": [
        {
          "name": "stdout",
          "output_type": "stream",
          "text": [
            "torch.Size([1, 3, 51529])\n",
            "tensor([[22.3379, 19.4320, 15.6433, 23.5658, 23.3357, 22.8972, 21.8001, 21.8458,\n",
            "          2.0084, 21.2022, 21.8060, 14.2964, 21.9773, 18.1058,  8.5647, 11.0091,\n",
            "         22.7084,  3.4063, 21.6075, 22.9957, 22.8599, 22.7440, 12.0392, 22.8874,\n",
            "         21.7878, 23.0386]], grad_fn=<AddmmBackward0>)\n",
            "torch.return_types.max(\n",
            "values=tensor([23.5658], grad_fn=<MaxBackward0>),\n",
            "indices=tensor([3]))\n",
            "1\n",
            "torch.Size([1, 3, 51529])\n",
            "tensor([[86.6529, 75.2568, 61.6370, 91.7535, 90.7961, 88.8951, 84.5644, 84.7277,\n",
            "          8.2338, 82.1805, 84.5605, 55.5996, 85.3888, 71.0820, 34.1825, 42.8481,\n",
            "         88.2188, 13.0156, 83.8144, 89.5013, 88.7587, 88.3529, 46.8025, 88.9136,\n",
            "         84.5465, 89.6681]], grad_fn=<AddmmBackward0>)\n",
            "torch.return_types.max(\n",
            "values=tensor([91.7535], grad_fn=<MaxBackward0>),\n",
            "indices=tensor([3]))\n",
            "13\n",
            "torch.Size([1, 3, 51529])\n",
            "tensor([[3.0490, 2.6339, 2.0029, 3.1965, 3.1887, 3.1248, 2.9663, 3.0021, 0.2406,\n",
            "         2.9075, 2.9791, 1.9476, 2.9988, 2.3429, 1.0344, 1.5029, 3.1126, 0.4807,\n",
            "         2.9603, 3.1361, 3.1164, 3.0879, 1.6603, 3.1143, 2.9723, 3.1292]],\n",
            "       grad_fn=<AddmmBackward0>)\n",
            "torch.return_types.max(\n",
            "values=tensor([3.1965], grad_fn=<MaxBackward0>),\n",
            "indices=tensor([3]))\n",
            "3\n"
          ]
        }
      ],
      "source": [
        "x = torch.from_numpy(flat_train_imgs[1:2,:,:].astype(np.float32))\n",
        "print(x.shape)\n",
        "logits = model(x)\n",
        "print(logits)\n",
        "print(torch.max(logits, 1))\n",
        "print(labels[1])\n",
        "\n",
        "x = torch.from_numpy(flat_train_imgs[2:3,:,:].astype(np.float32))\n",
        "print(x.shape)\n",
        "logits = model(x)\n",
        "print(logits)\n",
        "print(torch.max(logits, 1))\n",
        "print(labels[2])\n",
        "\n",
        "x = torch.from_numpy(flat_train_imgs[10:11,:,:].astype(np.float32))\n",
        "print(x.shape)\n",
        "logits = model(x)\n",
        "print(logits)\n",
        "print(torch.max(logits, 1))\n",
        "print(labels[10])"
      ]
    },
    {
      "cell_type": "code",
      "execution_count": 196,
      "metadata": {},
      "outputs": [
        {
          "name": "stdout",
          "output_type": "stream",
          "text": [
            "[4 0 4 ... 2 1 5]\n"
          ]
        },
        {
          "data": {
            "image/png": "[encoded data removed]",
            "text/plain": [
              "<Figure size 432x288 with 1 Axes>"
            ]
          },
          "metadata": {
            "needs_background": "light"
          },
          "output_type": "display_data"
        }
      ],
      "source": [
        "x = np.load(\"fruit_images.npy\")\n",
        "y = np.load(\"fruit_labels.npy\")\n",
        "plt.imshow(x[0])\n",
        "print(y)"
      ]
    },
    {
      "cell_type": "code",
      "execution_count": 7,
      "metadata": {},
      "outputs": [
        {
          "name": "stdout",
          "output_type": "stream",
          "text": [
            "(650, 227, 227, 3)\n",
            "(520, 3, 51529)\n"
          ]
        }
      ],
      "source": [
        "LEARNING_RATE = 0.1\n",
        "BATCH_SIZE = 100\n",
        "EPOCHS = 1000\n",
        "HEIGHT = 227\n",
        "WIDTH = 227\n",
        "CHANNELS = 3\n",
        "\n",
        "model = AlexNet(227, 227, 26, 3)\n",
        "\n",
        "### TODO (OPTIONAL) : you can change the choice of optimizer here if you wish.\n",
        "optimizer = torch.optim.Adam(model.parameters(), lr = LEARNING_RATE)\n",
        "\n",
        "# load png_images\n",
        "path = \"./Data_full/\"\n",
        "\n",
        "# images in an array named imgs\n",
        "imgs, labels = loadImages(path)\n",
        "\n",
        "labels = np.asarray(labels)\n",
        "\n",
        "## Preprocess Images using online package\n",
        "imgs_array_before = ImagesToArray(imgs)\n",
        "\n",
        "preprocess = transforms.Compose([\n",
        "  transforms.Resize(100),\n",
        "  transforms.CenterCrop(227),\n",
        "  transforms.ToTensor(),\n",
        "  transforms.Normalize(mean=[0.485, 0.456, 0.406], std=[0.229, 0.224, 0.225]),\n",
        "])\n",
        "\n",
        "transforms_array = np.zeros((len(imgs), 3, 227, 227))\n",
        "for i in range(len(imgs)):\n",
        "  temp = preprocess(imgs[i])\n",
        "  transforms_array[i,:,:,:] = temp\n",
        "  \n",
        "transforms_array = np.swapaxes(transforms_array,1, 3)\n",
        "transforms_array = np.swapaxes(transforms_array,1, 2)\n",
        "print(transforms_array.shape)\n",
        "\n",
        "############################\n",
        "\n",
        "## Preprocess images Using our functions\n",
        "# imgs_array_normalize = Normalize(imgs_array_before)\n",
        "# imgs_array_reshaped = shape600(imgs_array_normalize)\n",
        "\n",
        "## Use Augmented Data\n",
        "# augmented_data = np.load(\"./FinalImages/imgs.npy\")\n",
        "# labels = np.load(\"./FinalImages/labels.npy\")\n",
        "\n",
        "############################\n",
        "\n",
        "## Actually create the train and test dev splits. Flatten before use.\n",
        "data_train, data_dev, labels_train, labels_dev = train_test_split(transforms_array, labels, test_size=0.20, random_state=42)\n",
        "\n",
        "flat_train_imgs = np.reshape(data_train, (data_train.shape[0], HEIGHT * WIDTH, CHANNELS))\n",
        "flat_train_imgs = np.swapaxes(flat_train_imgs, 1, 2)\n",
        "print(flat_train_imgs.shape)\n",
        "flat_dev_imgs = np.reshape(data_dev, (data_dev.shape[0], HEIGHT * WIDTH, CHANNELS))\n",
        "flat_dev_imgs = np.swapaxes(flat_dev_imgs, 1, 2)"
      ]
    },
    {
      "cell_type": "markdown",
      "metadata": {},
      "source": [
        "# Let's Take this step by step:\n",
        "\n",
        "https://pytorch.org/tutorials/beginner/blitz/cifar10_tutorial.html"
      ]
    },
    {
      "cell_type": "code",
      "execution_count": 11,
      "metadata": {},
      "outputs": [],
      "source": [
        "import torch\n",
        "import torchvision\n",
        "import torchvision.transforms as transforms\n",
        "## Model Implementation\n",
        "import sys\n",
        "import csv\n",
        "import os\n",
        "import numpy as np\n",
        "import datetime\n",
        "import torch.nn.functional as F\n",
        "import skimage\n",
        "from sklearn.model_selection import train_test_split"
      ]
    },
    {
      "cell_type": "code",
      "execution_count": 4,
      "metadata": {},
      "outputs": [
        {
          "name": "stdout",
          "output_type": "stream",
          "text": [
            "Files already downloaded and verified\n",
            "Files already downloaded and verified\n",
            "ship\n",
            "<class 'torch.Tensor'>\n",
            "torch.Size([3, 32, 32])\n",
            "1st dimension <class 'tuple'>\n",
            "2nd dimension <class 'torch.Tensor'>\n",
            "3rd dimension <class 'torch.Tensor'>\n",
            "4th dimension <class 'torch.Tensor'>\n",
            "5th dimension <class 'torch.Tensor'>\n"
          ]
        },
        {
          "data": {
            "text/plain": [
              "<matplotlib.image.AxesImage at 0x28589b9a0>"
            ]
          },
          "execution_count": 4,
          "metadata": {},
          "output_type": "execute_result"
        },
        {
          "data": {
            "image/png": "[encoded data removed]",
            "text/plain": [
              "<Figure size 432x288 with 1 Axes>"
            ]
          },
          "metadata": {
            "needs_background": "light"
          },
          "output_type": "display_data"
        }
      ],
      "source": [
        "## Example online\n",
        "transform = transforms.Compose(\n",
        "    [transforms.ToTensor(),\n",
        "     transforms.Normalize((0.5, 0.5, 0.5), (0.5, 0.5, 0.5))])\n",
        "\n",
        "batch_size = 1\n",
        "\n",
        "trainset = torchvision.datasets.CIFAR10(root='./data', train=True,\n",
        "                                        download=True, transform=transform)\n",
        "trainloader = torch.utils.data.DataLoader(trainset, batch_size=batch_size,\n",
        "                                          shuffle=True, num_workers=2)\n",
        "\n",
        "testset = torchvision.datasets.CIFAR10(root='./data', train=False,\n",
        "                                       download=True, transform=transform)\n",
        "testloader = torch.utils.data.DataLoader(testset, batch_size=batch_size,\n",
        "                                         shuffle=False, num_workers=2)\n",
        "\n",
        "classes = ('plane', 'car', 'bird', 'cat',\n",
        "           'deer', 'dog', 'frog', 'horse', 'ship', 'truck')\n",
        "\n",
        "\n",
        "print(classes[trainset[8][1]])\n",
        "print(type(trainset[8][0][0][0][0]))\n",
        "imgshow = trainset[8][0] / 2 + 0.5\n",
        "print(imgshow.shape)\n",
        "\n",
        "imgshow = imgshow.numpy()\n",
        "\n",
        "print(f\"1st dimension {type(trainset[8])}\")\n",
        "print(f\"2nd dimension {type(trainset[8][0])}\")\n",
        "print(f\"3rd dimension {type(trainset[8][0][0])}\")\n",
        "print(f\"4th dimension {type(trainset[8][0][0][0])}\")\n",
        "print(f\"5th dimension {type(trainset[8][0][0][0][0])}\")\n",
        "\n",
        "plt.imshow(np.transpose(imgshow, (1, 2, 0)))\n",
        "\n",
        "## Basically, here is what I got from the online dataset:\n",
        "# 1. The first index determines which image sample. Each sample is stored as a tuple\n",
        "# 2. The second is the label, which in this case is a car\n",
        "# 3. The next is the channels\n",
        "# 4. The fourth is the x dimension of the image\n",
        "# 5. The fifth is the y dimension of the image"
      ]
    },
    {
      "cell_type": "code",
      "execution_count": 5,
      "metadata": {},
      "outputs": [
        {
          "name": "stdout",
          "output_type": "stream",
          "text": [
            "(3, 32, 32)\n"
          ]
        },
        {
          "data": {
            "image/png": "[encoded data removed]",
            "text/plain": [
              "<Figure size 432x288 with 1 Axes>"
            ]
          },
          "metadata": {
            "needs_background": "light"
          },
          "output_type": "display_data"
        },
        {
          "name": "stdout",
          "output_type": "stream",
          "text": [
            "deer \n"
          ]
        }
      ],
      "source": [
        "#visualize images\n",
        "\n",
        "import matplotlib.pyplot as plt\n",
        "import numpy as np\n",
        "\n",
        "# functions to show an image\n",
        "def imshow(img):\n",
        "    img = img / 2 + 0.5     # unnormalize\n",
        "    npimg = img.numpy()\n",
        "    plt.imshow(np.transpose(npimg, (1, 2, 0)))\n",
        "    print(npimg.shape)\n",
        "    plt.show()\n",
        "\n",
        "\n",
        "# get some random training images\n",
        "dataiter = iter(trainloader)\n",
        "images, labels = dataiter.next()\n",
        "\n",
        "# show images\n",
        "imshow(torchvision.utils.make_grid(images))\n",
        "# print labels\n",
        "print(' '.join(f'{classes[labels[j]]:5s}' for j in range(batch_size)))"
      ]
    },
    {
      "cell_type": "code",
      "execution_count": 6,
      "metadata": {},
      "outputs": [],
      "source": [
        "import torch.nn as nn\n",
        "import torch.nn.functional as F\n",
        "\n",
        "\n",
        "class Net(nn.Module):\n",
        "    def __init__(self):\n",
        "        super().__init__()\n",
        "        self.conv1 = nn.Conv2d(3, 6, 5)\n",
        "        self.pool = nn.MaxPool2d(2, 2)\n",
        "        self.conv2 = nn.Conv2d(6, 16, 5)\n",
        "        self.fc1 = nn.Linear(16 * 5 * 5, 120)\n",
        "        self.fc2 = nn.Linear(120, 84)\n",
        "        self.fc3 = nn.Linear(84, 10)\n",
        "\n",
        "    def forward(self, x):\n",
        "        x = self.pool(F.relu(self.conv1(x)))\n",
        "        x = self.pool(F.relu(self.conv2(x)))\n",
        "        x = torch.flatten(x, 1) # flatten all dimensions except batch\n",
        "        x = F.relu(self.fc1(x))\n",
        "        x = F.relu(self.fc2(x))\n",
        "        x = self.fc3(x)\n",
        "        return x\n",
        "\n",
        "\n",
        "net = Net()"
      ]
    },
    {
      "cell_type": "code",
      "execution_count": 7,
      "metadata": {},
      "outputs": [],
      "source": [
        "import torch.optim as optim\n",
        "\n",
        "criterion = nn.CrossEntropyLoss()\n",
        "optimizer = optim.SGD(net.parameters(), lr=0.001, momentum=0.9)"
      ]
    },
    {
      "cell_type": "code",
      "execution_count": 8,
      "metadata": {},
      "outputs": [
        {
          "name": "stdout",
          "output_type": "stream",
          "text": [
            "[1,  2000] loss: 2.244\n",
            "[1,  4000] loss: 2.031\n",
            "[1,  6000] loss: 1.929\n",
            "[1,  8000] loss: 1.800\n",
            "[1, 10000] loss: 1.732\n",
            "[1, 12000] loss: 1.695\n",
            "[1, 14000] loss: 1.698\n",
            "[1, 16000] loss: 1.712\n",
            "[1, 18000] loss: 1.664\n",
            "[1, 20000] loss: 1.612\n",
            "[1, 22000] loss: 1.607\n",
            "[1, 24000] loss: 1.608\n",
            "[1, 26000] loss: 1.572\n",
            "[1, 28000] loss: 1.628\n",
            "[1, 30000] loss: 1.579\n",
            "[1, 32000] loss: 1.521\n",
            "[1, 34000] loss: 1.574\n",
            "[1, 36000] loss: 1.559\n",
            "[1, 38000] loss: 1.543\n",
            "[1, 40000] loss: 1.548\n",
            "[1, 42000] loss: 1.549\n",
            "[1, 44000] loss: 1.523\n",
            "[1, 46000] loss: 1.524\n",
            "[1, 48000] loss: 1.487\n",
            "[1, 50000] loss: 1.567\n",
            "[2,  2000] loss: 1.504\n",
            "[2,  4000] loss: 1.455\n",
            "[2,  6000] loss: 1.465\n",
            "[2,  8000] loss: 1.465\n",
            "[2, 10000] loss: 1.441\n",
            "[2, 12000] loss: 1.438\n",
            "[2, 14000] loss: 1.472\n",
            "[2, 16000] loss: 1.476\n",
            "[2, 18000] loss: 1.499\n",
            "[2, 20000] loss: 1.445\n",
            "[2, 22000] loss: 1.448\n",
            "[2, 24000] loss: 1.487\n",
            "[2, 26000] loss: 1.456\n",
            "[2, 28000] loss: 1.450\n",
            "[2, 30000] loss: 1.432\n",
            "[2, 32000] loss: 1.474\n",
            "[2, 34000] loss: 1.448\n",
            "[2, 36000] loss: 1.495\n",
            "[2, 38000] loss: 1.471\n",
            "[2, 40000] loss: 1.478\n",
            "[2, 42000] loss: 1.453\n",
            "[2, 44000] loss: 1.428\n",
            "[2, 46000] loss: 1.445\n",
            "[2, 48000] loss: 1.493\n",
            "[2, 50000] loss: 1.488\n",
            "Finished Training\n"
          ]
        }
      ],
      "source": [
        "# Train the network\n",
        "for epoch in range(2):  # loop over the dataset multiple times\n",
        "\n",
        "    running_loss = 0.0\n",
        "    for i, data in enumerate(trainloader, 0):\n",
        "        # get the inputs; data is a list of [inputs, labels]\n",
        "        inputs, labels = data\n",
        "\n",
        "        # zero the parameter gradients\n",
        "        optimizer.zero_grad()\n",
        "\n",
        "        # forward + backward + optimize\n",
        "        outputs = net(inputs)\n",
        "        loss = criterion(outputs, labels)\n",
        "        loss.backward()\n",
        "        optimizer.step()\n",
        "\n",
        "        # print statistics\n",
        "        running_loss += loss.item()\n",
        "        if i % 2000 == 1999:    # print every 2000 mini-batches\n",
        "            print(f'[{epoch + 1}, {i + 1:5d}] loss: {running_loss / 2000:.3f}')\n",
        "            running_loss = 0.0\n",
        "\n",
        "print('Finished Training')"
      ]
    },
    {
      "cell_type": "markdown",
      "metadata": {},
      "source": [
        "# Now, let's apply this to our dataset"
      ]
    },
    {
      "cell_type": "code",
      "execution_count": 12,
      "metadata": {},
      "outputs": [],
      "source": [
        "import string"
      ]
    },
    {
      "cell_type": "code",
      "execution_count": 13,
      "metadata": {},
      "outputs": [
        {
          "name": "stdout",
          "output_type": "stream",
          "text": [
            "Num of Training Instances: 520\n",
            "Num of Testing Instances: 130\n",
            "Shape of Sample Instances: torch.Size([3, 32, 32])\n",
            "1st dimension <class 'tuple'>\n",
            "2nd dimension <class 'torch.Tensor'>\n",
            "3rd dimension <class 'torch.Tensor'>\n",
            "4th dimension <class 'torch.Tensor'>\n",
            "5th dimension <class 'torch.Tensor'>\n",
            "Label: W\n"
          ]
        },
        {
          "data": {
            "image/png": "[encoded data removed]",
            "text/plain": [
              "<Figure size 432x288 with 1 Axes>"
            ]
          },
          "metadata": {
            "needs_background": "light"
          },
          "output_type": "display_data"
        }
      ],
      "source": [
        "batch_size = 4\n",
        "channels = 3\n",
        "## CAN CHANGE THIS LATER!!!!!!!!\n",
        "crop_size = 32\n",
        "train_split = 0.8\n",
        "test_split = 0.2\n",
        "\n",
        "# images in an array named imgs. \n",
        "# IDEALLY, WE DO ALL THE PREPROCESSING BEFOREHAND AND THEN RUN THE FOLLOWING STEPS\n",
        "path = \"./Data_full/\"\n",
        "imgs, labels = loadImages(path)\n",
        "\n",
        "\n",
        "### IDEALLY, WE DO ALL THE PREPROCESSING BEFOREHAND AND THEN RUN THE FOLLOWING STEPS\n",
        "\n",
        "## First, we preprocess the image, essentially resizing and cropping.\n",
        "preprocess = transforms.Compose([\n",
        "  transforms.Resize(15), # Hyperparameter\n",
        "  transforms.CenterCrop(crop_size),\n",
        "  transforms.ToTensor(),\n",
        "  transforms.Normalize(mean=[0.485, 0.456, 0.406], std=[0.229, 0.224, 0.225]),\n",
        "])\n",
        "\n",
        "## Second, we must create the training and testing data. Format it so it's same as using CIFAR dataset\n",
        "transforms_array = np.zeros((len(imgs), channels, crop_size, crop_size))\n",
        "for i in range(len(imgs)):\n",
        "  temp = preprocess(imgs[i])\n",
        "  transforms_array[i,:,:,:] = temp\n",
        "\n",
        "trainset, testset, labels_train, labels_test = train_test_split(transforms_array, labels, test_size=test_split, random_state=42)\n",
        "\n",
        "## Create the training dataand trainloader\n",
        "training_data = []\n",
        "for i in range(len(trainset)):\n",
        "  sample = (torch.Tensor(trainset[i,:,:,:]), labels_train[i])\n",
        "  training_data.append(sample)\n",
        "\n",
        "trainloader = torch.utils.data.DataLoader(training_data, batch_size=batch_size,\n",
        "                                          shuffle=True, num_workers=2)\n",
        "\n",
        "## Create the testing data and testloader\n",
        "testing_data = []\n",
        "for i in range(len(testset)):\n",
        "  sample = (torch.Tensor(testset[i,:,:,:]), labels_test[i])\n",
        "  testing_data.append(sample)\n",
        "\n",
        "testloader = torch.utils.data.DataLoader(testing_data, batch_size=batch_size,\n",
        "                                          shuffle=True, num_workers=2)\n",
        "\n",
        "\n",
        "# Define the classes\n",
        "classes = list(string.ascii_uppercase)\n",
        "\n",
        "## Print some stats/info about the data\n",
        "print(f\"Num of Training Instances: {len(training_data)}\")\n",
        "print(f\"Num of Testing Instances: {len(testing_data)}\")\n",
        "print(f\"Shape of Sample Instances: {training_data[0][0].shape}\")\n",
        "print(f\"1st dimension {type(training_data[8])}\")\n",
        "print(f\"2nd dimension {type(training_data[8][0])}\")\n",
        "print(f\"3rd dimension {type(training_data[8][0][0])}\")\n",
        "print(f\"4th dimension {type(training_data[8][0][0][0])}\")\n",
        "print(f\"5th dimension {type(training_data[8][0][0][0][0])}\")\n",
        "\n",
        "# Unnormalize the image before showing!\n",
        "invTrans = transforms.Compose([ transforms.Normalize(mean = [ 0., 0., 0. ],\n",
        "                                                     std = [ 1/0.229, 1/0.224, 1/0.225 ]),\n",
        "                                transforms.Normalize(mean = [ -0.485, -0.456, -0.406 ],\n",
        "                                                     std = [ 1., 1., 1. ]),\n",
        "                               ])\n",
        "\n",
        "inv_tensor = invTrans(training_data[8][0])\n",
        "print(f\"Label: {classes[training_data[8][1]]}\")\n",
        "plt.imshow(np.transpose(inv_tensor, (1, 2, 0)));\n",
        "\n"
      ]
    },
    {
      "cell_type": "markdown",
      "metadata": {},
      "source": [
        "## View sample iamges and their respective labels"
      ]
    },
    {
      "cell_type": "code",
      "execution_count": 14,
      "metadata": {},
      "outputs": [
        {
          "name": "stdout",
          "output_type": "stream",
          "text": [
            "torch.Size([3, 36, 138])\n"
          ]
        },
        {
          "data": {
            "image/png": "[encoded data removed]",
            "text/plain": [
              "<Figure size 720x720 with 1 Axes>"
            ]
          },
          "metadata": {
            "needs_background": "light"
          },
          "output_type": "display_data"
        },
        {
          "name": "stdout",
          "output_type": "stream",
          "text": [
            "labels: J     J     E     F    \n"
          ]
        }
      ],
      "source": [
        "def imshow(img):\n",
        "    img = invTrans(img)\n",
        "    print(img.shape)\n",
        "    plt.figure(figsize=(10,10))\n",
        "    plt.imshow(np.transpose(img, (1, 2, 0)))\n",
        "    plt.show()\n",
        "\n",
        "dataiter = iter(trainloader)\n",
        "images, labels = dataiter.next()\n",
        "\n",
        "imshow(torchvision.utils.make_grid(images))\n",
        "# print labels\n",
        "print(\"labels: \" + ' '.join(f'{classes[labels[j]]:5s}' for j in range(batch_size)))"
      ]
    },
    {
      "cell_type": "markdown",
      "metadata": {},
      "source": [
        "## Implement the model: CAN DEF CHANGE THIS PART"
      ]
    },
    {
      "cell_type": "code",
      "execution_count": 15,
      "metadata": {},
      "outputs": [],
      "source": [
        "import torch.nn as nn\n",
        "import torch.nn.functional as F\n",
        "\n",
        "# Right now, this model is based on input size of 32 x 32. Must adjust kernels + padding + strides\n",
        "# if we want to use a different input size\n",
        "class Net(nn.Module):\n",
        "    def __init__(self):\n",
        "        super().__init__()\n",
        "        self.conv1 = nn.Conv2d(3, 6, 5)\n",
        "        self.pool = nn.MaxPool2d(2, 2)\n",
        "        self.conv2 = nn.Conv2d(6, 16, 5)\n",
        "        self.fc1 = nn.Linear(16 * 5 * 5, 120)\n",
        "        self.fc2 = nn.Linear(120, 84)\n",
        "        self.fc3 = nn.Linear(84, 26)\n",
        "\n",
        "    def forward(self, x):\n",
        "        x = self.pool(F.relu(self.conv1(x)))\n",
        "        x = self.pool(F.relu(self.conv2(x)))\n",
        "        x = torch.flatten(x, 1) # flatten all dimensions except batch\n",
        "        x = F.relu(self.fc1(x))\n",
        "        x = F.relu(self.fc2(x))\n",
        "        x = self.fc3(x)\n",
        "        return x\n",
        "\n",
        "net = Net()"
      ]
    },
    {
      "cell_type": "markdown",
      "metadata": {},
      "source": [
        "## Train the model"
      ]
    },
    {
      "cell_type": "code",
      "execution_count": 16,
      "metadata": {},
      "outputs": [],
      "source": [
        "import torch.optim as optim\n",
        "\n",
        "criterion = nn.CrossEntropyLoss()\n",
        "optimizer = optim.SGD(net.parameters(), lr=0.001, momentum=0.9)"
      ]
    },
    {
      "cell_type": "code",
      "execution_count": 17,
      "metadata": {},
      "outputs": [
        {
          "name": "stdout",
          "output_type": "stream",
          "text": [
            "[1,    10] loss: 0.016\n",
            "[1,   110] loss: 0.163\n",
            "[2,    10] loss: 0.016\n",
            "[2,   110] loss: 0.162\n",
            "[3,    10] loss: 0.016\n",
            "[3,   110] loss: 0.160\n",
            "[4,    10] loss: 0.015\n",
            "[4,   110] loss: 0.145\n",
            "[5,    10] loss: 0.012\n",
            "[5,   110] loss: 0.092\n",
            "[6,    10] loss: 0.005\n",
            "[6,   110] loss: 0.052\n",
            "[7,    10] loss: 0.004\n",
            "[7,   110] loss: 0.035\n",
            "[8,    10] loss: 0.003\n",
            "[8,   110] loss: 0.022\n",
            "[9,    10] loss: 0.001\n",
            "[9,   110] loss: 0.013\n",
            "[10,    10] loss: 0.001\n",
            "[10,   110] loss: 0.010\n",
            "[11,    10] loss: 0.001\n",
            "[11,   110] loss: 0.012\n",
            "[12,    10] loss: 0.000\n",
            "[12,   110] loss: 0.008\n",
            "[13,    10] loss: 0.000\n",
            "[13,   110] loss: 0.007\n",
            "[14,    10] loss: 0.002\n",
            "[14,   110] loss: 0.009\n",
            "[15,    10] loss: 0.001\n",
            "[15,   110] loss: 0.004\n",
            "[16,    10] loss: 0.000\n",
            "[16,   110] loss: 0.003\n",
            "[17,    10] loss: 0.000\n",
            "[17,   110] loss: 0.003\n",
            "[18,    10] loss: 0.001\n",
            "[18,   110] loss: 0.003\n",
            "[19,    10] loss: 0.000\n",
            "[19,   110] loss: 0.004\n",
            "[20,    10] loss: 0.001\n",
            "[20,   110] loss: 0.004\n",
            "Finished Training\n"
          ]
        }
      ],
      "source": [
        "\n",
        "for epoch in range(20):  # loop over the dataset multiple times\n",
        "\n",
        "    running_loss = 0.0\n",
        "    for i, data in enumerate(trainloader, 0):\n",
        "        # get the inputs; data is a list of [inputs, labels]\n",
        "        inputs, labels = data\n",
        "\n",
        "\n",
        "        # zero the parameter gradients\n",
        "        optimizer.zero_grad()\n",
        "\n",
        "        # forward + backward + optimize\n",
        "        outputs = net(inputs)\n",
        "        loss = criterion(outputs, labels)\n",
        "        loss.backward()\n",
        "        optimizer.step()\n",
        "\n",
        "        # print statistics\n",
        "        running_loss += loss.item()\n",
        "        if i % 100 == 9:    # print every 2000 mini-batches\n",
        "            print(f'[{epoch + 1}, {i + 1:5d}] loss: {running_loss / 2000:.3f}')\n",
        "            running_loss = 0.0\n",
        "\n",
        "print('Finished Training')"
      ]
    },
    {
      "cell_type": "markdown",
      "metadata": {},
      "source": [
        "# Test the model"
      ]
    },
    {
      "cell_type": "code",
      "execution_count": 18,
      "metadata": {},
      "outputs": [
        {
          "name": "stdout",
          "output_type": "stream",
          "text": [
            "Accuracy of the network on the 130 test images: 99 %\n"
          ]
        }
      ],
      "source": [
        "correct = 0\n",
        "total = 0\n",
        "# since we're not training, we don't need to calculate the gradients for our outputs\n",
        "with torch.no_grad():\n",
        "    for data in testloader:\n",
        "        images, labels = data\n",
        "        # calculate outputs by running images through the network\n",
        "        outputs = net(images)\n",
        "        # the class with the highest energy is what we choose as prediction\n",
        "        _, predicted = torch.max(outputs.data, 1)\n",
        "        total += labels.size(0)\n",
        "        correct += (predicted == labels).sum().item()\n",
        "\n",
        "print(f'Accuracy of the network on the {len(testset)} test images: {100 * correct // total} %')"
      ]
    },
    {
      "cell_type": "code",
      "execution_count": 19,
      "metadata": {},
      "outputs": [
        {
          "name": "stdout",
          "output_type": "stream",
          "text": [
            "torch.Size([3, 36, 138])\n"
          ]
        },
        {
          "data": {
            "image/png": "[encoded data removed]",
            "text/plain": [
              "<Figure size 720x720 with 1 Axes>"
            ]
          },
          "metadata": {
            "needs_background": "light"
          },
          "output_type": "display_data"
        },
        {
          "name": "stdout",
          "output_type": "stream",
          "text": [
            "GroundTruth:  L     Q     X     G    \n",
            "Predicted:  L     Q     X     G    \n"
          ]
        }
      ],
      "source": [
        "dataiter = iter(testloader)\n",
        "images, labels = dataiter.next()\n",
        "\n",
        "# print images\n",
        "imshow(torchvision.utils.make_grid(images))\n",
        "print('GroundTruth: ', ' '.join(f'{classes[labels[j]]:5s}' for j in range(4)))\n",
        "\n",
        "outputs = net(images)\n",
        "_, predicted = torch.max(outputs, 1)\n",
        "\n",
        "print('Predicted: ', ' '.join(f'{classes[predicted[j]]:5s}'\n",
        "                              for j in range(4)))"
      ]
    },
    {
      "cell_type": "code",
      "execution_count": null,
      "metadata": {},
      "outputs": [],
      "source": []
    }
  ],
  "metadata": {
    "colab": {
      "collapsed_sections": [],
      "name": "DataAugmentation.ipynb",
      "provenance": []
    },
    "interpreter": {
      "hash": "082e9a3bcad0a290d0001e938aa60b99250c6c2ef33a923c00b70f9826caf4b7"
    },
    "kernelspec": {
      "display_name": "Python 3.8.3 64-bit",
      "name": "python3"
    },
    "language_info": {
      "codemirror_mode": {
        "name": "ipython",
        "version": 3
      },
      "file_extension": ".py",
      "mimetype": "text/x-python",
      "name": "python",
      "nbconvert_exporter": "python",
      "pygments_lexer": "ipython3",
      "version": "3.8.9"
    }
  },
  "nbformat": 4,
  "nbformat_minor": 2
}
