{
  "nbformat": 4,
  "nbformat_minor": 2,
  "metadata": {
    "colab": {
      "name": "FeaturesHandToBack.ipynb",
      "provenance": [],
      "collapsed_sections": []
    },
    "kernelspec": {
      "name": "python3",
      "display_name": "Python 3.8.12 64-bit ('pytorch_p37': conda)"
    },
    "language_info": {
      "name": "python",
      "version": "3.8.12",
      "mimetype": "text/x-python",
      "codemirror_mode": {
        "name": "ipython",
        "version": 3
      },
      "pygments_lexer": "ipython3",
      "nbconvert_exporter": "python",
      "file_extension": ".py"
    },
    "interpreter": {
      "hash": "14f67cdccdf06abada5969147d66d8a0303fc958affdfcadd6d47bed05461cdf"
    }
  },
  "cells": [
    {
      "cell_type": "markdown",
      "source": [
        "## Import Statements"
      ],
      "metadata": {}
    },
    {
      "cell_type": "code",
      "execution_count": 1,
      "source": [
        "import numpy as np\n",
        "import skimage\n",
        "import matplotlib.pyplot as plt\n",
        "from tempfile import TemporaryFile\n",
        "from PIL import Image, ImageEnhance\n",
        "from os import listdir\n",
        "import imghdr\n",
        "from skimage.transform import rotate, AffineTransform, warp\n",
        "from skimage import filters\n",
        "from torchvision import transforms\n",
        "import cv2\n",
        "import scipy\n",
        "import random"
      ],
      "outputs": [],
      "metadata": {
        "id": "5yCtEcTMP_1l"
      }
    },
    {
      "cell_type": "code",
      "execution_count": 2,
      "source": [
        "rmdir './Data/.ipynb_checkpoints'"
      ],
      "outputs": [
        {
          "output_type": "stream",
          "name": "stdout",
          "text": [
            "rmdir: ./Data/.ipynb_checkpoints: No such file or directory\n"
          ]
        }
      ],
      "metadata": {
        "id": "aNWyTkklQEvO"
      }
    },
    {
      "cell_type": "markdown",
      "source": [
        "## Get proportion of hand in the image"
      ],
      "metadata": {}
    },
    {
      "cell_type": "code",
      "execution_count": 4,
      "source": [
        "# Feature: Get proportion of hand in the image\n",
        "#Load Data\n",
        "# return array of images\n",
        "def loadImages(path):\n",
        "    imagesList = listdir(path)\n",
        "    imgs = []\n",
        "    labels = []\n",
        "    for image in imagesList:\n",
        "      if imghdr.what(path + image) == 'png':\n",
        "        if (image[6].isalpha()): # only add 5 of each image, only add alphabetical values\n",
        "          img = Image.open(path + image)\n",
        "          imgs.append(np.array(img))\n",
        "          labels.append(ord(image[6]) - ord('a')) # assumes that filename structure is 'handx_[label]_....'\n",
        "    return imgs, labels\n",
        "\n",
        "def HandToBack(imgs):\n",
        "  features = [0] * len(imgs)\n",
        "  for i in range(len(imgs)):\n",
        "    # print(str(i))\n",
        "    img = imgs[i]\n",
        "    # fig, ax = plt.subplots(1, 7, figsize=(15,10))\n",
        "    # ax[0].imshow(img) # Step 1\n",
        "    total_pixels = img.shape[0] * img.shape[1]\n",
        "    hand_pixels = 0\n",
        "    img = np.reshape(img, (1, img.shape[0] * img.shape[1], 3))\n",
        "    for j in range (img.shape[1]):\n",
        "      if img[0][j][0] != 0 and img[0][j][1] != 0 and img[0][j][2] != 0:\n",
        "        hand_pixels += 1\n",
        "    features[i] =  hand_pixels / total_pixels\n",
        "    # print(features[i])\n",
        "\n",
        "  return features"
      ],
      "outputs": [],
      "metadata": {
        "id": "oA0r5aJpQF88",
        "colab": {
          "base_uri": "https://localhost:8080/",
          "height": 357
        },
        "outputId": "4d32919b-b375-4695-e4db-2e07fd5f7518"
      }
    },
    {
      "cell_type": "markdown",
      "source": [
        "## Save Features"
      ],
      "metadata": {}
    },
    {
      "cell_type": "code",
      "execution_count": 5,
      "source": [
        "# Orig Dataset\n",
        "path_orig = \"./handgesturedataset_part1/\"\n",
        "imgs_orig, labels_orig = loadImages(path_orig)\n",
        "print(len(imgs_orig))\n",
        "\n",
        "features_orig = HandToBack(imgs_orig)\n",
        "print(len(features_orig))\n",
        "\n",
        "np.save('./features/htb.npy', features_orig)\n",
        "\n",
        "# FinalImages Dataset\n",
        "path_fi = \"./FinalImages/\"\n",
        "imgs_fi, labels_fi = loadImages(path_fi)\n",
        "print(len(imgs_fi))\n",
        "\n",
        "features_fi = HandToBack(imgs_fi)\n",
        "print(len(features_fi))\n",
        "\n",
        "np.save('./features/htbFinal.npy', features_fi)\n",
        "\n",
        "# Only_Mult_Augments Dataset\n",
        "path_oma = \"./Only_Mult_Augments/\"\n",
        "imgs_oma, labels_oma = loadImages(path_oma)\n",
        "print(len(imgs_oma))\n",
        "\n",
        "features_oma = HandToBack(imgs_oma)\n",
        "print(len(features_oma))\n",
        "\n",
        "np.save('./features/htbOnlyMult.npy', features_oma)\n",
        "\n",
        "# Mult_Augments Dataset\n",
        "path_ma = \"./Mult_Augments/\"\n",
        "imgs_ma, labels_ma = loadImages(path_ma)\n",
        "print(len(imgs_ma))\n",
        "\n",
        "features_ma = HandToBack(imgs_ma)\n",
        "print(len(features_ma))\n",
        "\n",
        "np.save('./features/htbMult.npy', features_ma)"
      ],
      "outputs": [
        {
          "output_type": "error",
          "ename": "FileNotFoundError",
          "evalue": "[Errno 2] No such file or directory: './handgesturedataset_part1hand1_0_left_seg_4_cropped.png'",
          "traceback": [
            "\u001b[0;31m---------------------------------------------------------------------------\u001b[0m",
            "\u001b[0;31mFileNotFoundError\u001b[0m                         Traceback (most recent call last)",
            "\u001b[0;32m/var/folders/nv/9940m1bn7ds7j01x5g5qy0wc0000gn/T/ipykernel_90672/3378202611.py\u001b[0m in \u001b[0;36m<module>\u001b[0;34m\u001b[0m\n\u001b[1;32m      1\u001b[0m \u001b[0;31m# Orig Dataset\u001b[0m\u001b[0;34m\u001b[0m\u001b[0;34m\u001b[0m\u001b[0;34m\u001b[0m\u001b[0m\n\u001b[1;32m      2\u001b[0m \u001b[0mpath_orig\u001b[0m \u001b[0;34m=\u001b[0m \u001b[0;34m\"./handgesturedataset_part1\"\u001b[0m\u001b[0;34m\u001b[0m\u001b[0;34m\u001b[0m\u001b[0m\n\u001b[0;32m----> 3\u001b[0;31m \u001b[0mimgs_orig\u001b[0m\u001b[0;34m,\u001b[0m \u001b[0mlabels_orig\u001b[0m \u001b[0;34m=\u001b[0m \u001b[0mloadImages\u001b[0m\u001b[0;34m(\u001b[0m\u001b[0mpath_orig\u001b[0m\u001b[0;34m)\u001b[0m\u001b[0;34m\u001b[0m\u001b[0;34m\u001b[0m\u001b[0m\n\u001b[0m\u001b[1;32m      4\u001b[0m \u001b[0mprint\u001b[0m\u001b[0;34m(\u001b[0m\u001b[0mlen\u001b[0m\u001b[0;34m(\u001b[0m\u001b[0mimgs_orig\u001b[0m\u001b[0;34m)\u001b[0m\u001b[0;34m)\u001b[0m\u001b[0;34m\u001b[0m\u001b[0;34m\u001b[0m\u001b[0m\n\u001b[1;32m      5\u001b[0m \u001b[0;34m\u001b[0m\u001b[0m\n",
            "\u001b[0;32m/var/folders/nv/9940m1bn7ds7j01x5g5qy0wc0000gn/T/ipykernel_90672/971414394.py\u001b[0m in \u001b[0;36mloadImages\u001b[0;34m(path)\u001b[0m\n\u001b[1;32m      7\u001b[0m     \u001b[0mlabels\u001b[0m \u001b[0;34m=\u001b[0m \u001b[0;34m[\u001b[0m\u001b[0;34m]\u001b[0m\u001b[0;34m\u001b[0m\u001b[0;34m\u001b[0m\u001b[0m\n\u001b[1;32m      8\u001b[0m     \u001b[0;32mfor\u001b[0m \u001b[0mimage\u001b[0m \u001b[0;32min\u001b[0m \u001b[0mimagesList\u001b[0m\u001b[0;34m:\u001b[0m\u001b[0;34m\u001b[0m\u001b[0;34m\u001b[0m\u001b[0m\n\u001b[0;32m----> 9\u001b[0;31m       \u001b[0;32mif\u001b[0m \u001b[0mimghdr\u001b[0m\u001b[0;34m.\u001b[0m\u001b[0mwhat\u001b[0m\u001b[0;34m(\u001b[0m\u001b[0mpath\u001b[0m \u001b[0;34m+\u001b[0m \u001b[0mimage\u001b[0m\u001b[0;34m)\u001b[0m \u001b[0;34m==\u001b[0m \u001b[0;34m'png'\u001b[0m\u001b[0;34m:\u001b[0m\u001b[0;34m\u001b[0m\u001b[0;34m\u001b[0m\u001b[0m\n\u001b[0m\u001b[1;32m     10\u001b[0m         \u001b[0;32mif\u001b[0m \u001b[0;34m(\u001b[0m\u001b[0mimage\u001b[0m\u001b[0;34m[\u001b[0m\u001b[0;36m6\u001b[0m\u001b[0;34m]\u001b[0m\u001b[0;34m.\u001b[0m\u001b[0misalpha\u001b[0m\u001b[0;34m(\u001b[0m\u001b[0;34m)\u001b[0m\u001b[0;34m)\u001b[0m\u001b[0;34m:\u001b[0m \u001b[0;31m# only add 5 of each image, only add alphabetical values\u001b[0m\u001b[0;34m\u001b[0m\u001b[0;34m\u001b[0m\u001b[0m\n\u001b[1;32m     11\u001b[0m           \u001b[0mimg\u001b[0m \u001b[0;34m=\u001b[0m \u001b[0mImage\u001b[0m\u001b[0;34m.\u001b[0m\u001b[0mopen\u001b[0m\u001b[0;34m(\u001b[0m\u001b[0mpath\u001b[0m \u001b[0;34m+\u001b[0m \u001b[0mimage\u001b[0m\u001b[0;34m)\u001b[0m\u001b[0;34m\u001b[0m\u001b[0;34m\u001b[0m\u001b[0m\n",
            "\u001b[0;32m~/miniconda3/envs/pytorch_p37/lib/python3.8/imghdr.py\u001b[0m in \u001b[0;36mwhat\u001b[0;34m(file, h)\u001b[0m\n\u001b[1;32m     14\u001b[0m         \u001b[0;32mif\u001b[0m \u001b[0mh\u001b[0m \u001b[0;32mis\u001b[0m \u001b[0;32mNone\u001b[0m\u001b[0;34m:\u001b[0m\u001b[0;34m\u001b[0m\u001b[0;34m\u001b[0m\u001b[0m\n\u001b[1;32m     15\u001b[0m             \u001b[0;32mif\u001b[0m \u001b[0misinstance\u001b[0m\u001b[0;34m(\u001b[0m\u001b[0mfile\u001b[0m\u001b[0;34m,\u001b[0m \u001b[0;34m(\u001b[0m\u001b[0mstr\u001b[0m\u001b[0;34m,\u001b[0m \u001b[0mPathLike\u001b[0m\u001b[0;34m)\u001b[0m\u001b[0;34m)\u001b[0m\u001b[0;34m:\u001b[0m\u001b[0;34m\u001b[0m\u001b[0;34m\u001b[0m\u001b[0m\n\u001b[0;32m---> 16\u001b[0;31m                 \u001b[0mf\u001b[0m \u001b[0;34m=\u001b[0m \u001b[0mopen\u001b[0m\u001b[0;34m(\u001b[0m\u001b[0mfile\u001b[0m\u001b[0;34m,\u001b[0m \u001b[0;34m'rb'\u001b[0m\u001b[0;34m)\u001b[0m\u001b[0;34m\u001b[0m\u001b[0;34m\u001b[0m\u001b[0m\n\u001b[0m\u001b[1;32m     17\u001b[0m                 \u001b[0mh\u001b[0m \u001b[0;34m=\u001b[0m \u001b[0mf\u001b[0m\u001b[0;34m.\u001b[0m\u001b[0mread\u001b[0m\u001b[0;34m(\u001b[0m\u001b[0;36m32\u001b[0m\u001b[0;34m)\u001b[0m\u001b[0;34m\u001b[0m\u001b[0;34m\u001b[0m\u001b[0m\n\u001b[1;32m     18\u001b[0m             \u001b[0;32melse\u001b[0m\u001b[0;34m:\u001b[0m\u001b[0;34m\u001b[0m\u001b[0;34m\u001b[0m\u001b[0m\n",
            "\u001b[0;31mFileNotFoundError\u001b[0m: [Errno 2] No such file or directory: './handgesturedataset_part1hand1_0_left_seg_4_cropped.png'"
          ]
        }
      ],
      "metadata": {}
    }
  ]
}