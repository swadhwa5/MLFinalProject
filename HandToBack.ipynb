{
  "nbformat": 4,
  "nbformat_minor": 2,
  "metadata": {
    "colab": {
      "name": "FeaturesHandToBack.ipynb",
      "provenance": [],
      "collapsed_sections": []
    },
    "kernelspec": {
      "name": "python3",
      "display_name": "Python 3.8.12 64-bit ('pytorch_p37': conda)"
    },
    "language_info": {
      "name": "python",
      "version": "3.8.12",
      "mimetype": "text/x-python",
      "codemirror_mode": {
        "name": "ipython",
        "version": 3
      },
      "pygments_lexer": "ipython3",
      "nbconvert_exporter": "python",
      "file_extension": ".py"
    },
    "interpreter": {
      "hash": "14f67cdccdf06abada5969147d66d8a0303fc958affdfcadd6d47bed05461cdf"
    }
  },
  "cells": [
    {
      "cell_type": "markdown",
      "source": [
        "## Import Statements"
      ],
      "metadata": {}
    },
    {
      "cell_type": "code",
      "execution_count": 1,
      "source": [
        "import numpy as np\n",
        "import skimage\n",
        "import matplotlib.pyplot as plt\n",
        "from tempfile import TemporaryFile\n",
        "from PIL import Image, ImageEnhance\n",
        "from os import listdir\n",
        "import imghdr\n",
        "from skimage.transform import rotate, AffineTransform, warp\n",
        "from skimage import filters\n",
        "from torchvision import transforms\n",
        "import cv2\n",
        "import scipy\n",
        "import random"
      ],
      "outputs": [],
      "metadata": {
        "id": "5yCtEcTMP_1l"
      }
    },
    {
      "cell_type": "code",
      "execution_count": 2,
      "source": [
        "rmdir './Data/.ipynb_checkpoints'"
      ],
      "outputs": [
        {
          "output_type": "stream",
          "name": "stdout",
          "text": [
            "rmdir: ./Data/.ipynb_checkpoints: No such file or directory\n"
          ]
        }
      ],
      "metadata": {
        "id": "aNWyTkklQEvO"
      }
    },
    {
      "cell_type": "markdown",
      "source": [
        "## Get proportion of hand in the image"
      ],
      "metadata": {}
    },
    {
      "cell_type": "code",
      "execution_count": 4,
      "source": [
        "# Feature: Get proportion of hand in the image\n",
        "#Load Data\n",
        "# return array of images\n",
        "def loadImages(path):\n",
        "    imagesList = listdir(path)\n",
        "    imgs = []\n",
        "    labels = []\n",
        "    for image in imagesList:\n",
        "      if imghdr.what(path + image) == 'png':\n",
        "        if (image[6].isalpha()): # only add 5 of each image, only add alphabetical values\n",
        "          img = Image.open(path + image)\n",
        "          imgs.append(np.array(img))\n",
        "          labels.append(ord(image[6]) - ord('a')) # assumes that filename structure is 'handx_[label]_....'\n",
        "    return imgs, labels\n",
        "\n",
        "def HandToBack(imgs):\n",
        "  features = [0] * len(imgs)\n",
        "  for i in range(len(imgs)):\n",
        "    # print(str(i))\n",
        "    img = imgs[i]\n",
        "    # fig, ax = plt.subplots(1, 7, figsize=(15,10))\n",
        "    # ax[0].imshow(img) # Step 1\n",
        "    total_pixels = img.shape[0] * img.shape[1]\n",
        "    hand_pixels = 0\n",
        "    img = np.reshape(img, (1, img.shape[0] * img.shape[1], 3))\n",
        "    for j in range (img.shape[1]):\n",
        "      if img[0][j][0] != 0 and img[0][j][1] != 0 and img[0][j][2] != 0:\n",
        "        hand_pixels += 1\n",
        "    features[i] =  hand_pixels / total_pixels\n",
        "    # print(features[i])\n",
        "\n",
        "  return features"
      ],
      "outputs": [],
      "metadata": {
        "id": "oA0r5aJpQF88",
        "colab": {
          "base_uri": "https://localhost:8080/",
          "height": 357
        },
        "outputId": "4d32919b-b375-4695-e4db-2e07fd5f7518"
      }
    },
    {
      "cell_type": "markdown",
      "source": [
        "## Save Features"
      ],
      "metadata": {}
    },
    {
      "cell_type": "code",
      "execution_count": null,
      "source": [
        "# Orig Dataset\n",
        "path_orig = \"./handgesturedataset_part1/\"\n",
        "imgs_orig, labels_orig = loadImages(path_orig)\n",
        "print(len(imgs_orig))\n",
        "\n",
        "features_orig = HandToBack(imgs_orig)\n",
        "print(len(features_orig))\n",
        "\n",
        "np.save('./features/htb.npy', features_orig)"
      ],
      "outputs": [],
      "metadata": {}
    },
    {
      "cell_type": "code",
      "execution_count": 10,
      "source": [
        "# FinalImages Dataset\n",
        "path_fi = \"./FinalImages/\"\n",
        "imgs_fi, labels_fi = loadImages(path_fi)\n",
        "print(len(imgs_fi))\n",
        "\n",
        "features_fi = HandToBack(imgs_fi)\n",
        "print(len(features_fi))\n",
        "\n",
        "np.save('./features/htbFinal.npy', features_fi)"
      ],
      "outputs": [
        {
          "output_type": "stream",
          "name": "stdout",
          "text": [
            "3900\n",
            "3900\n"
          ]
        }
      ],
      "metadata": {}
    },
    {
      "cell_type": "code",
      "execution_count": 9,
      "source": [
        "# Mult_Augments Dataset\n",
        "path_ma = \"./Mult_Augments/\"\n",
        "imgs_ma, labels_ma = loadImages(path_ma)\n",
        "print(len(imgs_ma))\n",
        "\n",
        "features_ma = HandToBack(imgs_ma)\n",
        "print(len(features_ma))\n",
        "\n",
        "np.save('./features/htbMult.npy', features_ma)"
      ],
      "outputs": [
        {
          "output_type": "stream",
          "name": "stdout",
          "text": [
            "650\n",
            "650\n"
          ]
        }
      ],
      "metadata": {}
    }
  ]
}