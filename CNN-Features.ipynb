{
 "cells": [
  {
   "cell_type": "markdown",
   "metadata": {
    "colab_type": "text",
    "id": "view-in-github"
   },
   "source": [
    "<a href=\"https://colab.research.google.com/github/swadhwa5/MLFinalProject/blob/main/SimpleCNN.ipynb\" target=\"_parent\"><img src=\"https://colab.research.google.com/assets/colab-badge.svg\" alt=\"Open In Colab\"/></a>"
   ]
  },
  {
   "cell_type": "markdown",
   "metadata": {
    "id": "OKW_Y86Rc3C1"
   },
   "source": [
    "# Models For Machine Learning"
   ]
  },
  {
   "cell_type": "markdown",
   "metadata": {
    "id": "v3eZwRo4cz9K"
   },
   "source": [
    "## Model Implementation: LeNet with 3 Channels\n",
    "\n",
    "LeNet was one of the first convolutional neural network (CNN) models used on 28x28 black and white images. While it is simple, it was one of the first uses of the backpropgation algorithm in practical applications: specifically, reading handwritten numbers. In 1990, there was an error rate of 1% and rejection rate of about 9%. The model structure is as follows:\n",
    "1. 2 convolutional layers\n",
    "2. 2 pooling layers\n",
    "3. 3 fully-connected\n",
    "\n",
    "In this implementation, we make the slight modifications to this standard network structure as follows:\n",
    "1. Add dropout layers for regularization\n",
    "2. Input 32x32 sized images\n",
    "3. Input 3 channels (RGB images).\n",
    "4. Input features to fully-connected layers\n",
    "\n",
    "LeCun, Y.; Boser, B.; Denker, J. S.; Henderson, D.; Howard, R. E.; Hubbard, W. & Jackel, L. D. (1989). Backpropagation applied to handwritten zip code recognition. Neural Computation, 1(4):541-551.[1]"
   ]
  },
  {
   "cell_type": "code",
   "execution_count": 1,
   "metadata": {
    "id": "KGRlHoXrciil"
   },
   "outputs": [],
   "source": [
    "import numpy as np\n",
    "import matplotlib.pyplot as plt\n",
    "\n",
    "# Loading images\n",
    "import imghdr\n",
    "from PIL import Image\n",
    "from os import listdir\n",
    "\n",
    "# Image preprocessing\n",
    "import torchvision\n",
    "import torchvision.transforms as transforms\n",
    "\n",
    "# For model implementation\n",
    "import torch\n",
    "import torch.nn as nn\n",
    "import torch.nn.functional as F\n",
    "import torch.optim as optim\n",
    "from sklearn.model_selection import train_test_split\n",
    "\n",
    "# For classes\n",
    "import string"
   ]
  },
  {
   "cell_type": "code",
   "execution_count": 2,
   "metadata": {
    "id": "gJeb6rRCdXDl"
   },
   "outputs": [],
   "source": [
    "class LeNet(nn.Module):\n",
    "    def __init__(self, num_classes=26, num_features=402):\n",
    "        super().__init__()\n",
    "\n",
    "        self.conv_layer = nn.Sequential(\n",
    "            nn.Conv2d(3, 6, 5),\n",
    "            nn.ReLU(),\n",
    "            nn.MaxPool2d(2, 2),\n",
    "            nn.Conv2d(6, 16, 5),\n",
    "            nn.ReLU(),\n",
    "            nn.MaxPool2d(2, 2),\n",
    "        )\n",
    "\n",
    "        self.linear = nn.Sequential(\n",
    "            nn.Linear(16 * 5 * 5 + num_features, 120),\n",
    "            nn.ReLU(),\n",
    "            nn.Linear(120, 84),\n",
    "            nn.ReLU(),\n",
    "            nn.Linear(84, num_classes)\n",
    "        )\n",
    "\n",
    "    def forward(self, x, feature):\n",
    "        x = self.conv_layer(x)\n",
    "        x = torch.reshape(x, (x.shape[0], x.shape[1] * x.shape[2] * x.shape[3]))\n",
    "        x = torch.cat((x, feature), 1)\n",
    "        x = self.linear(x)\n",
    "        return x"
   ]
  },
  {
   "cell_type": "markdown",
   "metadata": {
    "id": "PmGb6MKJdtzg"
   },
   "source": [
    "### Training the model:\n",
    "\n",
    "Below is the network training function. This implements forward and backward propagation to update model parameters."
   ]
  },
  {
   "cell_type": "code",
   "execution_count": 3,
   "metadata": {
    "id": "ATIFh6jbd32_"
   },
   "outputs": [],
   "source": [
    "# Train the model parameters\n",
    "def train_model(trainloader, train_data, train_labels, dev_data, dev_labels, criterion, optimizer, model, num_images, n=20):\n",
    "\n",
    "  epochs = []\n",
    "  train_losses = []\n",
    "  dev_accuracies = []\n",
    "  for epoch in range(n):  # loop over the dataset multiple times\n",
    "\n",
    "    for i, data in enumerate(trainloader, 0):\n",
    "        # get the inputs; data is a list of [inputs, features, labels]\n",
    "        inputs, features, labels = data\n",
    "        labels = labels.type(torch.LongTensor)\n",
    "        if torch.cuda.is_available():\n",
    "          inputs = inputs.cuda()\n",
    "          features = features.cuda()  \n",
    "          labels = labels.cuda()\n",
    "\n",
    "        # zero the parameter gradients\n",
    "        optimizer.zero_grad()\n",
    "\n",
    "        # forward + backward + optimize\n",
    "        outputs = model(inputs, features)\n",
    "        loss = criterion(outputs, labels)\n",
    "        loss.backward()\n",
    "        optimizer.step()\n",
    "    \n",
    "    train_acc, train_loss = approx_train_acc_and_loss(model, train_data, train_labels)\n",
    "    dev_acc, dev_loss = dev_acc_and_loss(model, dev_data, dev_labels)\n",
    "    epochs.append(epoch)\n",
    "    train_losses.append(train_loss)\n",
    "    dev_accuracies.append(dev_acc)\n",
    "    step_metrics = {\n",
    "            'step': epoch, \n",
    "            'train_loss': loss.item(), \n",
    "            'train_acc': train_acc,\n",
    "            'dev_loss': dev_loss,\n",
    "            'dev_acc': dev_acc\n",
    "        }\n",
    "    if epoch % 2 == 0:\n",
    "      print(f\"On step {epoch}:\\tTrain loss {train_loss}\\t|\\tDev acc is {dev_acc}\")\n",
    "\n",
    "\n",
    "\n",
    "  print('Finished Training')\n",
    "  return epochs, train_losses, dev_accuracies"
   ]
  },
  {
   "cell_type": "markdown",
   "metadata": {
    "id": "5QSTvvy0eGk7"
   },
   "source": [
    "### Testing the model\n",
    "\n",
    "Below is the function for testing the model. This function will output the testing result based on the testloader. The function also takes a \"num_display\" argument for how many incorrect images we want to visualize."
   ]
  },
  {
   "cell_type": "code",
   "execution_count": 4,
   "metadata": {
    "id": "6xOV-3S6eco5"
   },
   "outputs": [],
   "source": [
    "# Test the model on help out dev set\n",
    "def test_model(testloader, labels1, test_data, model, num_display=0):\n",
    "    correct = 0\n",
    "    total = 0\n",
    "    misclass_ind = []\n",
    "    incorrect_imgs = []\n",
    "    incorrect_labels = []\n",
    "    predicted_labels = []\n",
    "    # since we're not training, we don't need to calculate the gradients for our outputs\n",
    "    with torch.no_grad():\n",
    "        for data in testloader:\n",
    "            images, features, labels = data\n",
    "            if torch.cuda.is_available():\n",
    "              images = images.cuda()\n",
    "              labels = labels.cuda()\n",
    "              features = features.cuda()\n",
    "            # calculate outputs by running images through the network\n",
    "            outputs = model(images, features)\n",
    "            # the class with the highest energy is what we choose as prediction\n",
    "            _, predicted = torch.max(outputs.data, 1)\n",
    "            correct += (predicted == labels).sum().item() # Calculate number correct\n",
    "            if ((predicted != labels).sum().item()) > 0:\n",
    "                incorrect = predicted - labels\n",
    "                for i in range(len(incorrect)):\n",
    "                    if incorrect[i] != 0:\n",
    "                        incorrect_imgs.append(images[i])\n",
    "                        misclass_ind.append(total + i)\n",
    "                        incorrect_labels.append(labels[i])\n",
    "                        predicted_labels.append(predicted[i])\n",
    "\n",
    "                    \n",
    "            total += labels.size(0) # for each batch (size=4), predict the labels\n",
    "\n",
    "    print(f'Accuracy of the network on the {total} test images: {100 * correct // total} %')\n",
    "    incorrect_images = torch.Tensor(np.asarray([test_data[i][0] for i in misclass_ind])).cpu()\n",
    "    if num_display < len(incorrect_images):\n",
    "      incorrect_images = incorrect_images[0:num_display]\n",
    "      incorrect_imgs = incorrect_imgs[0:num_display]\n",
    "    if len(incorrect_images) != 0:\n",
    "      imshow(torchvision.utils.make_grid(incorrect_imgs))\n",
    "      print(\"Actual labels: \" +\n",
    "            ' '.join(f'{classes[incorrect_labels[j]]:5s}' for j in range(num_display)))\n",
    "      print(\"predicted labels: \" +\n",
    "            ' '.join(f'{classes[predicted_labels[j]]:5s}' for j in range(num_display)))\n",
    "\n",
    "    return correct, total"
   ]
  },
  {
   "cell_type": "markdown",
   "metadata": {
    "id": "RIMKvl7Gdhgi"
   },
   "source": [
    "### Utils:\n",
    "\n",
    "Here are additional Functions related to visualizing images, training Loss, validation, dev loss, validation, etc."
   ]
  },
  {
   "cell_type": "code",
   "execution_count": 5,
   "metadata": {
    "id": "OyAl5aUOdqKy"
   },
   "outputs": [],
   "source": [
    "def imshow(img):\n",
    "  # Unnormalize the image before showing!\n",
    "    \"\"\"Shows a specific image based on the input data\n",
    "\n",
    "    Args:\n",
    "        img (np.ndarray): A normalized image with values [0, 1] to display\n",
    "                          [3, x_dim, y_dim] input shape\n",
    "\n",
    "    Returns:\n",
    "        N/A\n",
    "    \"\"\"\n",
    "    invTrans = transforms.Compose([ transforms.Normalize(mean = [ 0., 0., 0. ],\n",
    "                                                        std = [ 1/0.229, 1/0.224, 1/0.225 ]),\n",
    "                                    transforms.Normalize(mean = [ -0.485, -0.456, -0.406 ],\n",
    "                                                        std = [ 1., 1., 1. ]),\n",
    "                                  ])\n",
    "    img = invTrans(img.cpu())\n",
    "    plt.figure(figsize=(10,10))\n",
    "    plt.imshow(np.transpose(img, (1, 2, 0)))\n",
    "    plt.show()\n",
    "\n",
    "\n",
    "def accuracy(y : np.ndarray, y_hat : np.ndarray) -> np.float64:\n",
    "    \"\"\"Calculate the simple accuracy given two numpy vectors, each with int values\n",
    "    corresponding to each class.\n",
    "\n",
    "    Args:\n",
    "        y (np.ndarray): actual value\n",
    "        y_hat (np.ndarray): predicted value\n",
    "\n",
    "    Returns:\n",
    "        np.float64: accuracy\n",
    "    \"\"\"\n",
    "    N = len(y)   \n",
    "    number_correct = N - np.count_nonzero(y - y_hat)\n",
    "    accuracy = number_correct / N\n",
    "    return accuracy\n",
    "\n",
    "\n",
    "def approx_train_acc_and_loss(model, train_data : np.ndarray, train_labels : np.ndarray) -> np.float64:\n",
    "    \"\"\"Given a model, training data and its associated labels, calculate the simple accuracy when the \n",
    "    model is applied to the training dataset.\n",
    "    This function is meant to be run during training to evaluate model training accuracy during training.\n",
    "\n",
    "    Args:\n",
    "        model (pytorch model): model class object.\n",
    "        train_data (np.ndarray): training data\n",
    "        train_labels (np.ndarray): training labels\n",
    "\n",
    "    Returns:\n",
    "        np.float64: simple accuracy\n",
    "    \"\"\"\n",
    "    idxs = np.random.choice(len(train_data), 1, replace=False)\n",
    "    x = torch.from_numpy(np.asarray([train_data[idxs[0]][0]]).astype(np.float32))\n",
    "    features = torch.from_numpy(np.asarray([train_data[idxs[0]][1]]).astype(np.float32))\n",
    "    y = torch.from_numpy(train_labels[idxs])\n",
    "    y = y.long()\n",
    "   \n",
    "    if torch.cuda.is_available():\n",
    "      x = x.cuda()\n",
    "      y = y.cuda()\n",
    "      features = features.cuda()\n",
    "    logits = model(x, features)\n",
    "    loss = F.cross_entropy(logits, y)\n",
    "    y_pred = torch.max(logits, 1)[1]\n",
    "    return accuracy(train_labels[idxs], y_pred.cpu().numpy()), loss.item()\n",
    "\n",
    "\n",
    "def dev_acc_and_loss(model, dev_data : np.ndarray, dev_labels : np.ndarray) -> np.float64:\n",
    "    \"\"\"Given a model, a validation dataset and its associated labels, calcualte the simple accuracy when the\n",
    "    model is applied to the validation dataset.\n",
    "    This function is meant to be run during training to evaluate model validation accuracy.\n",
    "\n",
    "    Args:\n",
    "        model (pytorch model): model class obj\n",
    "        dev_data (np.ndarray): validation data\n",
    "        dev_labels (np.ndarray): validation labels\n",
    "\n",
    "    Returns:\n",
    "        np.float64: simple validation accuracy\n",
    "    \"\"\"\n",
    "    dev_labels = np.asarray(dev_labels)\n",
    "\n",
    "    x = torch.from_numpy(np.asarray([c[0] for c in dev_data]).astype(np.float32))\n",
    "    features = torch.from_numpy(np.asarray([c[1] for c in dev_data]).astype(np.float32))\n",
    "    y = torch.from_numpy(dev_labels.astype(int))\n",
    "    y = y.long()\n",
    "    if torch.cuda.is_available():\n",
    "      x = x.cuda()\n",
    "      y = y.cuda()\n",
    "      features = features.cuda()\n",
    "    logits = model(x, features)\n",
    "    loss = F.cross_entropy(logits, y)\n",
    "    y_pred = torch.max(logits, 1)[1]\n",
    "    y_pred = y_pred.cpu()\n",
    "    return accuracy(dev_labels, y_pred.numpy()), loss.item()\n",
    "\n",
    "def plot_train_stats(epochs, train_losses, dev_accuracies):\n",
    "  fig, ax = plt.subplots(1, 2, figsize=(10,5))\n",
    "  ax[0].plot(epochs, train_losses)\n",
    "  ax[0].set_title(\"Training Loss\")\n",
    "  ax[0].set_xlabel(\"Epoch\")\n",
    "  ax[0].set_ylabel(\"Training Loss\")\n",
    "  ax[0].grid()\n",
    "\n",
    "  ax[1].plot(epochs, dev_accuracies)\n",
    "  ax[1].set_title(\"Development Accuracy\")\n",
    "  ax[1].set_xlabel(\"Epoch\")\n",
    "  ax[1].set_ylabel(\"Development Accuracy\")\n",
    "  ax[1].grid()\n",
    "\n",
    "  plt.tight_layout()"
   ]
  },
  {
   "cell_type": "markdown",
   "metadata": {
    "id": "0QUAoyockSAr"
   },
   "source": [
    "## Data loading"
   ]
  },
  {
   "cell_type": "code",
   "execution_count": 6,
   "metadata": {
    "id": "z_SdApfkiqCO"
   },
   "outputs": [],
   "source": [
    "def loadImages(path):\n",
    "    \"\"\"Shows a specific image based on the input data\n",
    "\n",
    "    Args:\n",
    "        path (string): Path to a folder of .png files. Let #=dataset num, l = letter represented, v=variation, a=augmentation\n",
    "                       Must be structured s.t. hand#_l_v_a.png\n",
    "\n",
    "    Returns:\n",
    "        imgs (list): The list of images from a specified dataset\n",
    "        labels (list): The list of labels corresponding to each image index\n",
    "\n",
    "    \"\"\"\n",
    "    imagesList = listdir(path)\n",
    "    imgs = []\n",
    "    labels = []\n",
    "    for image in imagesList: # iterate over all images in the folder\n",
    "        if imghdr.what(path + image) == 'png':\n",
    "            if (image[6].isalpha()): # 6th position is the letter\n",
    "                img = Image.open(path + image)\n",
    "                imgs.append(img)\n",
    "                labels.append(ord(image[6]) - ord('a')) # assumes that filename structure is 'handx_[label]_....'\n",
    "    return imgs, labels\n",
    "\n",
    "def applyTransforms(imgs, crop_size, resize):\n",
    "    \"\"\"Applies crop and resizing images to each input image\n",
    "\n",
    "    Args:\n",
    "        imgs (list): The list of images from a specified dataset\n",
    "        resize (int): An integer representing how to first scale the image prior to\n",
    "                      cropping\n",
    "        crop_size (int): An integer representing the center rectangle radius\n",
    "                         to crop each provided image\n",
    "\n",
    "\n",
    "    Returns:\n",
    "        imgs (list): The list of images from a specified dataset\n",
    "        labels (list): The list of labels corresponding to each image index\n",
    "\n",
    "    \"\"\"\n",
    "    # Define the necessary preprocessing transforms\n",
    "    num_imgs = len(imgs)\n",
    "    preprocess = transforms.Compose([\n",
    "      transforms.Resize(resize), # Hyperparameter\n",
    "      transforms.CenterCrop(crop_size),\n",
    "      transforms.ToTensor(),\n",
    "      transforms.Normalize(mean=[0.485, 0.456, 0.406], std=[0.229, 0.224, 0.225]),\n",
    "    ])\n",
    "\n",
    "    # Create tensor array\n",
    "    transforms_array = np.zeros((num_imgs, 3, crop_size, crop_size))\n",
    "    for i in range(num_imgs):\n",
    "      temp = preprocess(imgs[i])\n",
    "      transforms_array[i,:,:,:] = temp\n",
    "    \n",
    "    return transforms_array"
   ]
  },
  {
   "cell_type": "code",
   "execution_count": 7,
   "metadata": {
    "id": "DuA-waPwkgM8"
   },
   "outputs": [],
   "source": [
    "def train_dev_test_datasets(transforms_array, labels, dev_split=0.1, test_split=0.1, batch_size=4):\n",
    "  \"\"\"Create the trainloader, devloader, and testloader\n",
    "\n",
    "  Args:\n",
    "      transforms_array (Tensor): All of the pre-processed images (n, 3, 32, 32)\n",
    "      labels (list of strings): The ground truth labels\n",
    "      test_split (float): How to split the training, dev, and test data. Will be \n",
    "                          1-test_split, test_split/2, test_split/2, respectively\n",
    "      batch_size (int): the batch size for the train, dev, test loaders\n",
    "\n",
    "  Returns:\n",
    "      train_data (list of np.ndarrays): List of training images after split\n",
    "      train_labels (list): The list of labels corresponding to each train image index\n",
    "      train_data (list of np.ndarrays): List of dev images after split\n",
    "      train_labels (list): The list of labels corresponding to each dev image index  \n",
    "      train_data (list of np.ndarrays): List of test images after split\n",
    "      train_labels (list): The list of labels corresponding to each test image index\n",
    "\n",
    "  \"\"\"\n",
    "  ## Create the training dataand trainloader\n",
    "  train_data, dev_data, train_labels, dev_labels = train_test_split(transforms_array, labels, test_size=(dev_split+test_split), random_state=42)\n",
    "  dev_data, test_data, dev_labels, test_labels = train_test_split(dev_data, dev_labels, test_size=(test_split/(dev_split+test_split)), random_state=42)\n",
    "\n",
    "  # Save the labels as np.ndarrays()\n",
    "  train_labels = np.asarray(train_labels)\n",
    "  dev_labels = np.asarray(dev_labels)\n",
    "  test_labels = np.asarray(test_labels)\n",
    "\n",
    "  return [train_data, train_labels, dev_data, dev_labels, test_data, test_labels]\n",
    "\n",
    "\n",
    "def create_dataloaders(dataset, labels, shuffle=True, batch_size=4):\n",
    "  \"\"\"Create the train, dev, and test data + labels\n",
    "\n",
    "  Args:\n",
    "\n",
    "      test_split (float): How to split the training, dev, and test data. Will be \n",
    "                          1-test_split, test_split/2, test_split/2, respectively\n",
    "      batch_size (int): the batch size for the train, dev, test loaders\n",
    "\n",
    "  Returns:\n",
    "      trainloader (torch.utils.data.DataLoader): Dataloader for training data\n",
    "      trainloader (torch.utils.data.DataLoader): Dataloader for training data\n",
    "      trainloader (torch.utils.data.DataLoader): Dataloader for training data\n",
    "  \"\"\"\n",
    "\n",
    "  data_and_labels = []\n",
    "  for i in range(len(dataset)):\n",
    "    sample = (torch.Tensor(train_data[i][0][:, :, :]), torch.Tensor(train_data[i][1]), train_labels[i])\n",
    "    data_and_labels.append(sample)\n",
    "\n",
    "  dataloader = torch.utils.data.DataLoader(data_and_labels, batch_size=batch_size,\n",
    "                                            shuffle=shuffle, num_workers=2)\n",
    "  \n",
    "  ## Create the Test data and testloader\n",
    "\n",
    "\n",
    "  return dataloader\n"
   ]
  },
  {
   "cell_type": "code",
   "execution_count": 8,
   "metadata": {
    "colab": {
     "base_uri": "https://localhost:8080/"
    },
    "id": "yF2ZdBIah20U",
    "outputId": "2e83ce0f-4d5f-4644-83c5-780e90ac3de1"
   },
   "outputs": [],
   "source": [
    "orig_data_path = \"./handgesturedataset_part1/\"\n",
    "aug_data_path = \"./FinalImages/\"\n",
    "mult_augments_path = \"./Mult_Augments/\""
   ]
  },
  {
   "cell_type": "code",
   "execution_count": 9,
   "metadata": {
    "colab": {
     "base_uri": "https://localhost:8080/"
    },
    "id": "6IvhmjA1iid2",
    "outputId": "87048227-c8df-4e50-d9c5-53910511f219"
   },
   "outputs": [
    {
     "name": "stdout",
     "output_type": "stream",
     "text": [
      "Total number of images in Orig Dataset is: 650\n",
      "Features Shape for Orig Dataset is: (650, 402)\n"
     ]
    }
   ],
   "source": [
    "### Get all the images + labels into folder... this takes a while\n",
    "\n",
    "orig_imgs, orig_labels = loadImages(orig_data_path)\n",
    "print(f\"Total number of images in Orig Dataset is: {len(orig_imgs)}\")\n",
    "\n",
    "orig_alpha = np.load(\"./features/a.npy\")\n",
    "orig_convex = np.load(\"./features/c.npy\")\n",
    "orig_cvx = np.load(\"./features/cvx.npy\")\n",
    "orig_htb = np.load(\"./features/htb.npy\")\n",
    "\n",
    "orig_features = np.append(orig_alpha, orig_convex, axis=1)\n",
    "orig_features = np.append(orig_features, orig_cvx.reshape(orig_convex.shape[0], 1), axis=1)\n",
    "orig_features = np.append(orig_features, orig_htb.reshape(orig_convex.shape[0], 1), axis=1)\n",
    "\n",
    "print(f\"Features Shape for Orig Dataset is: {orig_features.shape}\")"
   ]
  },
  {
   "cell_type": "code",
   "execution_count": 10,
   "metadata": {},
   "outputs": [
    {
     "name": "stdout",
     "output_type": "stream",
     "text": [
      "Total number of images in Aug Dataset is: 3900\n",
      "Features Shape for Orig Dataset is: (3900, 402)\n"
     ]
    }
   ],
   "source": [
    "aug_imgs, aug_labels = loadImages(aug_data_path)\n",
    "print(f\"Total number of images in Aug Dataset is: {len(aug_imgs)}\")\n",
    "\n",
    "aug_alpha = np.load(\"./features/aFinal.npy\")\n",
    "aug_convex = np.load(\"./features/cFinal.npy\")\n",
    "aug_cvx = np.load(\"./features/cvxFinal.npy\")\n",
    "aug_htb = np.load(\"./features/htbFinal.npy\")\n",
    "\n",
    "aug_features = np.append(aug_alpha, aug_convex, axis=1)\n",
    "aug_features = np.append(aug_features, aug_cvx.reshape(aug_convex.shape[0], 1), axis=1)\n",
    "aug_features = np.append(aug_features, aug_htb.reshape(aug_convex.shape[0], 1), axis=1)\n",
    "\n",
    "print(f\"Features Shape for Orig Dataset is: {aug_features.shape}\")"
   ]
  },
  {
   "cell_type": "code",
   "execution_count": 11,
   "metadata": {
    "scrolled": true
   },
   "outputs": [
    {
     "name": "stdout",
     "output_type": "stream",
     "text": [
      "Total number of images in Mult_Aug Dataset is: 650\n",
      "Features Shape for Orig Dataset is: (650, 402)\n"
     ]
    }
   ],
   "source": [
    "mult_aug_imgs, mult_aug_labels = loadImages(mult_augments_path)\n",
    "print(f\"Total number of images in Mult_Aug Dataset is: {len(mult_aug_imgs)}\")\n",
    "\n",
    "mult_aug_alpha = np.load(\"./features/aMult.npy\")\n",
    "mult_aug_convex = np.load(\"./features/cMult.npy\")\n",
    "mult_aug_cvx = np.load(\"./features/cvxMult.npy\")\n",
    "mult_aug_htb = np.load(\"./features/htbMult.npy\")\n",
    "\n",
    "mult_aug_features = np.append(mult_aug_alpha, mult_aug_convex, axis=1)\n",
    "mult_aug_features = np.append(mult_aug_features, mult_aug_cvx.reshape(mult_aug_convex.shape[0], 1), axis=1)\n",
    "mult_aug_features = np.append(mult_aug_features, mult_aug_htb.reshape(mult_aug_convex.shape[0], 1), axis=1)\n",
    "\n",
    "print(f\"Features Shape for Orig Dataset is: {mult_aug_features.shape}\")"
   ]
  },
  {
   "cell_type": "markdown",
   "metadata": {
    "id": "OaSLkAq9hzoO"
   },
   "source": [
    "## Training, testing, and analysis!\n",
    "\n",
    "**Note**: Assume google drive has the dataset folders in the path specified.\n",
    "1. \"Data_full\" -> One dataset in the handgestures dataset of the images\n",
    "2. \"FinalImages\" -> Dataset with only single augmentation data\n",
    "3. \"Mult_Augments\" -> Dataset with multiple augmentations"
   ]
  },
  {
   "cell_type": "code",
   "execution_count": 12,
   "metadata": {
    "id": "eUb0tF_ds-ba"
   },
   "outputs": [],
   "source": [
    "### Add additional parameters for SimpleCNN\n",
    "batch_size = 4\n",
    "channels = 3\n",
    "xdim = 32\n",
    "ydim = 32\n",
    "classes = list(string.ascii_uppercase) # A-Z"
   ]
  },
  {
   "cell_type": "markdown",
   "metadata": {
    "id": "7rThq6XSz3ps"
   },
   "source": [
    "### Train/Test on Normal Dataset"
   ]
  },
  {
   "cell_type": "markdown",
   "metadata": {
    "id": "HZvN1qVK0Bem"
   },
   "source": [
    "#### Train"
   ]
  },
  {
   "cell_type": "code",
   "execution_count": 13,
   "metadata": {
    "id": "8CtZgW_ctC1_"
   },
   "outputs": [],
   "source": [
    "\n",
    "\n",
    "# Preprocess the data to feed into LeNet 32x32\n",
    "transforms_array_train = applyTransforms(orig_imgs, crop_size=xdim, resize=15)\n",
    "\n",
    "orig_data_list = []\n",
    "for i in range(transforms_array_train.shape[0]):\n",
    "    orig_data_list.append((transforms_array_train[i], orig_features[i]))\n",
    "\n",
    "\n",
    "train_data, train_labels, dev_data, dev_labels, test_data, test_labels = train_dev_test_datasets(orig_data_list, orig_labels, batch_size=batch_size)\n",
    "\n",
    "trainloader = create_dataloaders(train_data, train_labels, shuffle=True, batch_size=4)\n"
   ]
  },
  {
   "cell_type": "code",
   "execution_count": 14,
   "metadata": {
    "id": "RvYiGOp-i48_"
   },
   "outputs": [],
   "source": [
    "lenet_no_aug = LeNet()\n",
    "\n",
    "lr = 0.001\n",
    "criterion = nn.CrossEntropyLoss()\n",
    "optimizer = optim.Adam(lenet_no_aug.parameters(), lr=lr) # Adam converges faster; generally used\n",
    "\n",
    "# Use GPU if available\n",
    "device = torch.device(\"cuda\" if torch.cuda.is_available() else \"cpu\")\n",
    "lenet_no_aug.to(device);"
   ]
  },
  {
   "cell_type": "code",
   "execution_count": 15,
   "metadata": {
    "colab": {
     "base_uri": "https://localhost:8080/"
    },
    "id": "h2VBBEmyjGMm",
    "outputId": "3b5b35ee-272b-467d-9e16-632b1f22917c"
   },
   "outputs": [
    {
     "name": "stdout",
     "output_type": "stream",
     "text": [
      "On step 0:\tTrain loss 4.504528999328613\t|\tDev acc is 0.09230769230769231\n",
      "On step 2:\tTrain loss 0.5638648867607117\t|\tDev acc is 0.6461538461538462\n",
      "On step 4:\tTrain loss 0.055464066565036774\t|\tDev acc is 0.9538461538461539\n",
      "On step 6:\tTrain loss 0.027203645557165146\t|\tDev acc is 0.9230769230769231\n",
      "On step 8:\tTrain loss 0.01912253350019455\t|\tDev acc is 0.9692307692307692\n",
      "On step 10:\tTrain loss 0.00035148640745319426\t|\tDev acc is 0.9538461538461539\n",
      "On step 12:\tTrain loss 0.03411271795630455\t|\tDev acc is 0.8923076923076924\n",
      "On step 14:\tTrain loss 1.1920928244535389e-07\t|\tDev acc is 0.9846153846153847\n",
      "On step 16:\tTrain loss 7.915183232398704e-05\t|\tDev acc is 0.9538461538461539\n",
      "On step 18:\tTrain loss 0.001453891978599131\t|\tDev acc is 0.9846153846153847\n",
      "On step 20:\tTrain loss 0.0030544791370630264\t|\tDev acc is 0.9846153846153847\n",
      "On step 22:\tTrain loss 7.748573807475623e-06\t|\tDev acc is 0.9846153846153847\n",
      "On step 24:\tTrain loss 0.0011510183103382587\t|\tDev acc is 1.0\n",
      "On step 26:\tTrain loss 2.074220174108632e-05\t|\tDev acc is 1.0\n",
      "On step 28:\tTrain loss 4.768370445162873e-07\t|\tDev acc is 1.0\n",
      "Finished Training\n"
     ]
    }
   ],
   "source": [
    "epochs, train_losses, dev_accuracies = train_model(trainloader, train_data, train_labels, dev_data, dev_labels, \n",
    "                                                   criterion, optimizer, lenet_no_aug, num_images=len(train_data), n=30)\n"
   ]
  },
  {
   "cell_type": "code",
   "execution_count": 16,
   "metadata": {
    "colab": {
     "base_uri": "https://localhost:8080/",
     "height": 368
    },
    "id": "CHwAwFlfkhPc",
    "outputId": "8ba3ba38-801a-4766-bac3-ab26101649a8"
   },
   "outputs": [
    {
     "data": {
      "image/png": "[encoded data removed]",
      "text/plain": [
       "<Figure size 720x360 with 2 Axes>"
      ]
     },
     "metadata": {
      "needs_background": "light"
     },
     "output_type": "display_data"
    }
   ],
   "source": [
    "plot_train_stats(epochs, train_losses, dev_accuracies)"
   ]
  },
  {
   "cell_type": "markdown",
   "metadata": {
    "id": "GzFaSjsspqCD"
   },
   "source": [
    "#### Test\n",
    "\n",
    "Now that the model is built, it's time to test it on the held-out testing data"
   ]
  },
  {
   "cell_type": "code",
   "execution_count": 17,
   "metadata": {
    "colab": {
     "base_uri": "https://localhost:8080/",
     "height": 271
    },
    "id": "-1RmdKnDnzM9",
    "outputId": "e2f36af0-69d8-40d0-8dfd-db1c0ad83426",
    "scrolled": true
   },
   "outputs": [
    {
     "name": "stdout",
     "output_type": "stream",
     "text": [
      "Evalating on the held-out test set...\n",
      "Accuracy of the network on the 65 test images: 100 %\n",
      "Correct: 65 \n",
      "Total: 65\n"
     ]
    }
   ],
   "source": [
    "testloader = create_dataloaders(test_data, test_labels, shuffle=True, batch_size=4)\n",
    "print(\"Evalating on the held-out test set...\")\n",
    "correct, total = test_model(testloader, test_labels, test_data, lenet_no_aug, num_display=5)\n",
    "print(f\"Correct: {correct} \\nTotal: {total}\")"
   ]
  },
  {
   "cell_type": "code",
   "execution_count": 18,
   "metadata": {
    "id": "hi83X5zlp9g6"
   },
   "outputs": [],
   "source": [
    "# Save the model!\n",
    "torch.save(lenet_no_aug.state_dict(), \"./models/lenet_no_aug_feat_650\")"
   ]
  },
  {
   "cell_type": "markdown",
   "metadata": {
    "id": "HZqmhpPCsBYJ"
   },
   "source": [
    "### Now, try the same process but with the data augmented dataset!\n",
    "\n",
    "This will allow us to determine the effect of data augmentation on testing accuracy"
   ]
  },
  {
   "cell_type": "markdown",
   "metadata": {
    "id": "AHb-uTx00OgM"
   },
   "source": [
    "#### Train"
   ]
  },
  {
   "cell_type": "code",
   "execution_count": 30,
   "metadata": {
    "id": "sxZEYun0r-i0"
   },
   "outputs": [],
   "source": [
    "# Preprocess the data to feed into LeNet 32x32\n",
    "transforms_array_train_aug = applyTransforms(aug_imgs, crop_size=xdim, resize=35)\n",
    "aug_data_list = []\n",
    "for i in range(transforms_array_train_aug.shape[0]):\n",
    "    aug_data_list.append((transforms_array_train_aug[i], aug_features[i]))\n",
    "\n",
    "train_data, train_labels, dev_data, dev_labels, test_data_aug, test_labels_aug = train_dev_test_datasets(aug_data_list, aug_labels, test_split=0.2, batch_size=batch_size)\n",
    "\n",
    "trainloader = create_dataloaders(train_data, train_labels, shuffle=True, batch_size=4)"
   ]
  },
  {
   "cell_type": "code",
   "execution_count": 31,
   "metadata": {
    "id": "GEQZXFNWsRPH"
   },
   "outputs": [],
   "source": [
    "lenet_with_aug = LeNet()\n",
    "\n",
    "lr = 0.001\n",
    "criterion = nn.CrossEntropyLoss()\n",
    "optimizer = optim.Adam(lenet_with_aug.parameters(), lr=lr) # Adam converges faster; generally used\n",
    "\n",
    "# Use GPU if available\n",
    "device = torch.device(\"cuda\" if torch.cuda.is_available() else \"cpu\")\n",
    "lenet_with_aug.to(device);"
   ]
  },
  {
   "cell_type": "code",
   "execution_count": 32,
   "metadata": {
    "colab": {
     "base_uri": "https://localhost:8080/"
    },
    "id": "n8xJTrJWsfNQ",
    "outputId": "dada4b37-40c8-4c30-b8aa-e36c1b18c63e"
   },
   "outputs": [
    {
     "name": "stdout",
     "output_type": "stream",
     "text": [
      "On step 0:\tTrain loss 1.9619427919387817\t|\tDev acc is 0.3076923076923077\n",
      "On step 2:\tTrain loss 1.2807178497314453\t|\tDev acc is 0.5769230769230769\n",
      "On step 4:\tTrain loss 0.3135908544063568\t|\tDev acc is 0.658974358974359\n",
      "On step 6:\tTrain loss 1.1808127164840698\t|\tDev acc is 0.7384615384615385\n",
      "On step 8:\tTrain loss 1.946564793586731\t|\tDev acc is 0.7589743589743589\n",
      "On step 10:\tTrain loss 0.025478828698396683\t|\tDev acc is 0.8153846153846154\n",
      "On step 12:\tTrain loss 0.6513949632644653\t|\tDev acc is 0.7128205128205128\n",
      "On step 14:\tTrain loss 3.513310432434082\t|\tDev acc is 0.7307692307692307\n",
      "On step 16:\tTrain loss 0.9036957025527954\t|\tDev acc is 0.8025641025641026\n",
      "On step 18:\tTrain loss 0.013830776326358318\t|\tDev acc is 0.8461538461538461\n",
      "On step 20:\tTrain loss 0.0014552014181390405\t|\tDev acc is 0.7923076923076923\n",
      "On step 22:\tTrain loss 0.0\t|\tDev acc is 0.7974358974358975\n",
      "On step 24:\tTrain loss 0.0\t|\tDev acc is 0.7897435897435897\n",
      "On step 26:\tTrain loss 4.751710414886475\t|\tDev acc is 0.8205128205128205\n",
      "On step 28:\tTrain loss 1.1920928244535389e-07\t|\tDev acc is 0.8564102564102564\n",
      "Finished Training\n"
     ]
    }
   ],
   "source": [
    "epochs, train_losses, dev_accuracies = train_model(trainloader, train_data, train_labels, dev_data, dev_labels, \n",
    "                                                   criterion, optimizer, lenet_with_aug, num_images=len(train_data), n=30)\n"
   ]
  },
  {
   "cell_type": "code",
   "execution_count": 33,
   "metadata": {
    "colab": {
     "base_uri": "https://localhost:8080/",
     "height": 368
    },
    "id": "EAzJbnnXsmE5",
    "outputId": "e8f2dc83-7de0-4060-c48f-65d1e649bec3"
   },
   "outputs": [
    {
     "data": {
      "image/png": "[encoded data removed]",
      "text/plain": [
       "<Figure size 720x360 with 2 Axes>"
      ]
     },
     "metadata": {
      "needs_background": "light"
     },
     "output_type": "display_data"
    }
   ],
   "source": [
    "plot_train_stats(epochs, train_losses, dev_accuracies)"
   ]
  },
  {
   "cell_type": "markdown",
   "metadata": {
    "id": "UgzVrpBQ0SO_"
   },
   "source": [
    "#### Test"
   ]
  },
  {
   "cell_type": "code",
   "execution_count": 38,
   "metadata": {
    "colab": {
     "base_uri": "https://localhost:8080/",
     "height": 271
    },
    "id": "tWnbjx9Isqq8",
    "outputId": "b30ed00b-e033-4343-8762-571b7043b432"
   },
   "outputs": [
    {
     "name": "stdout",
     "output_type": "stream",
     "text": [
      "Evalating on the held-out test set...\n",
      "Accuracy of the network on the 781 test images: 93 %\n"
     ]
    },
    {
     "data": {
      "image/png": "[encoded data removed]",
      "text/plain": [
       "<Figure size 720x720 with 1 Axes>"
      ]
     },
     "metadata": {
      "needs_background": "light"
     },
     "output_type": "display_data"
    },
    {
     "name": "stdout",
     "output_type": "stream",
     "text": [
      "Actual labels: S     P     B     M     G    \n",
      "predicted labels: T     J     R     E     H    \n",
      "Correct: 731 \n",
      "Total: 781\n"
     ]
    }
   ],
   "source": [
    "testloader = create_dataloaders(test_data_aug, test_labels_aug, shuffle=True, batch_size=4)\n",
    "print(\"Evalating on the held-out test set...\")\n",
    "correct, total = test_model(testloader, test_labels_aug, test_data_aug, lenet_with_aug, num_display=5)\n",
    "print(f\"Correct: {correct} \\nTotal: {total}\")\n"
   ]
  },
  {
   "cell_type": "code",
   "execution_count": 24,
   "metadata": {
    "id": "jdKW60rMti7X"
   },
   "outputs": [],
   "source": [
    "# Save the model!\n",
    "torch.save(lenet_with_aug.state_dict(), \"./models/lenet_with_aug_feat_3900\")"
   ]
  },
  {
   "cell_type": "markdown",
   "metadata": {
    "id": "r0a1cuUH0caC"
   },
   "source": [
    "### Test on Data-Augmented Dataset"
   ]
  },
  {
   "cell_type": "code",
   "execution_count": 25,
   "metadata": {
    "id": "byJzihDK0b00"
   },
   "outputs": [],
   "source": [
    "transforms_array_mult_aug_data = applyTransforms(mult_aug_imgs, crop_size=32, resize=35)\n",
    "\n",
    "mult_aug_data_list = []\n",
    "for i in range(transforms_array_mult_aug_data.shape[0]):\n",
    "    mult_aug_data_list.append((transforms_array_mult_aug_data[i], mult_aug_features[i]))\n",
    "\n",
    "mult_aug_testloader = create_dataloaders(mult_aug_data_list, mult_aug_labels)"
   ]
  },
  {
   "cell_type": "code",
   "execution_count": 26,
   "metadata": {
    "colab": {
     "base_uri": "https://localhost:8080/",
     "height": 212
    },
    "id": "dupYmGaq02GM",
    "outputId": "0a15d0bc-1258-4327-b9ee-fd33e0ba9fd5"
   },
   "outputs": [
    {
     "data": {
      "image/png": "[encoded data removed]",
      "text/plain": [
       "<Figure size 720x720 with 1 Axes>"
      ]
     },
     "metadata": {
      "needs_background": "light"
     },
     "output_type": "display_data"
    },
    {
     "name": "stdout",
     "output_type": "stream",
     "text": [
      "labels: C     F     W     A    \n"
     ]
    }
   ],
   "source": [
    "# Visualize how some of the images look after multiple augmentations\n",
    "dataiter = iter(mult_aug_testloader)\n",
    "images, features, labels = dataiter.next()\n",
    "\n",
    "imshow(torchvision.utils.make_grid(images))\n",
    "# print labels\n",
    "print(\"labels: \" + ' '.join(f'{classes[labels[j]]:5s}' for j in range(4)))\n"
   ]
  },
  {
   "cell_type": "markdown",
   "metadata": {
    "id": "2CVipLAm1JL8"
   },
   "source": [
    "#### Model trained on No Augmentations"
   ]
  },
  {
   "cell_type": "code",
   "execution_count": 27,
   "metadata": {
    "colab": {
     "base_uri": "https://localhost:8080/",
     "height": 271
    },
    "id": "vb60QZku1Qgc",
    "outputId": "4bea7f7b-137b-4f56-fda2-061baa959e72"
   },
   "outputs": [
    {
     "name": "stdout",
     "output_type": "stream",
     "text": [
      "Evalating on the held-out test set...\n",
      "Accuracy of the network on the 650 test images: 35 %\n"
     ]
    },
    {
     "data": {
      "image/png": "[encoded data removed]",
      "text/plain": [
       "<Figure size 720x720 with 1 Axes>"
      ]
     },
     "metadata": {
      "needs_background": "light"
     },
     "output_type": "display_data"
    },
    {
     "name": "stdout",
     "output_type": "stream",
     "text": [
      "Actual labels: D     B     T     C     U    \n",
      "predicted labels: L     Z     Z     K     K    \n",
      "Correct: 228 \n",
      "Total: 650\n"
     ]
    }
   ],
   "source": [
    "# Let's use the no augmentation to observe training time\n",
    "lenet_no_aug = LeNet()\n",
    "lenet_no_aug.load_state_dict(torch.load(\"./models/lenet_no_aug_feat_650\"))\n",
    "lenet_no_aug.eval()\n",
    "device = torch.device(\"cuda\" if torch.cuda.is_available() else \"cpu\")\n",
    "lenet_no_aug.to(device);\n",
    "\n",
    "print(\"Evalating on the held-out test set...\")\n",
    "correct, total = test_model(mult_aug_testloader, mult_aug_labels, transforms_array_mult_aug_data, lenet_no_aug, num_display=5)\n",
    "print(f\"Correct: {correct} \\nTotal: {total}\")\n",
    "\n"
   ]
  },
  {
   "cell_type": "markdown",
   "metadata": {
    "id": "R9S9JYef1NNj"
   },
   "source": [
    "#### Model trained on Single Augmentations"
   ]
  },
  {
   "cell_type": "code",
   "execution_count": 28,
   "metadata": {
    "colab": {
     "base_uri": "https://localhost:8080/",
     "height": 271
    },
    "id": "t6gf5-Ic057W",
    "outputId": "2fa4acb2-c63b-44e0-da5e-e8c1a760adf7"
   },
   "outputs": [
    {
     "name": "stdout",
     "output_type": "stream",
     "text": [
      "Evalating on the held-out test set...\n",
      "Accuracy of the network on the 650 test images: 95 %\n"
     ]
    },
    {
     "data": {
      "image/png": "[encoded data removed]",
      "text/plain": [
       "<Figure size 720x720 with 1 Axes>"
      ]
     },
     "metadata": {
      "needs_background": "light"
     },
     "output_type": "display_data"
    },
    {
     "name": "stdout",
     "output_type": "stream",
     "text": [
      "Actual labels: V     J     M     G     C    \n",
      "predicted labels: R     I     Q     F     Q    \n",
      "Correct: 621 \n",
      "Total: 650\n"
     ]
    }
   ],
   "source": [
    "# Let's use the no augmentation to observe training time\n",
    "lenet_no_aug = LeNet()\n",
    "lenet_no_aug.load_state_dict(torch.load(\"./models/lenet_with_aug_feat_3900\"))\n",
    "lenet_no_aug.eval()\n",
    "device = torch.device(\"cuda\" if torch.cuda.is_available() else \"cpu\")\n",
    "lenet_no_aug.to(device);\n",
    "\n",
    "print(\"Evalating on the held-out test set...\")\n",
    "correct, total = test_model(mult_aug_testloader, mult_aug_labels, transforms_array_mult_aug_data, lenet_with_aug, num_display=5)\n",
    "print(f\"Correct: {correct} \\nTotal: {total}\")\n",
    "\n"
   ]
  }
 ],
 "metadata": {
  "accelerator": "GPU",
  "colab": {
   "authorship_tag": "ABX9TyON/ZtGBwT5kQP3xIpfasuD",
   "include_colab_link": true,
   "name": "SimpleCNN.ipynb",
   "provenance": [],
   "toc_visible": true
  },
  "kernelspec": {
   "display_name": "Python 3 (ipykernel)",
   "language": "python",
   "name": "python3"
  },
  "language_info": {
   "codemirror_mode": {
    "name": "ipython",
    "version": 3
   },
   "file_extension": ".py",
   "mimetype": "text/x-python",
   "name": "python",
   "nbconvert_exporter": "python",
   "pygments_lexer": "ipython3",
   "version": "3.9.7"
  }
 },
 "nbformat": 4,
 "nbformat_minor": 1
}
